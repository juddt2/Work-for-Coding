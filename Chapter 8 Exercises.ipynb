{
 "cells": [
  {
   "cell_type": "markdown",
   "id": "fb357ca7",
   "metadata": {},
   "source": [
    "# Chapter 8 Exercises"
   ]
  },
  {
   "cell_type": "markdown",
   "id": "3eaa1d27",
   "metadata": {},
   "source": [
    "### Programming Exercise Question 1"
   ]
  },
  {
   "cell_type": "code",
   "execution_count": 7,
   "id": "6050c3a2",
   "metadata": {},
   "outputs": [
    {
     "name": "stdout",
     "output_type": "stream",
     "text": [
      "Enter your first name: Travis\n",
      "Enter your middle name: Michael\n",
      "Enter your last name: Judd\n",
      "T. M. J\n"
     ]
    }
   ],
   "source": [
    "def main():\n",
    "    # get names from user\n",
    "    first_name=input('Enter your first name: ')\n",
    "    middle_name=input('Enter your middle name: ')\n",
    "    last_name=input('Enter your last name: ')\n",
    "    \n",
    "    # print initials\n",
    "    print(f'{first_name[0]}. {middle_name[0]}.{last_name[0]}')\n",
    "    \n",
    "# call main\n",
    "main()"
   ]
  },
  {
   "cell_type": "code",
   "execution_count": null,
   "id": "20c73c1e",
   "metadata": {},
   "outputs": [],
   "source": []
  }
 ],
 "metadata": {
  "kernelspec": {
   "display_name": "Python 3 (ipykernel)",
   "language": "python",
   "name": "python3"
  },
  "language_info": {
   "codemirror_mode": {
    "name": "ipython",
    "version": 3
   },
   "file_extension": ".py",
   "mimetype": "text/x-python",
   "name": "python",
   "nbconvert_exporter": "python",
   "pygments_lexer": "ipython3",
   "version": "3.11.4"
  }
 },
 "nbformat": 4,
 "nbformat_minor": 5
}
