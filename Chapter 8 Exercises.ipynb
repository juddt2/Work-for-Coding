{
 "cells": [
  {
   "cell_type": "markdown",
   "id": "af217cdd",
   "metadata": {},
   "source": [
    "# Chapter 8 Exercises"
   ]
  },
  {
   "cell_type": "markdown",
   "id": "c0385828",
   "metadata": {},
   "source": [
    "### Algorithm Workbench Question 6"
   ]
  },
  {
   "cell_type": "code",
   "execution_count": 26,
   "id": "64fd119e",
   "metadata": {},
   "outputs": [
    {
     "name": "stdout",
     "output_type": "stream",
     "text": [
      "GO LIONS\n"
     ]
    }
   ],
   "source": [
    "def main():\n",
    "    # get the string\n",
    "    lions='go lions'\n",
    "    \n",
    "    # show the uppercase letters\n",
    "    print(lions.upper())\n",
    "    \n",
    "# call main\n",
    "main()\n",
    "    "
   ]
  },
  {
   "cell_type": "markdown",
   "id": "e976c153",
   "metadata": {},
   "source": [
    "### Algorithm Workbench Question 8\n",
    "In this exercise I am asked to use a slicing expression to get the first 3 characters of a string. I first need to have 'mystring' reference a string. I get a string of words and use the slicing expression after the words to get the characters 0-3. I then need to show the output so I get a print statement to show the first 3 characters. "
   ]
  },
  {
   "cell_type": "code",
   "execution_count": 23,
   "id": "fa9937d4",
   "metadata": {},
   "outputs": [
    {
     "name": "stdout",
     "output_type": "stream",
     "text": [
      "The first 3 characters are I'm\n"
     ]
    }
   ],
   "source": [
    "def main():\n",
    "    # get a string and get the first 3 characters\n",
    "    mystring=\"I'm hoping this works\"[0:3]\n",
    "    \n",
    "    # show the first 3 characters\n",
    "    print(f'The first 3 characters are {mystring}')\n",
    "    \n",
    "main()"
   ]
  },
  {
   "cell_type": "markdown",
   "id": "ee955ee7",
   "metadata": {},
   "source": [
    "### Programming Exercise Question 1\n",
    "In this exercise I am asked to write a string that gets the users name then show their initials. First I got 3 names from the user and assigned them to 3 strings. I then need to show the initials so I create a print statement. I use an f-string to get periods between the strings. I use string indexes to get the copy of the character at index 0 which would be the first character of the names. "
   ]
  },
  {
   "cell_type": "code",
   "execution_count": 10,
   "id": "7a8633a4",
   "metadata": {},
   "outputs": [
    {
     "name": "stdout",
     "output_type": "stream",
     "text": [
      "Enter your first name: Travis\n",
      "Enter your middle name: Michael\n",
      "Enter your last name: Judd\n",
      "T.M.J\n"
     ]
    }
   ],
   "source": [
    "def main():\n",
    "    # get names\n",
    "    first_name=input('Enter your first name: ')\n",
    "    middle_name=input('Enter your middle name: ')\n",
    "    last_name=input('Enter your last name: ')\n",
    "    \n",
    "    # print initials\n",
    "    print(f'{first_name[0]}.{middle_name[0]}.{last_name[0]}')\n",
    "    \n",
    "# call main\n",
    "main()"
   ]
  },
  {
   "cell_type": "code",
   "execution_count": null,
   "id": "844872aa",
   "metadata": {},
   "outputs": [],
   "source": []
  }
 ],
 "metadata": {
  "kernelspec": {
   "display_name": "Python 3 (ipykernel)",
   "language": "python",
   "name": "python3"
  },
  "language_info": {
   "codemirror_mode": {
    "name": "ipython",
    "version": 3
   },
   "file_extension": ".py",
   "mimetype": "text/x-python",
   "name": "python",
   "nbconvert_exporter": "python",
   "pygments_lexer": "ipython3",
   "version": "3.11.4"
  }
 },
 "nbformat": 4,
 "nbformat_minor": 5
}
