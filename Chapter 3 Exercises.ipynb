{
 "cells": [
  {
   "cell_type": "markdown",
   "id": "718db779",
   "metadata": {},
   "source": [
    "# Chapter 3 Exercises"
   ]
  },
  {
   "cell_type": "markdown",
   "id": "16384fdc",
   "metadata": {},
   "source": [
    "## Algorithm Workbench Question 4\n",
    "This question asks to align the code correctly. I decided to fully run the code so I gave some input to calculate the grade."
   ]
  },
  {
   "cell_type": "code",
   "execution_count": 2,
   "id": "632e1d23",
   "metadata": {},
   "outputs": [],
   "source": [
    "# Get grade thresholds"
   ]
  },
  {
   "cell_type": "code",
   "execution_count": 3,
   "id": "75ea2eaa",
   "metadata": {},
   "outputs": [],
   "source": [
    "A_score=90\n",
    "B_score=80\n",
    "C_score=70\n",
    "D_score=60"
   ]
  },
  {
   "cell_type": "code",
   "execution_count": 9,
   "id": "bd46d9eb",
   "metadata": {},
   "outputs": [],
   "source": [
    "# Get test score"
   ]
  },
  {
   "cell_type": "code",
   "execution_count": 7,
   "id": "0c081bc5",
   "metadata": {},
   "outputs": [
    {
     "name": "stdout",
     "output_type": "stream",
     "text": [
      "Enter test score: 87\n"
     ]
    }
   ],
   "source": [
    "score=int(input(\"Enter test score: \"))"
   ]
  },
  {
   "cell_type": "code",
   "execution_count": 10,
   "id": "4e6d0d41",
   "metadata": {},
   "outputs": [],
   "source": [
    "# Determine grade"
   ]
  },
  {
   "cell_type": "code",
   "execution_count": 8,
   "id": "28bba85a",
   "metadata": {},
   "outputs": [
    {
     "name": "stdout",
     "output_type": "stream",
     "text": [
      "Your grade in B\n"
     ]
    }
   ],
   "source": [
    "if score >= A_score:\n",
    "    print('Your grade in A')\n",
    "else:\n",
    "    if score >= B_score:\n",
    "        print('Your grade in B')\n",
    "    else:\n",
    "        if score >= C_score:\n",
    "            print('Your grade is C')\n",
    "        else:\n",
    "            if score >= D_score:\n",
    "                print('Your grade is D')\n",
    "            else:\n",
    "                print('Your grade is F')\n",
    "\n"
   ]
  },
  {
   "cell_type": "markdown",
   "id": "a9bb5712",
   "metadata": {},
   "source": [
    "## Algorithm Workbench Question 5"
   ]
  },
  {
   "cell_type": "code",
   "execution_count": 12,
   "id": "51b6e044",
   "metadata": {},
   "outputs": [
    {
     "name": "stdout",
     "output_type": "stream",
     "text": [
      "Enter amount 1: 17\n",
      "Enter amount 2: 73\n"
     ]
    }
   ],
   "source": [
    "amount1= int(input(\"Enter amount 1: \"))\n",
    "amount2= int(input(\"Enter amount 2: \"))"
   ]
  },
  {
   "cell_type": "code",
   "execution_count": 19,
   "id": "81e12983",
   "metadata": {},
   "outputs": [
    {
     "name": "stdout",
     "output_type": "stream",
     "text": [
      "{amount2} is greater than {amount1}\n"
     ]
    }
   ],
   "source": [
    "if amount1> 10 and amount2< 100:\n",
    "    if amount1>amount2:\n",
    "        print('{amount1} is greater than {amount2}')\n",
    "    elif amount2>amount1:\n",
    "        print('{amount2} is greater than {amount1}')\n",
    "else:\n",
    "    print('Amounts do not meet range')\n",
    "    "
   ]
  },
  {
   "cell_type": "code",
   "execution_count": null,
   "id": "1d0f5711",
   "metadata": {},
   "outputs": [],
   "source": []
  }
 ],
 "metadata": {
  "kernelspec": {
   "display_name": "Python 3 (ipykernel)",
   "language": "python",
   "name": "python3"
  },
  "language_info": {
   "codemirror_mode": {
    "name": "ipython",
    "version": 3
   },
   "file_extension": ".py",
   "mimetype": "text/x-python",
   "name": "python",
   "nbconvert_exporter": "python",
   "pygments_lexer": "ipython3",
   "version": "3.11.4"
  }
 },
 "nbformat": 4,
 "nbformat_minor": 5
}
