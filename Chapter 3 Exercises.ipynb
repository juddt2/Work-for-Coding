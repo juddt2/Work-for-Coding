{
 "cells": [
  {
   "cell_type": "markdown",
   "id": "72de7651",
   "metadata": {},
   "source": [
    "# Chapter 3 Exercises"
   ]
  },
  {
   "cell_type": "markdown",
   "id": "c513514b",
   "metadata": {},
   "source": [
    "## Algorithm Workbench Question 4"
   ]
  },
  {
   "cell_type": "code",
   "execution_count": 2,
   "id": "c6e79d5f",
   "metadata": {},
   "outputs": [],
   "source": [
    "# Get grade thresholds"
   ]
  },
  {
   "cell_type": "code",
   "execution_count": 3,
   "id": "976f559d",
   "metadata": {},
   "outputs": [],
   "source": [
    "A_score=90\n",
    "B_score=80\n",
    "C_score=70\n",
    "D_score=60"
   ]
  },
  {
   "cell_type": "code",
   "execution_count": 9,
   "id": "dd6824e5",
   "metadata": {},
   "outputs": [],
   "source": [
    "# Get test score"
   ]
  },
  {
   "cell_type": "code",
   "execution_count": 7,
   "id": "d44c7493",
   "metadata": {},
   "outputs": [
    {
     "name": "stdout",
     "output_type": "stream",
     "text": [
      "Enter test score: 87\n"
     ]
    }
   ],
   "source": [
    "score=int(input(\"Enter test score: \"))"
   ]
  },
  {
   "cell_type": "code",
   "execution_count": 10,
   "id": "cfe0a04b",
   "metadata": {},
   "outputs": [],
   "source": [
    "# Determine grade"
   ]
  },
  {
   "cell_type": "code",
   "execution_count": 8,
   "id": "a2c9a9bf",
   "metadata": {},
   "outputs": [
    {
     "name": "stdout",
     "output_type": "stream",
     "text": [
      "Your grade in B\n"
     ]
    }
   ],
   "source": [
    "if score >= A_score:\n",
    "    print('Your grade in A')\n",
    "else:\n",
    "    if score >= B_score:\n",
    "        print('Your grade in B')\n",
    "    else:\n",
    "        if score >= C_score:\n",
    "            print('Your grade is C')\n",
    "        else:\n",
    "            if score >= D_score:\n",
    "                print('Your grade is D')\n",
    "            else:\n",
    "                print('Your grade is F')\n",
    "\n"
   ]
  },
  {
   "cell_type": "code",
   "execution_count": null,
   "id": "ea821cc8",
   "metadata": {},
   "outputs": [],
   "source": []
  }
 ],
 "metadata": {
  "kernelspec": {
   "display_name": "Python 3 (ipykernel)",
   "language": "python",
   "name": "python3"
  },
  "language_info": {
   "codemirror_mode": {
    "name": "ipython",
    "version": 3
   },
   "file_extension": ".py",
   "mimetype": "text/x-python",
   "name": "python",
   "nbconvert_exporter": "python",
   "pygments_lexer": "ipython3",
   "version": "3.11.4"
  }
 },
 "nbformat": 4,
 "nbformat_minor": 5
}
