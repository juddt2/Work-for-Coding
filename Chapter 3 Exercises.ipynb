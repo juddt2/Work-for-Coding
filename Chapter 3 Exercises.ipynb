{
 "cells": [
  {
   "cell_type": "markdown",
   "id": "504863b8",
   "metadata": {},
   "source": [
    "# Chapter 3 Exercises"
   ]
  },
  {
   "cell_type": "markdown",
   "id": "f096fb8d",
   "metadata": {},
   "source": [
    "## Algorithm Workbench Question 4\n",
    "This question asks to align the code correctly. I created 4 variables for the program to store for grade thresholds. I then ran a statement that would ask the user to input some data. Once the user inputed data I then create if and else statements and correctly align them. The code runs succefully as the if and else statements are aligned.  "
   ]
  },
  {
   "cell_type": "code",
   "execution_count": 1,
   "id": "5419bd15",
   "metadata": {},
   "outputs": [],
   "source": [
    "# Get grade thresholds"
   ]
  },
  {
   "cell_type": "code",
   "execution_count": 2,
   "id": "96a05242",
   "metadata": {},
   "outputs": [],
   "source": [
    "A_score=90\n",
    "B_score=80\n",
    "C_score=70\n",
    "D_score=60"
   ]
  },
  {
   "cell_type": "code",
   "execution_count": 3,
   "id": "bca89f6c",
   "metadata": {},
   "outputs": [],
   "source": [
    "# Get test score"
   ]
  },
  {
   "cell_type": "code",
   "execution_count": 4,
   "id": "e5c92c69",
   "metadata": {},
   "outputs": [
    {
     "name": "stdout",
     "output_type": "stream",
     "text": [
      "Enter test score: 87\n"
     ]
    }
   ],
   "source": [
    "score=int(input(\"Enter test score: \"))"
   ]
  },
  {
   "cell_type": "code",
   "execution_count": 5,
   "id": "124bfd7c",
   "metadata": {},
   "outputs": [],
   "source": [
    "# Determine grade"
   ]
  },
  {
   "cell_type": "code",
   "execution_count": 6,
   "id": "75f4fff5",
   "metadata": {},
   "outputs": [
    {
     "name": "stdout",
     "output_type": "stream",
     "text": [
      "Your grade in B\n"
     ]
    }
   ],
   "source": [
    "if score >= A_score:\n",
    "    print('Your grade in A')\n",
    "else:\n",
    "    if score >= B_score:\n",
    "        print('Your grade in B')\n",
    "    else:\n",
    "        if score >= C_score:\n",
    "            print('Your grade is C')\n",
    "        else:\n",
    "            if score >= D_score:\n",
    "                print('Your grade is D')\n",
    "            else:\n",
    "                print('Your grade is F')\n",
    "\n"
   ]
  },
  {
   "cell_type": "markdown",
   "id": "c5a9c252",
   "metadata": {},
   "source": [
    "## Algorithm Workbench Question 5\n",
    "This question asks me to write a nested structure to compare 2 numbers to determine which one is greater. I started by getting input from the user to get the 2 amount variables. I then begin to write the nested structure. I started by creating an and statement to compare amout1 and amount2. Then I needed to show which number is greater. I a nested block to be able to have both amount1 being greater and amount2 being greater. If the 2 variables didnt match to start I created a else statement below the nested structure. "
   ]
  },
  {
   "cell_type": "code",
   "execution_count": 7,
   "id": "133a6b7e",
   "metadata": {},
   "outputs": [
    {
     "name": "stdout",
     "output_type": "stream",
     "text": [
      "Enter amount 1: 17\n",
      "Enter amount 2: 73\n"
     ]
    }
   ],
   "source": [
    "amount1= int(input(\"Enter amount 1: \"))\n",
    "amount2= int(input(\"Enter amount 2: \"))"
   ]
  },
  {
   "cell_type": "code",
   "execution_count": 8,
   "id": "697d359b",
   "metadata": {},
   "outputs": [
    {
     "name": "stdout",
     "output_type": "stream",
     "text": [
      "73 is greater than 17\n"
     ]
    }
   ],
   "source": [
    "if amount1> 10 and amount2< 100:\n",
    "    if amount1>amount2:\n",
    "        print(f'{amount1} is greater than {amount2}')\n",
    "    elif amount2>amount1:\n",
    "        print(f'{amount2} is greater than {amount1}')\n",
    "else:\n",
    "    print('Amounts do not meet range')\n",
    "    "
   ]
  },
  {
   "cell_type": "markdown",
   "id": "740819ca",
   "metadata": {},
   "source": [
    "## Programming Exercise 1\n",
    "This exercise I am asked to write a program that asks for user input that correlates with a day of the week. I first get input from the user to determine the number entered. I then create if and elif statements that correlate with print statements to run depending on what the user entered. The program then processes the input and then it outputs a print statement. "
   ]
  },
  {
   "cell_type": "code",
   "execution_count": 9,
   "id": "979cd7a1",
   "metadata": {},
   "outputs": [
    {
     "name": "stdout",
     "output_type": "stream",
     "text": [
      "Enter a number 1-7: 4\n"
     ]
    }
   ],
   "source": [
    "day= int(input('Enter a number 1-7: '))"
   ]
  },
  {
   "cell_type": "code",
   "execution_count": 10,
   "id": "c50d733f",
   "metadata": {},
   "outputs": [
    {
     "name": "stdout",
     "output_type": "stream",
     "text": [
      "Thursday\n"
     ]
    }
   ],
   "source": [
    "if day==1:\n",
    "    print('Monday')\n",
    "elif day==2:\n",
    "    print('Tuesday')\n",
    "elif day==3:\n",
    "    print('Wendesday')\n",
    "elif day==4:\n",
    "    print('Thursday')\n",
    "elif day==5:\n",
    "    print('Friday')\n",
    "elif day==6:\n",
    "    print('Saturday')\n",
    "elif day==7:\n",
    "    print('Sunday')\n",
    "else:\n",
    "    print('Error')"
   ]
  },
  {
   "cell_type": "markdown",
   "id": "a78444be",
   "metadata": {},
   "source": [
    "# Programming Exercise 5\n",
    "This exercise I am asked to convert mass in kilograms to weight in newtons then display the weight. First I get input from the user. I create the mass variable to equal what the user inputs. Then I create the weight variable to multiply mass by 9.8 to convert it over. I then need to determine if the object weighs correctly or not. I create a if,elif, and else string to determine what to output. Since the car weighs less than 500 and more than 100 it outputs the else string. "
   ]
  },
  {
   "cell_type": "code",
   "execution_count": 11,
   "id": "339eab2a",
   "metadata": {},
   "outputs": [],
   "source": [
    "# Get Objects mass"
   ]
  },
  {
   "cell_type": "code",
   "execution_count": 12,
   "id": "a539efbd",
   "metadata": {},
   "outputs": [
    {
     "name": "stdout",
     "output_type": "stream",
     "text": [
      "Mass of Car: 40\n"
     ]
    }
   ],
   "source": [
    "mass=int(input('Mass of Car: '))"
   ]
  },
  {
   "cell_type": "code",
   "execution_count": 13,
   "id": "23620939",
   "metadata": {},
   "outputs": [],
   "source": [
    "weight=(mass*9.8)"
   ]
  },
  {
   "cell_type": "code",
   "execution_count": 14,
   "id": "d0197237",
   "metadata": {},
   "outputs": [
    {
     "name": "stdout",
     "output_type": "stream",
     "text": [
      "The car weighs 392.0\n"
     ]
    }
   ],
   "source": [
    "if weight>500:\n",
    "    print('Car is too heavy')\n",
    "elif weight<100:\n",
    "    print('Car is too light')\n",
    "else:\n",
    "    print(f'The car weighs {weight}')"
   ]
  },
  {
   "cell_type": "markdown",
   "id": "7c1fca93",
   "metadata": {},
   "source": [
    "## Programming Exercise 17\n",
    "This Exercise I am asked to write a program to troubleshoot a WiFi connection issue. I first created a print statement to ask the user. If the user inputs no I created another if statement if the user inputed no. If the user did not input no for any of the if statements I created a else statement to say connected. "
   ]
  },
  {
   "cell_type": "code",
   "execution_count": 15,
   "id": "14efbcf7",
   "metadata": {},
   "outputs": [
    {
     "name": "stdout",
     "output_type": "stream",
     "text": [
      "Reboot the computer and try to connect\n",
      "Did that fix the problem? no\n",
      "Make sure the cables are plugged in firmly\n",
      "Did that fix the problem? no\n",
      "Move the router to a new location and reconnect\n",
      "Did that fix the problem? no\n",
      "Get a new router\n"
     ]
    }
   ],
   "source": [
    "print(\"Reboot the computer and try to connect\")\n",
    "user=input('Did that fix the problem? ')\n",
    "if user=='no':\n",
    "    print('Make sure the cables are plugged in firmly')\n",
    "    user=input('Did that fix the problem? ')\n",
    "if user=='no':\n",
    "    print('Move the router to a new location and reconnect')\n",
    "    user=input('Did that fix the problem? ')\n",
    "if user=='no':\n",
    "    print('Get a new router')\n",
    "else:\n",
    "    print('Connected')"
   ]
  },
  {
   "cell_type": "markdown",
   "id": "7fb48259",
   "metadata": {},
   "source": [
    "## Programming Exercise 15\n",
    "In this exercise I am asked to convert"
   ]
  },
  {
   "cell_type": "code",
   "execution_count": 16,
   "id": "ffc2feb7",
   "metadata": {},
   "outputs": [],
   "source": [
    "# get seconds"
   ]
  },
  {
   "cell_type": "code",
   "execution_count": 54,
   "id": "021b4f08",
   "metadata": {},
   "outputs": [
    {
     "name": "stdout",
     "output_type": "stream",
     "text": [
      "Enter the number of seconds 66667984\n"
     ]
    }
   ],
   "source": [
    "time=int(input('Enter the number of seconds '))"
   ]
  },
  {
   "cell_type": "code",
   "execution_count": null,
   "id": "55291978",
   "metadata": {},
   "outputs": [],
   "source": [
    "# set variables"
   ]
  },
  {
   "cell_type": "code",
   "execution_count": 52,
   "id": "a9f78145",
   "metadata": {},
   "outputs": [],
   "source": [
    "days=time//86400\n",
    "time=time % 86400\n",
    "\n",
    "hours=time // 3600\n",
    "time=time % 3600\n",
    "\n",
    "minutes=time//60\n",
    "time=time % 60\n",
    "\n",
    "seconds = time"
   ]
  },
  {
   "cell_type": "code",
   "execution_count": 53,
   "id": "b9cce425",
   "metadata": {},
   "outputs": [
    {
     "name": "stdout",
     "output_type": "stream",
     "text": [
      "771 day(s) 14 hour(s) 53 minute(s) 1 second(s)\n"
     ]
    }
   ],
   "source": [
    "if days<=86400:\n",
    "    print(f'{days} day(s) {hours} hour(s) {minutes} minute(s) {seconds} second(s)')\n",
    "elif hours<=3600:\n",
    "    print(f'{hours} hour(s) {minutes} minute(s) {seconds} second(s)')\n",
    "elif minutes<=60:\n",
    "     print(f'{minutes} minute(s) {seconds} second(s)')\n",
    "elif seconds<=1:\n",
    "    print(f'{seconds} second(s)')\n",
    "\n"
   ]
  },
  {
   "cell_type": "code",
   "execution_count": null,
   "id": "1a307c5f",
   "metadata": {},
   "outputs": [],
   "source": []
  },
  {
   "cell_type": "code",
   "execution_count": null,
   "id": "1f9283b5",
   "metadata": {},
   "outputs": [],
   "source": []
  },
  {
   "cell_type": "code",
   "execution_count": null,
   "id": "26901514",
   "metadata": {},
   "outputs": [],
   "source": []
  },
  {
   "cell_type": "code",
   "execution_count": null,
   "id": "a9fd5720",
   "metadata": {},
   "outputs": [],
   "source": []
  }
 ],
 "metadata": {
  "kernelspec": {
   "display_name": "Python 3 (ipykernel)",
   "language": "python",
   "name": "python3"
  },
  "language_info": {
   "codemirror_mode": {
    "name": "ipython",
    "version": 3
   },
   "file_extension": ".py",
   "mimetype": "text/x-python",
   "name": "python",
   "nbconvert_exporter": "python",
   "pygments_lexer": "ipython3",
   "version": "3.11.4"
  }
 },
 "nbformat": 4,
 "nbformat_minor": 5
}
