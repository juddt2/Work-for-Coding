{
 "cells": [
  {
   "cell_type": "markdown",
   "id": "843d3971",
   "metadata": {},
   "source": [
    "# Chapter 3 Exercises"
   ]
  },
  {
   "cell_type": "markdown",
   "id": "8bab6dcd",
   "metadata": {},
   "source": [
    "## Algorithm Workbench Question 4\n",
    "This question asks to align the code correctly. I created 4 variables for the program to store for grade thresholds. I then ran a statement that would ask the user to input some data. Once the user inputed data I then create if and else statements and correctly align them. The code runs succefully as the if and else statements are aligned.  "
   ]
  },
  {
   "cell_type": "code",
   "execution_count": 1,
   "id": "ae98fce0",
   "metadata": {},
   "outputs": [],
   "source": [
    "# Get grade thresholds"
   ]
  },
  {
   "cell_type": "code",
   "execution_count": 2,
   "id": "0f44a361",
   "metadata": {},
   "outputs": [],
   "source": [
    "A_score=90\n",
    "B_score=80\n",
    "C_score=70\n",
    "D_score=60"
   ]
  },
  {
   "cell_type": "code",
   "execution_count": 3,
   "id": "cf63b2cd",
   "metadata": {},
   "outputs": [],
   "source": [
    "# Get test score"
   ]
  },
  {
   "cell_type": "code",
   "execution_count": 4,
   "id": "951e9aa3",
   "metadata": {},
   "outputs": [
    {
     "name": "stdout",
     "output_type": "stream",
     "text": [
      "Enter test score: 87\n"
     ]
    }
   ],
   "source": [
    "score=int(input(\"Enter test score: \"))"
   ]
  },
  {
   "cell_type": "code",
   "execution_count": 5,
   "id": "490eb800",
   "metadata": {},
   "outputs": [],
   "source": [
    "# Determine grade"
   ]
  },
  {
   "cell_type": "code",
   "execution_count": 6,
   "id": "17f51aa7",
   "metadata": {},
   "outputs": [
    {
     "name": "stdout",
     "output_type": "stream",
     "text": [
      "Your grade in B\n"
     ]
    }
   ],
   "source": [
    "if score >= A_score:\n",
    "    print('Your grade in A')\n",
    "else:\n",
    "    if score >= B_score:\n",
    "        print('Your grade in B')\n",
    "    else:\n",
    "        if score >= C_score:\n",
    "            print('Your grade is C')\n",
    "        else:\n",
    "            if score >= D_score:\n",
    "                print('Your grade is D')\n",
    "            else:\n",
    "                print('Your grade is F')\n",
    "\n"
   ]
  },
  {
   "cell_type": "markdown",
   "id": "836ea8cb",
   "metadata": {},
   "source": [
    "## Algorithm Workbench Question 5\n",
    "This question asks me to write a nested structure to compare 2 numbers to determine which one is greater. I started by getting input from the user to get the 2 amount variables. I then begin to write the nested structure. I started by creating an and statement to compare amout1 and amount2. Then I needed to show which number is greater. I a nested block to be able to have both amount1 being greater and amount2 being greater. If the 2 variables didnt match to start I created a else statement below the nested structure. "
   ]
  },
  {
   "cell_type": "code",
   "execution_count": 7,
   "id": "dfe0ac09",
   "metadata": {},
   "outputs": [
    {
     "name": "stdout",
     "output_type": "stream",
     "text": [
      "Enter amount 1: 17\n",
      "Enter amount 2: 73\n"
     ]
    }
   ],
   "source": [
    "amount1= int(input(\"Enter amount 1: \"))\n",
    "amount2= int(input(\"Enter amount 2: \"))"
   ]
  },
  {
   "cell_type": "code",
   "execution_count": 8,
   "id": "35730ff3",
   "metadata": {},
   "outputs": [
    {
     "name": "stdout",
     "output_type": "stream",
     "text": [
      "73 is greater than 17\n"
     ]
    }
   ],
   "source": [
    "if amount1> 10 and amount2< 100:\n",
    "    if amount1>amount2:\n",
    "        print(f'{amount1} is greater than {amount2}')\n",
    "    elif amount2>amount1:\n",
    "        print(f'{amount2} is greater than {amount1}')\n",
    "else:\n",
    "    print('Amounts do not meet range')\n",
    "    "
   ]
  },
  {
   "cell_type": "markdown",
   "id": "72412d64",
   "metadata": {},
   "source": [
    "## Programming Exercise 1\n",
    "This exercise I am asked to write a program that asks for user input that correlates with a day of the week. I first get input from the user to determine the number entered. I then create if and elif statements that correlate with print statements to run depending on what the user entered. The program then processes the input and then it outputs a print statement. "
   ]
  },
  {
   "cell_type": "code",
   "execution_count": 9,
   "id": "70ae518f",
   "metadata": {},
   "outputs": [
    {
     "name": "stdout",
     "output_type": "stream",
     "text": [
      "Enter a number 1-7: 4\n"
     ]
    }
   ],
   "source": [
    "day= int(input('Enter a number 1-7: '))"
   ]
  },
  {
   "cell_type": "code",
   "execution_count": 10,
   "id": "ae492756",
   "metadata": {},
   "outputs": [
    {
     "name": "stdout",
     "output_type": "stream",
     "text": [
      "Thursday\n"
     ]
    }
   ],
   "source": [
    "if day==1:\n",
    "    print('Monday')\n",
    "elif day==2:\n",
    "    print('Tuesday')\n",
    "elif day==3:\n",
    "    print('Wendesday')\n",
    "elif day==4:\n",
    "    print('Thursday')\n",
    "elif day==5:\n",
    "    print('Friday')\n",
    "elif day==6:\n",
    "    print('Saturday')\n",
    "elif day==7:\n",
    "    print('Sunday')\n",
    "else:\n",
    "    print('Error')"
   ]
  },
  {
   "cell_type": "markdown",
   "id": "c91479fd",
   "metadata": {},
   "source": [
    "# Programming Exercise 5\n",
    "This exercise I am asked to convert mass in kilograms to weight in newtons then display the weight. First I get input from the user. I create the mass variable to equal what the user inputs. Then I create the weight variable to multiply mass by 9.8 to convert it over. I then need to determine if the object weighs correctly or not. I create a if,elif, and else string to determine what to output. Since the car weighs less than 500 and more than 100 it outputs the else string. "
   ]
  },
  {
   "cell_type": "code",
   "execution_count": 11,
   "id": "51c54543",
   "metadata": {},
   "outputs": [],
   "source": [
    "# Get Objects mass"
   ]
  },
  {
   "cell_type": "code",
   "execution_count": 12,
   "id": "6aa9f8e0",
   "metadata": {},
   "outputs": [
    {
     "name": "stdout",
     "output_type": "stream",
     "text": [
      "Mass of Car: 40\n"
     ]
    }
   ],
   "source": [
    "mass=int(input('Mass of Car: '))"
   ]
  },
  {
   "cell_type": "code",
   "execution_count": 13,
   "id": "6e46b85c",
   "metadata": {},
   "outputs": [],
   "source": [
    "weight=(mass*9.8)"
   ]
  },
  {
   "cell_type": "code",
   "execution_count": 14,
   "id": "a25fe2a3",
   "metadata": {},
   "outputs": [
    {
     "name": "stdout",
     "output_type": "stream",
     "text": [
      "The car weighs 392.0\n"
     ]
    }
   ],
   "source": [
    "if weight>500:\n",
    "    print('Car is too heavy')\n",
    "elif weight<100:\n",
    "    print('Car is too light')\n",
    "else:\n",
    "    print(f'The car weighs {weight}')"
   ]
  },
  {
   "cell_type": "markdown",
   "id": "d5e0c50f",
   "metadata": {},
   "source": [
    "## Programming Exercise 17\n",
    "This Exercise I am asked to write a program to troubleshoot a WiFi connection issue. I first created a print statement to ask the user. If the user inputs no I created another if statement if the user inputed no. If the user did not input no for any of the if statements I created a else statement to say connected. "
   ]
  },
  {
   "cell_type": "code",
   "execution_count": 18,
   "id": "909b72e8",
   "metadata": {},
   "outputs": [
    {
     "name": "stdout",
     "output_type": "stream",
     "text": [
      "Reboot the computer and try to connect\n",
      "Did that fix the problem? no\n",
      "Make sure the cables are plugged in firmly\n",
      "Did that fix the problem? no\n",
      "Move the router to a new location and reconnect\n",
      "Did that fix the problem? no\n",
      "Get a new router\n"
     ]
    }
   ],
   "source": [
    "print(\"Reboot the computer and try to connect\")\n",
    "user=input('Did that fix the problem? ')\n",
    "if user=='no':\n",
    "    print('Make sure the cables are plugged in firmly')\n",
    "    user=input('Did that fix the problem? ')\n",
    "if user=='no':\n",
    "    print('Move the router to a new location and reconnect')\n",
    "    user=input('Did that fix the problem? ')\n",
    "if user=='no':\n",
    "    print('Get a new router')\n",
    "else:\n",
    "    print('Connected')"
   ]
  },
  {
   "cell_type": "code",
   "execution_count": null,
   "id": "50b04a5b",
   "metadata": {},
   "outputs": [],
   "source": []
  }
 ],
 "metadata": {
  "kernelspec": {
   "display_name": "Python 3 (ipykernel)",
   "language": "python",
   "name": "python3"
  },
  "language_info": {
   "codemirror_mode": {
    "name": "ipython",
    "version": 3
   },
   "file_extension": ".py",
   "mimetype": "text/x-python",
   "name": "python",
   "nbconvert_exporter": "python",
   "pygments_lexer": "ipython3",
   "version": "3.11.4"
  }
 },
 "nbformat": 4,
 "nbformat_minor": 5
}
