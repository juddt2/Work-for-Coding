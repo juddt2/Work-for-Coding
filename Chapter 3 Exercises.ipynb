{
 "cells": [
  {
   "cell_type": "markdown",
   "id": "f07aae8c",
   "metadata": {},
   "source": [
    "# Chapter 3 Exercises"
   ]
  },
  {
   "cell_type": "markdown",
   "id": "01d190dc",
   "metadata": {},
   "source": [
    "## Algorithm Workbench Question 4\n",
    "This question asks to align the code correctly. I decided to fully run the code so I gave some input to calculate the grade."
   ]
  },
  {
   "cell_type": "code",
   "execution_count": 1,
   "id": "679c2ee7",
   "metadata": {},
   "outputs": [],
   "source": [
    "# Get grade thresholds"
   ]
  },
  {
   "cell_type": "code",
   "execution_count": 2,
   "id": "971966e3",
   "metadata": {},
   "outputs": [],
   "source": [
    "A_score=90\n",
    "B_score=80\n",
    "C_score=70\n",
    "D_score=60"
   ]
  },
  {
   "cell_type": "code",
   "execution_count": 3,
   "id": "1adb9e15",
   "metadata": {},
   "outputs": [],
   "source": [
    "# Get test score"
   ]
  },
  {
   "cell_type": "code",
   "execution_count": 4,
   "id": "0d1019cb",
   "metadata": {},
   "outputs": [
    {
     "name": "stdout",
     "output_type": "stream",
     "text": [
      "Enter test score: 87\n"
     ]
    }
   ],
   "source": [
    "score=int(input(\"Enter test score: \"))"
   ]
  },
  {
   "cell_type": "code",
   "execution_count": 5,
   "id": "90dc4ae8",
   "metadata": {},
   "outputs": [],
   "source": [
    "# Determine grade"
   ]
  },
  {
   "cell_type": "code",
   "execution_count": 6,
   "id": "ff2c23ec",
   "metadata": {},
   "outputs": [
    {
     "name": "stdout",
     "output_type": "stream",
     "text": [
      "Your grade in B\n"
     ]
    }
   ],
   "source": [
    "if score >= A_score:\n",
    "    print('Your grade in A')\n",
    "else:\n",
    "    if score >= B_score:\n",
    "        print('Your grade in B')\n",
    "    else:\n",
    "        if score >= C_score:\n",
    "            print('Your grade is C')\n",
    "        else:\n",
    "            if score >= D_score:\n",
    "                print('Your grade is D')\n",
    "            else:\n",
    "                print('Your grade is F')\n",
    "\n"
   ]
  },
  {
   "cell_type": "markdown",
   "id": "3bec5da7",
   "metadata": {},
   "source": [
    "## Algorithm Workbench Question 5\n",
    "This question asks me to write a nested structure to compare 2 numbers to determine which one is greater. I started by getting input from the user to get the 2 amount variables. I then begin to write the nested structure. I started by creating an and statement to compare amout1 and amount2. Then I needed to show which number is greater. I a nested block to be able to have both amount1 being greater and amount2 being greater. If the 2 variables didnt match to start I created a else statement below the nested structure. "
   ]
  },
  {
   "cell_type": "code",
   "execution_count": 7,
   "id": "00f959fe",
   "metadata": {},
   "outputs": [
    {
     "name": "stdout",
     "output_type": "stream",
     "text": [
      "Enter amount 1: 17\n",
      "Enter amount 2: 73\n"
     ]
    }
   ],
   "source": [
    "amount1= int(input(\"Enter amount 1: \"))\n",
    "amount2= int(input(\"Enter amount 2: \"))"
   ]
  },
  {
   "cell_type": "code",
   "execution_count": 8,
   "id": "63395895",
   "metadata": {},
   "outputs": [
    {
     "name": "stdout",
     "output_type": "stream",
     "text": [
      "73 is greater than 17\n"
     ]
    }
   ],
   "source": [
    "if amount1> 10 and amount2< 100:\n",
    "    if amount1>amount2:\n",
    "        print(f'{amount1} is greater than {amount2}')\n",
    "    elif amount2>amount1:\n",
    "        print(f'{amount2} is greater than {amount1}')\n",
    "else:\n",
    "    print('Amounts do not meet range')\n",
    "    "
   ]
  },
  {
   "cell_type": "markdown",
   "id": "f9252809",
   "metadata": {},
   "source": [
    "## Programming Exercise 1\n",
    "This exercise I am asked to write a program that asks for user input that correlates with a day of the week. I first get input from the user to determine the number entered. I then create if and elif statements that correlate with print statements to run depending on what the user entered. The program then processes the input and then it outputs a print statement. "
   ]
  },
  {
   "cell_type": "code",
   "execution_count": 11,
   "id": "65f3844b",
   "metadata": {},
   "outputs": [
    {
     "name": "stdout",
     "output_type": "stream",
     "text": [
      "Enter a number 1-7: 4\n"
     ]
    }
   ],
   "source": [
    "day= int(input('Enter a number 1-7: '))"
   ]
  },
  {
   "cell_type": "code",
   "execution_count": 12,
   "id": "fe21044c",
   "metadata": {},
   "outputs": [
    {
     "name": "stdout",
     "output_type": "stream",
     "text": [
      "Thursday\n"
     ]
    }
   ],
   "source": [
    "if day==1:\n",
    "    print('Monday')\n",
    "elif day==2:\n",
    "    print('Tuesday')\n",
    "elif day==3:\n",
    "    print('Wendesday')\n",
    "elif day==4:\n",
    "    print('Thursday')\n",
    "elif day==5:\n",
    "    print('Friday')\n",
    "elif day==6:\n",
    "    print('Saturday')\n",
    "elif day==7:\n",
    "    print('Sunday')\n",
    "else:\n",
    "    print('Error')"
   ]
  },
  {
   "cell_type": "markdown",
   "id": "a8353783",
   "metadata": {},
   "source": [
    "# Programming Exercise 5"
   ]
  },
  {
   "cell_type": "code",
   "execution_count": 13,
   "id": "30a993be",
   "metadata": {},
   "outputs": [],
   "source": [
    "# Get Objects mass"
   ]
  },
  {
   "cell_type": "code",
   "execution_count": null,
   "id": "77bfba28",
   "metadata": {},
   "outputs": [],
   "source": [
    "mass=int(input('Mass of Car: '))"
   ]
  },
  {
   "cell_type": "code",
   "execution_count": 77,
   "id": "953156fe",
   "metadata": {},
   "outputs": [],
   "source": [
    "weight=(mass*9.8)"
   ]
  },
  {
   "cell_type": "code",
   "execution_count": 78,
   "id": "baaa0e18",
   "metadata": {},
   "outputs": [
    {
     "name": "stdout",
     "output_type": "stream",
     "text": [
      "Car is too light\n"
     ]
    }
   ],
   "source": [
    "if weight>500:\n",
    "    print('Car is too heavy')\n",
    "elif weight<100:\n",
    "    print('Car is too light')\n",
    "else:\n",
    "    print(f'The car weighs {weight}')"
   ]
  },
  {
   "cell_type": "code",
   "execution_count": null,
   "id": "8b76bc2d",
   "metadata": {},
   "outputs": [],
   "source": []
  }
 ],
 "metadata": {
  "kernelspec": {
   "display_name": "Python 3 (ipykernel)",
   "language": "python",
   "name": "python3"
  },
  "language_info": {
   "codemirror_mode": {
    "name": "ipython",
    "version": 3
   },
   "file_extension": ".py",
   "mimetype": "text/x-python",
   "name": "python",
   "nbconvert_exporter": "python",
   "pygments_lexer": "ipython3",
   "version": "3.11.4"
  }
 },
 "nbformat": 4,
 "nbformat_minor": 5
}
