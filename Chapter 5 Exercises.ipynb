{
 "cells": [
  {
   "cell_type": "markdown",
   "id": "a0b9f899",
   "metadata": {},
   "source": [
    "# Chapter 5 Exercises"
   ]
  },
  {
   "cell_type": "markdown",
   "id": "7f10bfbf",
   "metadata": {},
   "source": [
    "### Algorithm Workbench Question 2\n",
    "In this exercise I am asked to write a statement that calls 12 as a function. I first need to create the main function. 12 needs to be the function so I assign 12 to value. I then pass value as an argument to the show_value function. I then create the show_value funtion. I put quantity in the header as that will now be assigned to the value variable. I then need to show that 12 was passed as the argument so I create a print statement to show the output. "
   ]
  },
  {
   "cell_type": "code",
   "execution_count": 3,
   "id": "d068f271",
   "metadata": {},
   "outputs": [
    {
     "name": "stdout",
     "output_type": "stream",
     "text": [
      "12\n"
     ]
    }
   ],
   "source": [
    "# create main function\n",
    "def main():\n",
    "    value=12\n",
    "    show_value(value)\n",
    "# create the show_double function    \n",
    "def show_value(quantity):\n",
    "    print(quantity)\n",
    "\n",
    "# call main function\n",
    "main()"
   ]
  },
  {
   "cell_type": "markdown",
   "id": "5d566d88",
   "metadata": {},
   "source": [
    "### Alorithm Workbench Question 6\n",
    "In this exercise I am asked to "
   ]
  },
  {
   "cell_type": "code",
   "execution_count": 13,
   "id": "54e5d46f",
   "metadata": {},
   "outputs": [
    {
     "name": "stdout",
     "output_type": "stream",
     "text": [
      "The number is 37.\n"
     ]
    }
   ],
   "source": [
    "# get number\n",
    "rand=random.randint(1,100)\n",
    "# print number\n",
    "print(f'The number is {rand}.')"
   ]
  },
  {
   "cell_type": "markdown",
   "id": "e5ca152a",
   "metadata": {},
   "source": [
    "### Programming Exercise Question 1"
   ]
  },
  {
   "cell_type": "code",
   "execution_count": 16,
   "id": "6074eb4e",
   "metadata": {},
   "outputs": [
    {
     "ename": "NameError",
     "evalue": "name 'kilometers' is not defined",
     "output_type": "error",
     "traceback": [
      "\u001b[1;31m---------------------------------------------------------------------------\u001b[0m",
      "\u001b[1;31mNameError\u001b[0m                                 Traceback (most recent call last)",
      "Cell \u001b[1;32mIn[16], line 2\u001b[0m\n\u001b[0;32m      1\u001b[0m \u001b[38;5;66;03m# get formula\u001b[39;00m\n\u001b[1;32m----> 2\u001b[0m miles\u001b[38;5;241m=\u001b[39mkilometers\u001b[38;5;241m*\u001b[39m\u001b[38;5;241m.6214\u001b[39m\n\u001b[0;32m      4\u001b[0m \u001b[38;5;66;03m# get distance\u001b[39;00m\n\u001b[0;32m      5\u001b[0m \u001b[38;5;28;01mdef\u001b[39;00m \u001b[38;5;21mmain\u001b[39m():\n",
      "\u001b[1;31mNameError\u001b[0m: name 'kilometers' is not defined"
     ]
    }
   ],
   "source": [
    "# get formula\n",
    "kilometers=int(input('Enter the distance in Kilometers: '))\n",
    "miles=kilometers*.6214\n",
    "\n",
    "# get distance\n",
    "def main():\n",
    "    kilometers=int(input('Enter the distance in Kilometers: '))\n",
    "    show_distance(kilometers)\n",
    "\n",
    "# convert and show output\n",
    "def show_distance(miles):\n",
    "    print(f'The distance in Miles is: {miles}')"
   ]
  },
  {
   "cell_type": "code",
   "execution_count": null,
   "id": "ad62b674",
   "metadata": {},
   "outputs": [],
   "source": []
  }
 ],
 "metadata": {
  "kernelspec": {
   "display_name": "Python 3 (ipykernel)",
   "language": "python",
   "name": "python3"
  },
  "language_info": {
   "codemirror_mode": {
    "name": "ipython",
    "version": 3
   },
   "file_extension": ".py",
   "mimetype": "text/x-python",
   "name": "python",
   "nbconvert_exporter": "python",
   "pygments_lexer": "ipython3",
   "version": "3.11.4"
  }
 },
 "nbformat": 4,
 "nbformat_minor": 5
}
