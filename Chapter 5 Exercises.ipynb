{
 "cells": [
  {
   "cell_type": "markdown",
   "id": "60056d6d",
   "metadata": {},
   "source": [
    "# Chapter 5 Exercises"
   ]
  },
  {
   "cell_type": "markdown",
   "id": "6907e92a",
   "metadata": {},
   "source": [
    "### Algorithm Workbench Question 2"
   ]
  },
  {
   "cell_type": "code",
   "execution_count": null,
   "id": "675d2483",
   "metadata": {},
   "outputs": [],
   "source": [
    "# create main function\n",
    "def main():\n",
    "    value=12\n",
    "    show_value(value)\n",
    "    \n",
    "def show_value(quantity):\n"
   ]
  }
 ],
 "metadata": {
  "kernelspec": {
   "display_name": "Python 3 (ipykernel)",
   "language": "python",
   "name": "python3"
  },
  "language_info": {
   "codemirror_mode": {
    "name": "ipython",
    "version": 3
   },
   "file_extension": ".py",
   "mimetype": "text/x-python",
   "name": "python",
   "nbconvert_exporter": "python",
   "pygments_lexer": "ipython3",
   "version": "3.11.4"
  }
 },
 "nbformat": 4,
 "nbformat_minor": 5
}
