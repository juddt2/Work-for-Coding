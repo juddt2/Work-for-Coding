{
 "cells": [
  {
   "cell_type": "markdown",
   "id": "4b7ec6d4",
   "metadata": {},
   "source": [
    "# Chapter 5 Exercises"
   ]
  },
  {
   "cell_type": "markdown",
   "id": "444f2a07",
   "metadata": {},
   "source": [
    "### Algorithm Workbench Question 2\n",
    "In this exercise I am asked to write a statement that calls 12 as a function. I first need to create the main function. 12 needs to be the function so I assign 12 to value. I then pass value as an argument to the show_value function. I then create the show_value funtion. I put quantity in the header as that will now be assigned to the value variable. I then need to show that 12 was passed as the argument so I create a print statement to show the output. "
   ]
  },
  {
   "cell_type": "code",
   "execution_count": 3,
   "id": "7d97ee08",
   "metadata": {},
   "outputs": [
    {
     "name": "stdout",
     "output_type": "stream",
     "text": [
      "12\n"
     ]
    }
   ],
   "source": [
    "# create main function\n",
    "def main():\n",
    "    value=12\n",
    "    show_value(value)\n",
    "# create the show_double function    \n",
    "def show_value(quantity):\n",
    "    print(quantity)\n",
    "\n",
    "# call main function\n",
    "main()"
   ]
  },
  {
   "cell_type": "markdown",
   "id": "fd14eeb1",
   "metadata": {},
   "source": [
    "### Alorithm Workbench Question 6\n",
    "In this exercise I am asked to "
   ]
  },
  {
   "cell_type": "code",
   "execution_count": 13,
   "id": "cac4bcd1",
   "metadata": {},
   "outputs": [
    {
     "name": "stdout",
     "output_type": "stream",
     "text": [
      "The number is 37.\n"
     ]
    }
   ],
   "source": [
    "# get number\n",
    "rand=random.randint(1,100)\n",
    "# print number\n",
    "print(f'The number is {rand}.')"
   ]
  },
  {
   "cell_type": "markdown",
   "id": "72ce8e20",
   "metadata": {},
   "source": [
    "### Programming Exercise Question 1\n",
    "In this exercise I am asked to ask the user for a distance then convert it to miles. I first assign .6214 to the rate variable. I then create the main funtion. First the program asks for the user to enter a distance in kilometers. I then assign kilometers to the show_distance function. In the show_distance funtion I create the formula to convert kilometers to miles. I then create a print statement with a f-string to show the conversion. I then call the main funtion. "
   ]
  },
  {
   "cell_type": "code",
   "execution_count": 29,
   "id": "8337f4c5",
   "metadata": {},
   "outputs": [
    {
     "name": "stdout",
     "output_type": "stream",
     "text": [
      "Enter the distance in kilometers: 36\n",
      "The distance in miles is: 22.37\n"
     ]
    }
   ],
   "source": [
    "# assign rate variable\n",
    "rate=.6214\n",
    "\n",
    "\n",
    "# get distance\n",
    "def main():\n",
    "    kilometers=int(input('Enter the distance in kilometers: '))\n",
    "    show_distance(kilometers)\n",
    "\n",
    "# convert and show output\n",
    "def show_distance(miles):\n",
    "    miles=kilometers*rate\n",
    "    print(f'The distance in miles is: {miles:,.2f}')\n",
    "main()"
   ]
  },
  {
   "cell_type": "markdown",
   "id": "5bb334cf",
   "metadata": {},
   "source": [
    "### Programming Exercise number 17"
   ]
  },
  {
   "cell_type": "code",
   "execution_count": 32,
   "id": "7767a984",
   "metadata": {},
   "outputs": [
    {
     "name": "stdout",
     "output_type": "stream",
     "text": [
      "Enter a number: 8\n"
     ]
    },
    {
     "ename": "NameError",
     "evalue": "name 'is_prime' is not defined",
     "output_type": "error",
     "traceback": [
      "\u001b[1;31m---------------------------------------------------------------------------\u001b[0m",
      "\u001b[1;31mNameError\u001b[0m                                 Traceback (most recent call last)",
      "Cell \u001b[1;32mIn[32], line 4\u001b[0m\n\u001b[0;32m      2\u001b[0m number\u001b[38;5;241m=\u001b[39m\u001b[38;5;28mint\u001b[39m(\u001b[38;5;28minput\u001b[39m(\u001b[38;5;124m'\u001b[39m\u001b[38;5;124mEnter a number: \u001b[39m\u001b[38;5;124m'\u001b[39m))\n\u001b[0;32m      3\u001b[0m \u001b[38;5;66;03m# create if-else statement\u001b[39;00m\n\u001b[1;32m----> 4\u001b[0m \u001b[38;5;28;01mif\u001b[39;00m is_prime(number):\n\u001b[0;32m      5\u001b[0m     \u001b[38;5;28mprint\u001b[39m(\u001b[38;5;124m'\u001b[39m\u001b[38;5;124mThe number you entered is a prime number.\u001b[39m\u001b[38;5;124m'\u001b[39m)\n\u001b[0;32m      6\u001b[0m \u001b[38;5;28;01melse\u001b[39;00m:\n",
      "\u001b[1;31mNameError\u001b[0m: name 'is_prime' is not defined"
     ]
    }
   ],
   "source": [
    "# get number\n",
    "number=int(input('Enter a number: '))\n",
    "# create if-else statement\n",
    "if is_prime(number):\n",
    "    print('The number you entered is a prime number.')\n",
    "else:\n",
    "    print('The number is not a prime number.')"
   ]
  },
  {
   "cell_type": "code",
   "execution_count": null,
   "id": "8852d642",
   "metadata": {},
   "outputs": [],
   "source": []
  }
 ],
 "metadata": {
  "kernelspec": {
   "display_name": "Python 3 (ipykernel)",
   "language": "python",
   "name": "python3"
  },
  "language_info": {
   "codemirror_mode": {
    "name": "ipython",
    "version": 3
   },
   "file_extension": ".py",
   "mimetype": "text/x-python",
   "name": "python",
   "nbconvert_exporter": "python",
   "pygments_lexer": "ipython3",
   "version": "3.11.4"
  }
 },
 "nbformat": 4,
 "nbformat_minor": 5
}
