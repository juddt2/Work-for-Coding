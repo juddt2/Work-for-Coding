{
 "cells": [
  {
   "cell_type": "markdown",
   "id": "06f2db4c",
   "metadata": {},
   "source": [
    "# Chapter 5 Exercises"
   ]
  },
  {
   "cell_type": "markdown",
   "id": "99912672",
   "metadata": {},
   "source": [
    "### Algorithm Workbench Question 2\n",
    "In this exercise I am asked to write a statement that calls 12 as a function. I first need to create the main function. 12 needs to be the function so I assign 12 to value. I then pass value as an argument to the show_value function. I then create the show_value funtion. I put quantity in the header as that will now be assigned to the value variable. I then need to show that 12 was passed as the argument so I create a print statement to show the output. "
   ]
  },
  {
   "cell_type": "code",
   "execution_count": 1,
   "id": "fb7b497a",
   "metadata": {},
   "outputs": [
    {
     "name": "stdout",
     "output_type": "stream",
     "text": [
      "12\n"
     ]
    }
   ],
   "source": [
    "# create main function\n",
    "def main():\n",
    "    value=12\n",
    "    show_value(value)\n",
    "# create the show_double function    \n",
    "def show_value(quantity):\n",
    "    print(quantity)\n",
    "\n",
    "# call main function\n",
    "main()"
   ]
  },
  {
   "cell_type": "markdown",
   "id": "67634554",
   "metadata": {},
   "source": [
    "### Alorithm Workbench Question 6\n",
    "In this exercise I am asked to "
   ]
  },
  {
   "cell_type": "code",
   "execution_count": 5,
   "id": "e622dff8",
   "metadata": {},
   "outputs": [],
   "source": [
    "import random"
   ]
  },
  {
   "cell_type": "code",
   "execution_count": 6,
   "id": "138ae2e1",
   "metadata": {},
   "outputs": [
    {
     "name": "stdout",
     "output_type": "stream",
     "text": [
      "The number is 7.\n"
     ]
    }
   ],
   "source": [
    "# get number\n",
    "rand=random.randint(1,100)\n",
    "# print number\n",
    "print(f'The number is {rand}.')"
   ]
  },
  {
   "cell_type": "markdown",
   "id": "6b33255e",
   "metadata": {},
   "source": [
    "### Programming Exercise Question 1\n",
    "In this exercise I am asked to ask the user for a distance then convert it to miles. I first assign .6214 to the rate variable. I then create the main funtion. First the program asks for the user to enter a distance in kilometers. I then assign kilometers to the show_distance function. In the show_distance funtion I create the formula to convert kilometers to miles. I then create a print statement with a f-string to show the conversion. I then call the main funtion. "
   ]
  },
  {
   "cell_type": "code",
   "execution_count": 10,
   "id": "c372a82b",
   "metadata": {},
   "outputs": [
    {
     "name": "stdout",
     "output_type": "stream",
     "text": [
      "Enter the distance in kilometers: 36\n",
      "The distance in miles is: 22.37\n"
     ]
    }
   ],
   "source": [
    "# assign rate variable\n",
    "rate=.6214\n",
    "\n",
    "\n",
    "# get distance\n",
    "def main():\n",
    "    kilo=int(input('Enter the distance in kilometers: '))\n",
    "    show_distance(kilo)\n",
    "\n",
    "# convert and show output\n",
    "def show_distance(kilo):\n",
    "    miles=kilo*rate\n",
    "    print(f'The distance in miles is: {miles:,.2f}')\n",
    "main()"
   ]
  },
  {
   "cell_type": "markdown",
   "id": "1ea18aca",
   "metadata": {},
   "source": [
    "### Programming Exercise Question 17\n",
    "In this exercise I am asked to get a number from the user and determine if the number is a prime number. I first need to create the prime funtion. I assign number to is_prime. I then create a range funtion. I start at 2 because all numbers are divisible by 1 so that is pointless. I go all the way up to the number variable. I then create an if statement to determine if it is false or true. If numbermoduloprme is equal to 0 then it will return it as False. If it is not equal to 0 it will return it as True. I then need to get a number from the user to I create a input statement. I then create a if-else statement to determine what to output.    "
   ]
  },
  {
   "cell_type": "code",
   "execution_count": 11,
   "id": "83ad62c1",
   "metadata": {},
   "outputs": [
    {
     "name": "stdout",
     "output_type": "stream",
     "text": [
      "Enter a number: 7\n",
      "The number is a prime number\n"
     ]
    }
   ],
   "source": [
    "# get is_prime function\n",
    "def is_prime(number):\n",
    "# determine prime number\n",
    "    for prme in range(2, number):\n",
    "        if number % prme ==0:\n",
    "            return False\n",
    "    return True\n",
    "# get number\n",
    "number=int(input('Enter a number: '))\n",
    "if is_prime(number):\n",
    "    print('The number is a prime number')\n",
    "else:\n",
    "    print('The number is not a prime number')"
   ]
  },
  {
   "cell_type": "markdown",
   "id": "f71d0935",
   "metadata": {},
   "source": [
    "### Programming Exercise Question 18\n",
    "In this exercise I am asked to list all the prime number 1-100. I first take the is_prime funtion I created from the question above and insert it into this one. I then need to create a for loop to list all the numbers 1-100. I then nest a if loop to output all the prime numbers. I then create a print statement to prove a way to output the data. "
   ]
  },
  {
   "cell_type": "code",
   "execution_count": 12,
   "id": "a20d29e6",
   "metadata": {},
   "outputs": [
    {
     "name": "stdout",
     "output_type": "stream",
     "text": [
      "1\n",
      "2\n",
      "3\n",
      "5\n",
      "7\n",
      "11\n",
      "13\n",
      "17\n",
      "19\n",
      "23\n",
      "29\n",
      "31\n",
      "37\n",
      "41\n",
      "43\n",
      "47\n",
      "53\n",
      "59\n",
      "61\n",
      "67\n",
      "71\n",
      "73\n",
      "79\n",
      "83\n",
      "89\n",
      "97\n"
     ]
    }
   ],
   "source": [
    "# get is_prime function\n",
    "def is_prime(number):\n",
    "    # determine prime number\n",
    "    for prme in range(2, number):\n",
    "        if number % prme==0:\n",
    "            return False\n",
    "    return True\n",
    "# create for loop\n",
    "for number in range(1,101):\n",
    "    # create the lists\n",
    "    if is_prime(number):\n",
    "       print(number)"
   ]
  },
  {
   "cell_type": "markdown",
   "id": "ad10b6df",
   "metadata": {},
   "source": [
    "### Programming Exercise Question 21"
   ]
  },
  {
   "cell_type": "code",
   "execution_count": null,
   "id": "fd7c631e",
   "metadata": {},
   "outputs": [],
   "source": [
    "import random"
   ]
  },
  {
   "cell_type": "code",
   "execution_count": null,
   "id": "af63c115",
   "metadata": {},
   "outputs": [],
   "source": [
    "# assign num to random number\n",
    "num=random.randint(1,3)\n",
    "# assign 1-3 to their respective option\n",
    "if num == 1 :\n",
    "    computer=\"rock\"\n",
    "elif num == 2 :\n",
    "    computer=\"paper\"\n",
    "else:\n",
    "    computer=\"scissors\"\n",
    "\n",
    "# get user selection\n",
    "user=input('Enter your choice: ')\n",
    "print('\\nYour choice is: ',user)\n",
    "# get computer selection\n",
    "print('Comuter selected: ',computer)\n",
    "\n",
    "# assign 1-3 to the respective choice\n",
    "a=True\n",
    "while a:\n",
    "    if computer==user:\n",
    "        rand_num=random.randint(1,3)\n",
    "        computer=''\n",
    "        if rand_num==1:\n",
    "            computer=\"rock\"\n",
    "        elif rand.num==2:\n",
    "            computer=\"paper\"\n",
    "        else:\n",
    "            computer=\"scissors\"\n",
    "# determine who will win\n",
    "    if user==computer:\n",
    "        print('Its a tie')\n",
    "    elif user=='rock' and computer=='scissors':\n",
    "        print('You win!')\n",
    "        a=False\n",
    "    elif user=='scissors' and computer=='rock':\n",
    "        print('Computer wins')\n",
    "        a=False\n",
    "    elif user=='scissors' and computer=='paper':\n",
    "        print('You win!')\n",
    "        a=False\n",
    "    elif user=='paper' and computer=='scissors':\n",
    "        print('Computer wins')\n",
    "        a=False\n",
    "    elif user=='paper' and computer=='rock':\n",
    "        print('You win!')\n",
    "        a=False\n",
    "    elif user=='rock' and computer=='paper':\n",
    "        print('Computer wins')\n",
    "        a=False\n",
    "  "
   ]
  },
  {
   "cell_type": "code",
   "execution_count": null,
   "id": "ede72273",
   "metadata": {},
   "outputs": [],
   "source": []
  }
 ],
 "metadata": {
  "kernelspec": {
   "display_name": "Python 3 (ipykernel)",
   "language": "python",
   "name": "python3"
  },
  "language_info": {
   "codemirror_mode": {
    "name": "ipython",
    "version": 3
   },
   "file_extension": ".py",
   "mimetype": "text/x-python",
   "name": "python",
   "nbconvert_exporter": "python",
   "pygments_lexer": "ipython3",
   "version": "3.11.4"
  }
 },
 "nbformat": 4,
 "nbformat_minor": 5
}
