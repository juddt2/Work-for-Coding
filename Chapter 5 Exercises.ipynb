{
 "cells": [
  {
   "cell_type": "markdown",
   "id": "c84697c5",
   "metadata": {},
   "source": [
    "# Chapter 5 Exercises"
   ]
  },
  {
   "cell_type": "markdown",
   "id": "5e7c14fe",
   "metadata": {},
   "source": [
    "### Algorithm Workbench Question 2\n",
    "In this exercise I am asked to write a statement that calls 12 as a function. I first need to create the main function. 12 needs to be the function so I assign 12 to value. I then pass value as an argument to the show_value function. I then create the show_value funtion. I put quantity in the header as that will now be assigned to the value variable. I then need to show that 12 was passed as the argument so I create a print statement to show the output. "
   ]
  },
  {
   "cell_type": "code",
   "execution_count": 3,
   "id": "6b7002b0",
   "metadata": {},
   "outputs": [
    {
     "name": "stdout",
     "output_type": "stream",
     "text": [
      "12\n"
     ]
    }
   ],
   "source": [
    "# create main function\n",
    "def main():\n",
    "    value=12\n",
    "    show_value(value)\n",
    "# create the show_double function    \n",
    "def show_value(quantity):\n",
    "    print(quantity)\n",
    "\n",
    "# call main function\n",
    "main()"
   ]
  },
  {
   "cell_type": "markdown",
   "id": "54478100",
   "metadata": {},
   "source": [
    "### Alorithm Workbench Question 6"
   ]
  },
  {
   "cell_type": "code",
   "execution_count": null,
   "id": "106e187c",
   "metadata": {},
   "outputs": [],
   "source": []
  }
 ],
 "metadata": {
  "kernelspec": {
   "display_name": "Python 3 (ipykernel)",
   "language": "python",
   "name": "python3"
  },
  "language_info": {
   "codemirror_mode": {
    "name": "ipython",
    "version": 3
   },
   "file_extension": ".py",
   "mimetype": "text/x-python",
   "name": "python",
   "nbconvert_exporter": "python",
   "pygments_lexer": "ipython3",
   "version": "3.11.4"
  }
 },
 "nbformat": 4,
 "nbformat_minor": 5
}
