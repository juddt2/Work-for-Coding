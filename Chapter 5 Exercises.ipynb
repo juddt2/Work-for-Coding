{
 "cells": [
  {
   "cell_type": "markdown",
   "id": "61f606eb",
   "metadata": {},
   "source": [
    "# Chapter 5 Exercises"
   ]
  },
  {
   "cell_type": "markdown",
   "id": "a30951c0",
   "metadata": {},
   "source": [
    "### Algorithm Workbench Question 2\n",
    "In this exercise I am asked to write a statement that calls 12 as a function. I first need to create the main function. 12 needs to be the function so I assign 12 to value. I then pass value as an argument to the show_value function. I then create the show_value funtion. I put quantity in the header as that will now be assigned to the value variable. I then need to show that 12 was passed as the argument so I create a print statement to show the output. "
   ]
  },
  {
   "cell_type": "code",
   "execution_count": 1,
   "id": "09251a81",
   "metadata": {},
   "outputs": [
    {
     "name": "stdout",
     "output_type": "stream",
     "text": [
      "12\n"
     ]
    }
   ],
   "source": [
    "# create main function\n",
    "def main():\n",
    "    value=12\n",
    "    show_value(value)\n",
    "# create the show_double function    \n",
    "def show_value(quantity):\n",
    "    print(quantity)\n",
    "\n",
    "# call main function\n",
    "main()"
   ]
  },
  {
   "cell_type": "markdown",
   "id": "b421e5a1",
   "metadata": {},
   "source": [
    "### Alorithm Workbench Question 6\n",
    "In this exercise I am asked to "
   ]
  },
  {
   "cell_type": "code",
   "execution_count": 5,
   "id": "49c79ed2",
   "metadata": {},
   "outputs": [],
   "source": [
    "import random"
   ]
  },
  {
   "cell_type": "code",
   "execution_count": 6,
   "id": "9df57a90",
   "metadata": {},
   "outputs": [
    {
     "name": "stdout",
     "output_type": "stream",
     "text": [
      "The number is 7.\n"
     ]
    }
   ],
   "source": [
    "# get number\n",
    "rand=random.randint(1,100)\n",
    "# print number\n",
    "print(f'The number is {rand}.')"
   ]
  },
  {
   "cell_type": "markdown",
   "id": "edc9d322",
   "metadata": {},
   "source": [
    "### Programming Exercise Question 1\n",
    "In this exercise I am asked to ask the user for a distance then convert it to miles. I first assign .6214 to the rate variable. I then create the main funtion. First the program asks for the user to enter a distance in kilometers. I then assign kilometers to the show_distance function. In the show_distance funtion I create the formula to convert kilometers to miles. I then create a print statement with a f-string to show the conversion. I then call the main funtion. "
   ]
  },
  {
   "cell_type": "code",
   "execution_count": 7,
   "id": "730e327d",
   "metadata": {},
   "outputs": [
    {
     "name": "stdout",
     "output_type": "stream",
     "text": [
      "Enter the distance in kilometers: 36\n"
     ]
    },
    {
     "ename": "NameError",
     "evalue": "name 'kilometers' is not defined",
     "output_type": "error",
     "traceback": [
      "\u001b[1;31m---------------------------------------------------------------------------\u001b[0m",
      "\u001b[1;31mNameError\u001b[0m                                 Traceback (most recent call last)",
      "Cell \u001b[1;32mIn[7], line 14\u001b[0m\n\u001b[0;32m     12\u001b[0m     miles\u001b[38;5;241m=\u001b[39mkilometers\u001b[38;5;241m*\u001b[39mrate\n\u001b[0;32m     13\u001b[0m     \u001b[38;5;28mprint\u001b[39m(\u001b[38;5;124mf\u001b[39m\u001b[38;5;124m'\u001b[39m\u001b[38;5;124mThe distance in miles is: \u001b[39m\u001b[38;5;132;01m{\u001b[39;00mmiles\u001b[38;5;132;01m:\u001b[39;00m\u001b[38;5;124m,.2f\u001b[39m\u001b[38;5;132;01m}\u001b[39;00m\u001b[38;5;124m'\u001b[39m)\n\u001b[1;32m---> 14\u001b[0m main()\n",
      "Cell \u001b[1;32mIn[7], line 8\u001b[0m, in \u001b[0;36mmain\u001b[1;34m()\u001b[0m\n\u001b[0;32m      6\u001b[0m \u001b[38;5;28;01mdef\u001b[39;00m \u001b[38;5;21mmain\u001b[39m():\n\u001b[0;32m      7\u001b[0m     kilometers\u001b[38;5;241m=\u001b[39m\u001b[38;5;28mint\u001b[39m(\u001b[38;5;28minput\u001b[39m(\u001b[38;5;124m'\u001b[39m\u001b[38;5;124mEnter the distance in kilometers: \u001b[39m\u001b[38;5;124m'\u001b[39m))\n\u001b[1;32m----> 8\u001b[0m     show_distance(kilometers)\n",
      "Cell \u001b[1;32mIn[7], line 12\u001b[0m, in \u001b[0;36mshow_distance\u001b[1;34m(miles)\u001b[0m\n\u001b[0;32m     11\u001b[0m \u001b[38;5;28;01mdef\u001b[39;00m \u001b[38;5;21mshow_distance\u001b[39m(miles):\n\u001b[1;32m---> 12\u001b[0m     miles\u001b[38;5;241m=\u001b[39mkilometers\u001b[38;5;241m*\u001b[39mrate\n\u001b[0;32m     13\u001b[0m     \u001b[38;5;28mprint\u001b[39m(\u001b[38;5;124mf\u001b[39m\u001b[38;5;124m'\u001b[39m\u001b[38;5;124mThe distance in miles is: \u001b[39m\u001b[38;5;132;01m{\u001b[39;00mmiles\u001b[38;5;132;01m:\u001b[39;00m\u001b[38;5;124m,.2f\u001b[39m\u001b[38;5;132;01m}\u001b[39;00m\u001b[38;5;124m'\u001b[39m)\n",
      "\u001b[1;31mNameError\u001b[0m: name 'kilometers' is not defined"
     ]
    }
   ],
   "source": [
    "# assign rate variable\n",
    "rate=.6214\n",
    "\n",
    "\n",
    "# get distance\n",
    "def main():\n",
    "    kilometers=int(input('Enter the distance in kilometers: '))\n",
    "    show_distance(kilometers)\n",
    "\n",
    "# convert and show output\n",
    "def show_distance(miles):\n",
    "    miles=kilometers*rate\n",
    "    print(f'The distance in miles is: {miles:,.2f}')\n",
    "main()"
   ]
  },
  {
   "cell_type": "markdown",
   "id": "b4b7060a",
   "metadata": {},
   "source": [
    "### Programming Exercise Question 17\n",
    "In this exercise I am asked to get a number from the user and determine if the number is a prime number. I first need to create the prime funtion. I assign number to is_prime. I then create a range funtion. I start at 2 because all numbers are divisible by 1 so that is pointless. I go all the way up to the number variable. I then create an if statement to determine if it is false or true. If numbermoduloprme is equal to 0 then it will return it as False. If it is not equal to 0 it will return it as True. I then need to get a number from the user to I create a input statement. I then create a if-else statement to determine what to output.    "
   ]
  },
  {
   "cell_type": "code",
   "execution_count": null,
   "id": "342a1391",
   "metadata": {},
   "outputs": [],
   "source": [
    "# get is_prime function\n",
    "def is_prime(number):\n",
    "# determine prime number\n",
    "    for prme in range(2, number):\n",
    "        if number % prme ==0:\n",
    "            return False\n",
    "    return True\n",
    "# get number\n",
    "number=int(input('Enter a number: '))\n",
    "if is_prime(number):\n",
    "    print('The number is a prime number')\n",
    "else:\n",
    "    print('The number is not a prime number')"
   ]
  },
  {
   "cell_type": "markdown",
   "id": "24917303",
   "metadata": {},
   "source": [
    "### Programming Exercise Question 18\n",
    "In this exercise I am asked to list all the prime number 1-100. I first take the is_prime funtion I created from the question above and insert it into this one. I then need to create a for loop to list all the numbers 1-100. I then nest a if loop to output all the prime numbers. I then create a print statement to prove a way to output the data. "
   ]
  },
  {
   "cell_type": "code",
   "execution_count": null,
   "id": "1669fb5b",
   "metadata": {},
   "outputs": [],
   "source": [
    "# get is_prime function\n",
    "def is_prime(number):\n",
    "    # determine prime number\n",
    "    for prme in range(2, number):\n",
    "        if number % prme==0:\n",
    "            return False\n",
    "    return True\n",
    "# create for loop\n",
    "for number in range(1,101):\n",
    "    # create the lists\n",
    "    if is_prime(number):\n",
    "       print(number)"
   ]
  },
  {
   "cell_type": "markdown",
   "id": "1308611a",
   "metadata": {},
   "source": [
    "### Programming Exercise Question 21"
   ]
  },
  {
   "cell_type": "code",
   "execution_count": null,
   "id": "57518e93",
   "metadata": {},
   "outputs": [],
   "source": [
    "import random"
   ]
  },
  {
   "cell_type": "code",
   "execution_count": null,
   "id": "2afc23dc",
   "metadata": {},
   "outputs": [],
   "source": [
    "# assign num to random number\n",
    "num=random.randint(1,3)\n",
    "# assign 1-3 to their respective option\n",
    "if num == 1 :\n",
    "    computer=\"rock\"\n",
    "elif num == 2 :\n",
    "    computer=\"paper\"\n",
    "else:\n",
    "    computer=\"scissors\"\n",
    "\n",
    "# get user selection\n",
    "user=input('Enter your choice: ')\n",
    "print('\\nYour choice is: ',user)\n",
    "# get computer selection\n",
    "print('Comuter selected: ',computer)\n",
    "\n",
    "# assign 1-3 to the respective choice\n",
    "a=True\n",
    "while a:\n",
    "    if computer==user:\n",
    "        rand_num=random.randint(1,3)\n",
    "        computer=''\n",
    "        if rand_num==1:\n",
    "            computer=\"rock\"\n",
    "        elif rand.num==2:\n",
    "            computer=\"paper\"\n",
    "        else:\n",
    "            computer=\"scissors\"\n",
    "# determine who will win\n",
    "    elif user=='rock' and computer=='scissors':\n",
    "        print('You win!')\n",
    "        a=False\n",
    "    elif user=='scissors' and computer=='rock':\n",
    "        print('Computer wins')\n",
    "        a=False\n",
    "    elif user=='scissors' and computer=='paper':\n",
    "        print('You win!')\n",
    "        a=False\n",
    "    elif user=='paper' and computer=='scissors':\n",
    "        print('Computer wins')\n",
    "        a=False\n",
    "    elif user=='paper' and computer=='rock':\n",
    "        print('You win!')\n",
    "        a=False\n",
    "    elif user=='rock' and computer=='paper':\n",
    "        print('Computer wins')\n",
    "        a=False\n",
    "    else:\n",
    "        print('Tie')"
   ]
  },
  {
   "cell_type": "code",
   "execution_count": null,
   "id": "0fd35af7",
   "metadata": {},
   "outputs": [],
   "source": []
  }
 ],
 "metadata": {
  "kernelspec": {
   "display_name": "Python 3 (ipykernel)",
   "language": "python",
   "name": "python3"
  },
  "language_info": {
   "codemirror_mode": {
    "name": "ipython",
    "version": 3
   },
   "file_extension": ".py",
   "mimetype": "text/x-python",
   "name": "python",
   "nbconvert_exporter": "python",
   "pygments_lexer": "ipython3",
   "version": "3.11.4"
  }
 },
 "nbformat": 4,
 "nbformat_minor": 5
}
