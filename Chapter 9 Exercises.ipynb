{
 "cells": [
  {
   "cell_type": "markdown",
   "id": "a335a462",
   "metadata": {},
   "source": [
    "# Chapter 9 Exercises"
   ]
  },
  {
   "cell_type": "markdown",
   "id": "f2804a91",
   "metadata": {},
   "source": [
    "### Programming Exercise Question 3"
   ]
  },
  {
   "cell_type": "code",
   "execution_count": null,
   "id": "6ee54361",
   "metadata": {},
   "outputs": [],
   "source": [
    "def main():\n",
    "    # create the \n",
    "        codes = {'A': '%', 'a': '9', 'B': '@', \n",
    "                 'b': '#', 'C': '&', 'c': '*', 'D': '+', \n",
    "                 'd': '-', 'E': '=', 'e': '/', 'F': '?', \n",
    "                 'f': '<', 'G': '>', 'g': '^', 'H': '~', \n",
    "                 'h': '`', 'I': '|', 'i': '[', 'J': ']', \n",
    "                 'j': '{', 'K': '}', 'k': ':', 'L': ';', \n",
    "                 'l': ',', 'M': '.', 'm': '\"', 'N': \"'\", \n",
    "                 'n': '_', 'O': '\\\\', 'o': '$', 'P': ')', \n",
    "                 'p': '(', 'Q': '!', 'q': '.', 'R': ',', \n",
    "                 'r': ';', 'S': ':', 's': '{', 'T': '}',\n",
    "                 't':'[','U':'(','u':'[','V':'!','v':'?',\n",
    "                 'W':'<','w':'=','X':'-','x':'&','Y':'*',\n",
    "                 'y':'@','Z':'/','z':'%'\n",
    "                }\n",
    "        \n",
    "    "
   ]
  }
 ],
 "metadata": {
  "kernelspec": {
   "display_name": "Python 3 (ipykernel)",
   "language": "python",
   "name": "python3"
  },
  "language_info": {
   "codemirror_mode": {
    "name": "ipython",
    "version": 3
   },
   "file_extension": ".py",
   "mimetype": "text/x-python",
   "name": "python",
   "nbconvert_exporter": "python",
   "pygments_lexer": "ipython3",
   "version": "3.11.4"
  }
 },
 "nbformat": 4,
 "nbformat_minor": 5
}
