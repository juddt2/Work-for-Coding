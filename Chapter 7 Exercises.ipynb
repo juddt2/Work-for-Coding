{
 "cells": [
  {
   "cell_type": "markdown",
   "id": "4434cd17",
   "metadata": {},
   "source": [
    "# Chapter 7 Exercises"
   ]
  },
  {
   "cell_type": "markdown",
   "id": "0040640f",
   "metadata": {},
   "source": [
    "### Algorithm Workbench Question 3\n",
    "In this exercise I am asked to assign the elements in numbers1 to numbers2. I first start by improting random to randomize 100 numbers to be assigned as elements in numbers1. I then need to create a list that will hold the elements and repeat 100 times. I then create a for loop to generate 100 numbers to be used as the elements in numbers1 list. I then use the random.randint funtion to randomly generate 100 numbers. I then make numbers2 have 0 elements. I then add numbers1 and numbers2 together so the elements inside numbers1 will now be in numbers2. Lastly, I create 2 print statements to let the user know the elements have been copied and then the next print statement displays the elements in the list. "
   ]
  },
  {
   "cell_type": "code",
   "execution_count": 26,
   "id": "59e3cdb7",
   "metadata": {},
   "outputs": [
    {
     "name": "stdout",
     "output_type": "stream",
     "text": [
      "The elements in numbers1 has been copied to numbers2 as shown below.\n",
      "[0, 190, 140, 124, 300, 50, 243, 202, 16, 19, 31, 287, 265, 30, 205, 166, 271, 312, 280, 183, 72, 342, 149, 304, 60, 331, 3, 144, 120, 163, 22, 1, 316, 36, 206, 271, 328, 250, 288, 336, 70, 107, 345, 336, 76, 276, 45, 67, 148, 247, 297, 156, 266, 143, 348, 11, 123, 340, 142, 331, 86, 119, 68, 197, 22, 51, 274, 11, 317, 338, 310, 168, 285, 42, 45, 5, 205, 263, 315, 167, 312, 142, 271, 307, 231, 29, 164, 4, 262, 139, 18, 59, 178, 221, 349, 15, 313, 88, 285, 243, 259]\n"
     ]
    }
   ],
   "source": [
    "import random\n",
    "\n",
    "def main():\n",
    "    \n",
    "    # create a list with 100 elements\n",
    "    numbers1=[0]*100\n",
    "    \n",
    "    # create for loop\n",
    "    for index in range(len(numbers1)):\n",
    "        # randomize the numbers\n",
    "        numbers1[index]=random.randint(1,350)\n",
    "    # let numbers2 = 0\n",
    "    numbers2=[0]\n",
    "    # copy numbers1 to numbers2\n",
    "    numbers2+=numbers1\n",
    "    # tell the user that the elements have been copied and display them\n",
    "    print('The elements in numbers1 has been copied to numbers2 as shown below.')\n",
    "    print(numbers2)\n",
    "    \n",
    "main()\n",
    "    "
   ]
  },
  {
   "cell_type": "markdown",
   "id": "a65647ca",
   "metadata": {},
   "source": [
    "### Programming Exercise Question 1\n",
    "In this exercise I am asked to get the sales for each day from the user and then create a loop to add the total sales. I first create a hold amount to determine how many times the loop itterates. I then create the main function and then create a list to hold sales. I then create a print statement to tell the user to enter the sales for each day. I then create a for loop and use the len funtion to return the length of the sequence. I then need to add the total sales together. I asked chatgpt on how to add input from lists together. It showed me to use the sum() funtion to add them all together. I then needed to show the total sales from the 7 days. I create a print statement to show total sales. I also asked chatgpt how to format a floating point number inside a print statement so it only shows 2 decimal places. It told me to use the f-string inside brackets. "
   ]
  },
  {
   "cell_type": "code",
   "execution_count": 6,
   "id": "f6abcaf6",
   "metadata": {},
   "outputs": [
    {
     "name": "stdout",
     "output_type": "stream",
     "text": [
      "Enter the total sales for each day.\n",
      "Day #1: 456.89\n",
      "Day #2: 145.74\n",
      "Day #3: 234.56\n",
      "Day #4: 756.45\n",
      "Day #5: 633.56\n",
      "Day #6: 1438.74\n",
      "Day #7: 1356.24\n",
      "Total sales: 5022.18\n"
     ]
    }
   ],
   "source": [
    "# days creates a hold for amount of days of total sales\n",
    "days=7\n",
    "\n",
    "# create main function\n",
    "def main():\n",
    "    # create a list to hold the sales\n",
    "    sales=[0]*days\n",
    "    \n",
    "    # tell user to enter sales\n",
    "    print('Enter the total sales for each day.')\n",
    "    \n",
    "    # get sales for each day\n",
    "    for index in range(len(sales)):\n",
    "        sales[index]=float(input(f'Day #{index+1}: '))\n",
    "        \n",
    "    # get total sales\n",
    "    total_sales=sum(sales)\n",
    "        \n",
    "    # show total sales\n",
    "    print('Total sales: {:.2f}'.format(total_sales))\n",
    "        \n",
    "# call main \n",
    "main()\n",
    "         \n",
    "    "
   ]
  },
  {
   "cell_type": "code",
   "execution_count": null,
   "id": "20ceb2a7",
   "metadata": {},
   "outputs": [],
   "source": []
  }
 ],
 "metadata": {
  "kernelspec": {
   "display_name": "Python 3 (ipykernel)",
   "language": "python",
   "name": "python3"
  },
  "language_info": {
   "codemirror_mode": {
    "name": "ipython",
    "version": 3
   },
   "file_extension": ".py",
   "mimetype": "text/x-python",
   "name": "python",
   "nbconvert_exporter": "python",
   "pygments_lexer": "ipython3",
   "version": "3.11.4"
  }
 },
 "nbformat": 4,
 "nbformat_minor": 5
}
