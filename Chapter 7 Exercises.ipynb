{
 "cells": [
  {
   "cell_type": "markdown",
   "id": "4434cd17",
   "metadata": {},
   "source": [
    "# Chapter 7 Exercises"
   ]
  },
  {
   "cell_type": "markdown",
   "id": "0040640f",
   "metadata": {},
   "source": [
    "### Algorithm Workbench Question 3\n",
    "In this exercise I am asked to assign the elements in numbers1 to numbers2. I first start by improting random to randomize 100 numbers to be assigned as elements in numbers1. I then need to create a list that will hold the elements and repeat 100 times. I then create a for loop to generate 100 numbers to be used as the elements in numbers1 list. I then use the random.randint funtion to randomly generate 100 numbers. I then make numbers2 have 0 elements. I then add numbers1 and numbers2 together so the elements inside numbers1 will now be in numbers2. Lastly, I create 2 print statements to let the user know the elements have been copied and then the next print statement displays the elements in the list. "
   ]
  },
  {
   "cell_type": "code",
   "execution_count": 1,
   "id": "59e3cdb7",
   "metadata": {},
   "outputs": [
    {
     "name": "stdout",
     "output_type": "stream",
     "text": [
      "The elements in numbers1 has been copied to numbers2 as shown below.\n",
      "[151, 197, 146, 32, 194, 29, 236, 17, 143, 233, 82, 86, 158, 50, 44, 186, 62, 231, 40, 3, 315, 263, 169, 278, 47, 155, 275, 200, 15, 313, 184, 275, 100, 120, 115, 278, 170, 140, 307, 112, 135, 86, 90, 130, 206, 341, 132, 350, 237, 172, 277, 227, 267, 67, 332, 43, 124, 243, 15, 105, 143, 264, 311, 101, 14, 98, 168, 177, 347, 122, 17, 159, 2, 83, 202, 51, 81, 5, 246, 58, 300, 347, 85, 189, 8, 262, 230, 248, 222, 208, 72, 77, 226, 291, 98, 49, 274, 113, 339, 308]\n"
     ]
    }
   ],
   "source": [
    "import random\n",
    "\n",
    "def main():\n",
    "    \n",
    "    # create a list with 100 elements\n",
    "    numbers1=[0]*100\n",
    "    \n",
    "    # create for loop\n",
    "    for index in range(len(numbers1)):\n",
    "        # randomize the numbers\n",
    "        numbers1[index]=random.randint(1,350)\n",
    "    # let numbers2 = 0\n",
    "    numbers2=list()\n",
    "    # copy numbers1 to numbers2\n",
    "    numbers2+=numbers1\n",
    "    # tell the user that the elements have been copied and display them\n",
    "    print('The elements in numbers1 has been copied to numbers2 as shown below.')\n",
    "    print(numbers2)\n",
    "    \n",
    "main()\n",
    "    "
   ]
  },
  {
   "cell_type": "markdown",
   "id": "a4fb7209",
   "metadata": {},
   "source": [
    "### Algorithm Workbench Question 6\n",
    "In this exercise I am asked to determine if ruby is in a name list. I first start by getting the names for the list and assign it to 'names'. I then need to get user input to search for a name. I create an input statement and assign it to name_search. I then need to determine if the name entered by the user is in the list. I create an if statement and use the in operator. Inside the if statement I put 2 print statements. If the in variable comes back true then it will output the first print statement telling the user the name is in the list. If it comes back false the program will tell the user the name is not in the list. "
   ]
  },
  {
   "cell_type": "code",
   "execution_count": 2,
   "id": "a61cf78c",
   "metadata": {},
   "outputs": [
    {
     "name": "stdout",
     "output_type": "stream",
     "text": [
      "Enter a name to search: Ruby\n",
      "Ruby is in the list.\n"
     ]
    }
   ],
   "source": [
    "def main():\n",
    "    # create a name list\n",
    "    names=['Travis','Mia','Josh','Ruby','Emily']\n",
    "    \n",
    "    # search for a name\n",
    "    name_search=input('Enter a name to search: ')\n",
    "    \n",
    "       # determine if the name is in the list\n",
    "    if name_search in names:\n",
    "        print(f'{name_search} is in the list.')\n",
    "    else:\n",
    "        print(f'{name_search} is not in the list')   \n",
    "        \n",
    "main()"
   ]
  },
  {
   "cell_type": "markdown",
   "id": "a65647ca",
   "metadata": {},
   "source": [
    "### Programming Exercise Question 1\n",
    "In this exercise I am asked to get the sales for each day from the user and then create a loop to add the total sales. I first create a hold amount to determine how many times the loop itterates. I then create the main function and then create a list to hold sales. I then create a print statement to tell the user to enter the sales for each day. I then create a for loop and use the len funtion to return the length of the sequence. I then need to add the total sales together. I asked chatgpt on how to add input from lists together. It showed me to use the sum() funtion to add them all together. I then needed to show the total sales from the 7 days. I create a print statement to show total sales. I also asked chatgpt how to format a floating point number inside a print statement so it only shows 2 decimal places. It told me to use the f-string inside brackets. "
   ]
  },
  {
   "cell_type": "code",
   "execution_count": 3,
   "id": "f6abcaf6",
   "metadata": {},
   "outputs": [
    {
     "name": "stdout",
     "output_type": "stream",
     "text": [
      "Enter the total sales for each day.\n",
      "Day #1: 456.23\n",
      "Day #2: 894.14\n",
      "Day #3: 524.13\n",
      "Day #4: 478.54\n",
      "Day #5: 148.25\n",
      "Day #6: 986.32\n",
      "Day #7: 458.25\n",
      "Total sales: 3945.86\n"
     ]
    }
   ],
   "source": [
    "# days creates a hold for amount of days of total sales\n",
    "days=7\n",
    "\n",
    "# create main function\n",
    "def main():\n",
    "    # create a list to hold the sales\n",
    "    sales=[0]*days\n",
    "    \n",
    "    # tell user to enter sales\n",
    "    print('Enter the total sales for each day.')\n",
    "    \n",
    "    # get sales for each day\n",
    "    for index in range(len(sales)):\n",
    "        sales[index]=float(input(f'Day #{index+1}: '))\n",
    "        \n",
    "    # get total sales\n",
    "    total_sales=sum(sales)\n",
    "        \n",
    "    # show total sales\n",
    "    print('Total sales: {:.2f}'.format(total_sales))\n",
    "        \n",
    "# call main \n",
    "main()\n",
    "         \n",
    "    "
   ]
  },
  {
   "cell_type": "markdown",
   "id": "53f83e1a",
   "metadata": {},
   "source": [
    "### Programming Exercise Question 4\n",
    "In this exercise I am asked to ask the user to enter 20 numbers and store them in a list and then find the lowest,highest,total, and average of all the numbers. First I create an empty list. I then create a for loop that itterates 20 times to get 20 numbers. I then ask the user to enter a number and assign it to user_value. I then need to add all of those numbers to the list so I use the append funtion to add them. I then need to get the lowest number so I use the min funtion to get the minimum and then create a print statement that shows what the lowest number is. I then get the highest number by using the max funtion(I assumed since min was the funtion to get the lowest number, max would be to get the highest). I then created a print statement to show the user what the highest number is. I then need to get the total amount of numbers. I used the sum funtion to add all of the numbers together in the list. I then created another print statement to show the total. Lastly, I need to get the average. I take the total and divide it using the len funtion(returns the length of the list). I then create a print statement to show the user what the total is. "
   ]
  },
  {
   "cell_type": "code",
   "execution_count": 4,
   "id": "f097635d",
   "metadata": {},
   "outputs": [
    {
     "name": "stdout",
     "output_type": "stream",
     "text": [
      "Enter number 1: 44\n",
      "Enter number 2: 55\n",
      "Enter number 3: 11\n",
      "Enter number 4: 63\n",
      "Enter number 5: 54\n",
      "Enter number 6: 82\n",
      "Enter number 7: 4\n",
      "Enter number 8: 3\n",
      "Enter number 9: 7\n",
      "Enter number 10: 25\n",
      "Enter number 11: 64\n",
      "Enter number 12: 85\n",
      "Enter number 13: 37\n",
      "Enter number 14: 46\n",
      "Enter number 15: 58\n",
      "Enter number 16: 24\n",
      "Enter number 17: 56\n",
      "Enter number 18: 98\n",
      "Enter number 19: 32\n",
      "Enter number 20: 13\n",
      "\n",
      "The lowest number is: 3\n",
      "The highest number is: 98\n",
      "The total amount of numbers is: 861\n",
      "The average of all the numbers is: 43.05\n"
     ]
    }
   ],
   "source": [
    "def main():\n",
    "    # create an empty list\n",
    "    num_list=[]\n",
    "    # create a for loop to get the user to enter 20 numbers\n",
    "    for num in range(20):\n",
    "        user_value=int(input(f'Enter number {num + 1}: '))\n",
    "        num_list.append(user_value)\n",
    "    \n",
    "    # put a space between lines\n",
    "    print()\n",
    "    \n",
    "    # Get the lowest number \n",
    "    lowest=min(num_list)\n",
    "    # show the user the lowest number\n",
    "    print(f'The lowest number is: {lowest}')\n",
    "          \n",
    "    # get the highest number\n",
    "    highest=max(num_list)\n",
    "    # show the user the highest number\n",
    "    print(f'The highest number is: {highest}')\n",
    "    \n",
    "    # get the total numbers\n",
    "    total=sum(num_list)\n",
    "    # show the user the total \n",
    "    print(f'The total amount of numbers is: {total}')\n",
    "    \n",
    "    # get the average\n",
    "    average=total/(len(num_list))\n",
    "    # show the user the average\n",
    "    print(f'The average of all the numbers is: {average}')\n",
    "    \n",
    "    \n",
    "main()"
   ]
  },
  {
   "cell_type": "markdown",
   "id": "8909ea63",
   "metadata": {},
   "source": [
    "### Programming Exercise Question 13\n",
    "In this exercise I am asked to write a program that simulates 8-ball. First I need to get the responces that the program will randomly generate. I asked chatGPT how to make a more efficient way of getting the responses. It told me to use a single string seperated by commas. I then need to write the responces to a file. I open the file in write mode. I create a for loop to write all of the responses into the 8_ball_responses_.txt. I then close the write file. I then re open the 8_ball_responses.txt file in read mode. I then read the file into a list. I create a for loop to strip all of the \\n from all of the responses. I now need to generate the 8 ball resonse. I assign y to another for when the program asks the user if they would like to ask another question. I first start by getting a question from the user and then print a blank space to seperate the lines. I then assign random.choice to answer to get the 8 ball answer. I then create a print statement to show the 8-ball response. I then create a print and input statement to ask the user if they would like to ask another question."
   ]
  },
  {
   "cell_type": "code",
   "execution_count": 14,
   "id": "fb2bfcaa",
   "metadata": {},
   "outputs": [
    {
     "name": "stdout",
     "output_type": "stream",
     "text": [
      "Ask a question: Will the Lions win the Super Bowl?\n",
      "\n",
      "I dont think so\n",
      "\n",
      "Do you want to ask another question?\n",
      "\n",
      "Y = yes, anything else=no: y\n",
      "\n",
      "Ask a question: Are the Lions still the Same ole' Lions?\n",
      "\n",
      "For sure\n",
      "\n",
      "Do you want to ask another question?\n",
      "\n",
      "Y = yes, anything else=no: no\n",
      "\n"
     ]
    }
   ],
   "source": [
    "import random\n",
    "\n",
    "def main():\n",
    "    # get responces\n",
    "    responses=[\n",
    "        'Yes, of course',\n",
    "        'Without a doubt, yes!',\n",
    "        'You can count on it',\n",
    "        'For sure',\n",
    "        'Ask me later',\n",
    "        'Im not sure',\n",
    "        'I cant tell you right now',\n",
    "        'Ill tell you after my nap',\n",
    "        'No way!',\n",
    "        'I dont think so',\n",
    "        'Without a doubt, no',\n",
    "        'The answer is clearly, NO',\n",
    "    ]\n",
    "    \n",
    "    # open a file using the with statement\n",
    "    outfile=open('8_ball_responses.txt','w')\n",
    "        \n",
    "        # write the list to a file\n",
    "    for response in responses:\n",
    "        outfile.write(response+'\\n')\n",
    "        \n",
    "    # close the file\n",
    "    outfile.close()\n",
    "    \n",
    "    # read the file into a list\n",
    "    # open the file for reading\n",
    "    infile=open('8_ball_responses.txt','r')\n",
    "    \n",
    "    # read the contents of the file into a list\n",
    "    responses=infile.readlines()\n",
    "    \n",
    "    # close the file\n",
    "    infile.close()\n",
    "    \n",
    "    # strip the \\n\n",
    "    for index in range(len(responses)):\n",
    "        responses[index]=responses[index].rstrip('\\n')\n",
    "    \n",
    "    # create placeholder to see if user wants to keep going\n",
    "    another='y'\n",
    "    # creat while statement\n",
    "    while another=='y' or another=='Y':\n",
    "        # have user ask a questiom\n",
    "        user=input('Ask a question: ')\n",
    "        print()\n",
    "    \n",
    "        # randomly select a response\n",
    "        answer=random.choice(responses)\n",
    "    \n",
    "        # print response\n",
    "        print(answer)\n",
    "        print()\n",
    "    \n",
    "      \n",
    "        print('Do you want to ask another question?')\n",
    "        print()\n",
    "        another=input('Y = yes, anything else=no: ')\n",
    "        print()\n",
    "    \n",
    "main()\n",
    "    "
   ]
  },
  {
   "cell_type": "markdown",
   "id": "c461019d",
   "metadata": {},
   "source": [
    "### Programming Exercise Question 14"
   ]
  },
  {
   "cell_type": "code",
   "execution_count": 18,
   "id": "22274981",
   "metadata": {},
   "outputs": [],
   "source": [
    "import matplotlib\n",
    "import matplotlib.pyplot\n",
    "import matplotlib.pyplot as plt"
   ]
  },
  {
   "cell_type": "code",
   "execution_count": 20,
   "id": "06944131",
   "metadata": {},
   "outputs": [
    {
     "ename": "FileNotFoundError",
     "evalue": "[Errno 2] No such file or directory: 'expenses.txt'",
     "output_type": "error",
     "traceback": [
      "\u001b[1;31m---------------------------------------------------------------------------\u001b[0m",
      "\u001b[1;31mFileNotFoundError\u001b[0m                         Traceback (most recent call last)",
      "Cell \u001b[1;32mIn[20], line 24\u001b[0m\n\u001b[0;32m     22\u001b[0m     \u001b[38;5;28;01mfor\u001b[39;00m category,amount \u001b[38;5;129;01min\u001b[39;00m expenses\u001b[38;5;241m.\u001b[39mitems():\n\u001b[0;32m     23\u001b[0m         \u001b[38;5;28mprint\u001b[39m(\u001b[38;5;124mf\u001b[39m\u001b[38;5;124m'\u001b[39m\u001b[38;5;132;01m{\u001b[39;00mcategory\u001b[38;5;132;01m}\u001b[39;00m\u001b[38;5;124m: \u001b[39m\u001b[38;5;132;01m{\u001b[39;00mamount\u001b[38;5;132;01m}\u001b[39;00m\u001b[38;5;124m'\u001b[39m)\n\u001b[1;32m---> 24\u001b[0m main()\n",
      "Cell \u001b[1;32mIn[20], line 14\u001b[0m, in \u001b[0;36mmain\u001b[1;34m()\u001b[0m\n\u001b[0;32m     11\u001b[0m expenses\u001b[38;5;241m=\u001b[39m{}\n\u001b[0;32m     13\u001b[0m \u001b[38;5;66;03m# open a read file\u001b[39;00m\n\u001b[1;32m---> 14\u001b[0m \u001b[38;5;28;01mwith\u001b[39;00m \u001b[38;5;28mopen\u001b[39m(\u001b[38;5;124m'\u001b[39m\u001b[38;5;124mexpenses.txt\u001b[39m\u001b[38;5;124m'\u001b[39m,\u001b[38;5;124m'\u001b[39m\u001b[38;5;124mr\u001b[39m\u001b[38;5;124m'\u001b[39m) \u001b[38;5;28;01mas\u001b[39;00m file:\n\u001b[0;32m     15\u001b[0m     \u001b[38;5;28;01mfor\u001b[39;00m line \u001b[38;5;129;01min\u001b[39;00m file:\n\u001b[0;32m     16\u001b[0m         \u001b[38;5;66;03m# split the line into category and amount\u001b[39;00m\n\u001b[0;32m     17\u001b[0m         category, amount\u001b[38;5;241m=\u001b[39mline\u001b[38;5;241m.\u001b[39mstrip()\u001b[38;5;241m.\u001b[39msplit()\n",
      "File \u001b[1;32m~\\anaconda3\\Lib\\site-packages\\IPython\\core\\interactiveshell.py:284\u001b[0m, in \u001b[0;36m_modified_open\u001b[1;34m(file, *args, **kwargs)\u001b[0m\n\u001b[0;32m    277\u001b[0m \u001b[38;5;28;01mif\u001b[39;00m file \u001b[38;5;129;01min\u001b[39;00m {\u001b[38;5;241m0\u001b[39m, \u001b[38;5;241m1\u001b[39m, \u001b[38;5;241m2\u001b[39m}:\n\u001b[0;32m    278\u001b[0m     \u001b[38;5;28;01mraise\u001b[39;00m \u001b[38;5;167;01mValueError\u001b[39;00m(\n\u001b[0;32m    279\u001b[0m         \u001b[38;5;124mf\u001b[39m\u001b[38;5;124m\"\u001b[39m\u001b[38;5;124mIPython won\u001b[39m\u001b[38;5;124m'\u001b[39m\u001b[38;5;124mt let you open fd=\u001b[39m\u001b[38;5;132;01m{\u001b[39;00mfile\u001b[38;5;132;01m}\u001b[39;00m\u001b[38;5;124m by default \u001b[39m\u001b[38;5;124m\"\u001b[39m\n\u001b[0;32m    280\u001b[0m         \u001b[38;5;124m\"\u001b[39m\u001b[38;5;124mas it is likely to crash IPython. If you know what you are doing, \u001b[39m\u001b[38;5;124m\"\u001b[39m\n\u001b[0;32m    281\u001b[0m         \u001b[38;5;124m\"\u001b[39m\u001b[38;5;124myou can use builtins\u001b[39m\u001b[38;5;124m'\u001b[39m\u001b[38;5;124m open.\u001b[39m\u001b[38;5;124m\"\u001b[39m\n\u001b[0;32m    282\u001b[0m     )\n\u001b[1;32m--> 284\u001b[0m \u001b[38;5;28;01mreturn\u001b[39;00m io_open(file, \u001b[38;5;241m*\u001b[39margs, \u001b[38;5;241m*\u001b[39m\u001b[38;5;241m*\u001b[39mkwargs)\n",
      "\u001b[1;31mFileNotFoundError\u001b[0m: [Errno 2] No such file or directory: 'expenses.txt'"
     ]
    }
   ],
   "source": [
    "def main():\n",
    "    # get expense data\n",
    "    expenses={\n",
    "        'rent':588,\n",
    "        'gas':477,\n",
    "        'food':325.14,\n",
    "        'clothing':125.12,\n",
    "        'car_payment':350,\n",
    "        'misc':114.29\n",
    "    }\n",
    "    \n",
    "    \n",
    "     # open a write file\n",
    "    with open('expenses.txt','w') as file:\n",
    "         # write each to the file\n",
    "        for category,amount in expenses.items():\n",
    "            file.write(f'{category}:{amount}\\n')\n",
    "            \n",
    "    # get category and amount\n",
    "    categories=list(expenses.keys())\n",
    "    amounts=list(expenses.values())\n",
    "    \n",
    "    \n",
    "main()\n",
    "        \n",
    "    \n",
    "    "
   ]
  },
  {
   "cell_type": "code",
   "execution_count": null,
   "id": "e16365de",
   "metadata": {},
   "outputs": [],
   "source": []
  }
 ],
 "metadata": {
  "kernelspec": {
   "display_name": "Python 3 (ipykernel)",
   "language": "python",
   "name": "python3"
  },
  "language_info": {
   "codemirror_mode": {
    "name": "ipython",
    "version": 3
   },
   "file_extension": ".py",
   "mimetype": "text/x-python",
   "name": "python",
   "nbconvert_exporter": "python",
   "pygments_lexer": "ipython3",
   "version": "3.11.4"
  }
 },
 "nbformat": 4,
 "nbformat_minor": 5
}
