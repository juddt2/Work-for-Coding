{
 "cells": [
  {
   "cell_type": "markdown",
   "id": "8fef6417",
   "metadata": {},
   "source": [
    "# Chapter 7 Exercises"
   ]
  },
  {
   "cell_type": "markdown",
   "id": "dd43bc22",
   "metadata": {},
   "source": [
    "### Algorithm Workbench Question 3"
   ]
  },
  {
   "cell_type": "code",
   "execution_count": 19,
   "id": "a0325e93",
   "metadata": {},
   "outputs": [
    {
     "name": "stdout",
     "output_type": "stream",
     "text": [
      "99\n"
     ]
    }
   ],
   "source": [
    "import random\n",
    "\n",
    "def main():\n",
    "    \n",
    "    # create a list with 100 elements\n",
    "    numbers1=[0]*100\n",
    "    \n",
    "    # randomize the numbers\n",
    "    for index in range(len(numbers1)):\n",
    "        numbers1[index]=random.randint(1,350)\n",
    "    print(index)\n",
    "    \n",
    "main()\n",
    "    "
   ]
  },
  {
   "cell_type": "markdown",
   "id": "960921aa",
   "metadata": {},
   "source": [
    "### Programming Exercise Question 1\n",
    "In this exercise I am asked to get the sales for each day from the user and then create a loop to add the total sales. I first create a hold amount to determine how many times the loop itterates. I then create the main function and then create a list to hold sales. I then create a print statement to tell the user to enter the sales for each day. I then create a for loop and use the len funtion to return the length of the sequence. I then need to add the total sales together. I asked chatgpt on how to add input from lists together. It showed me to use the sum() funtion to add them all together. I then needed to show the total sales from the 7 days. I create a print statement to show total sales. I also asked chatgpt how to format a floating point number inside a print statement so it only shows 2 decimal places. It told me to use the f-string inside brackets. "
   ]
  },
  {
   "cell_type": "code",
   "execution_count": 6,
   "id": "118daae7",
   "metadata": {},
   "outputs": [
    {
     "name": "stdout",
     "output_type": "stream",
     "text": [
      "Enter the total sales for each day.\n",
      "Day #1: 456.89\n",
      "Day #2: 145.74\n",
      "Day #3: 234.56\n",
      "Day #4: 756.45\n",
      "Day #5: 633.56\n",
      "Day #6: 1438.74\n",
      "Day #7: 1356.24\n",
      "Total sales: 5022.18\n"
     ]
    }
   ],
   "source": [
    "# days creates a hold for amount of days of total sales\n",
    "days=7\n",
    "\n",
    "# create main function\n",
    "def main():\n",
    "    # create a list to hold the sales\n",
    "    sales=[0]*days\n",
    "    \n",
    "    # tell user to enter sales\n",
    "    print('Enter the total sales for each day.')\n",
    "    \n",
    "    # get sales for each day\n",
    "    for index in range(len(sales)):\n",
    "        sales[index]=float(input(f'Day #{index+1}: '))\n",
    "        \n",
    "    # get total sales\n",
    "    total_sales=sum(sales)\n",
    "        \n",
    "    # show total sales\n",
    "    print('Total sales: {:.2f}'.format(total_sales))\n",
    "        \n",
    "# call main \n",
    "main()\n",
    "         \n",
    "    "
   ]
  },
  {
   "cell_type": "code",
   "execution_count": null,
   "id": "b470c80f",
   "metadata": {},
   "outputs": [],
   "source": []
  }
 ],
 "metadata": {
  "kernelspec": {
   "display_name": "Python 3 (ipykernel)",
   "language": "python",
   "name": "python3"
  },
  "language_info": {
   "codemirror_mode": {
    "name": "ipython",
    "version": 3
   },
   "file_extension": ".py",
   "mimetype": "text/x-python",
   "name": "python",
   "nbconvert_exporter": "python",
   "pygments_lexer": "ipython3",
   "version": "3.11.4"
  }
 },
 "nbformat": 4,
 "nbformat_minor": 5
}
