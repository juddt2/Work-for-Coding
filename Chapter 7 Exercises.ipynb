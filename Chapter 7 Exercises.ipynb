{
 "cells": [
  {
   "cell_type": "markdown",
   "id": "4434cd17",
   "metadata": {},
   "source": [
    "# Chapter 7 Exercises"
   ]
  },
  {
   "cell_type": "markdown",
   "id": "0040640f",
   "metadata": {},
   "source": [
    "### Algorithm Workbench Question 3\n",
    "In this exercise I am asked to assign the elements in numbers1 to numbers2. I first start by improting random to randomize 100 numbers to be assigned as elements in numbers1. I then need to create a list that will hold the elements and repeat 100 times. I then create a for loop to generate 100 numbers to be used as the elements in numbers1 list. I then use the random.randint funtion to randomly generate 100 numbers. I then make numbers2 have 0 elements. I then add numbers1 and numbers2 together so the elements inside numbers1 will now be in numbers2. Lastly, I create 2 print statements to let the user know the elements have been copied and then the next print statement displays the elements in the list. "
   ]
  },
  {
   "cell_type": "code",
   "execution_count": 1,
   "id": "59e3cdb7",
   "metadata": {},
   "outputs": [
    {
     "name": "stdout",
     "output_type": "stream",
     "text": [
      "The elements in numbers1 has been copied to numbers2 as shown below.\n",
      "[147, 309, 277, 125, 324, 154, 341, 15, 91, 105, 99, 120, 262, 248, 166, 63, 27, 112, 63, 234, 308, 257, 337, 52, 343, 296, 236, 265, 306, 189, 346, 30, 128, 343, 169, 17, 258, 314, 213, 75, 182, 228, 25, 12, 163, 144, 208, 25, 84, 274, 243, 91, 232, 54, 270, 124, 322, 184, 174, 114, 91, 321, 174, 254, 228, 120, 57, 207, 132, 253, 315, 191, 311, 228, 128, 28, 266, 333, 314, 18, 219, 13, 197, 82, 240, 267, 158, 103, 282, 324, 224, 255, 176, 138, 155, 140, 127, 92, 275, 246]\n"
     ]
    }
   ],
   "source": [
    "import random\n",
    "\n",
    "def main():\n",
    "    \n",
    "    # create a list with 100 elements\n",
    "    numbers1=[0]*100\n",
    "    \n",
    "    # create for loop\n",
    "    for index in range(len(numbers1)):\n",
    "        # randomize the numbers\n",
    "        numbers1[index]=random.randint(1,350)\n",
    "    # let numbers2 = 0\n",
    "    numbers2=list()\n",
    "    # copy numbers1 to numbers2\n",
    "    numbers2+=numbers1\n",
    "    # tell the user that the elements have been copied and display them\n",
    "    print('The elements in numbers1 has been copied to numbers2 as shown below.')\n",
    "    print(numbers2)\n",
    "    \n",
    "main()\n",
    "    "
   ]
  },
  {
   "cell_type": "markdown",
   "id": "d4364275",
   "metadata": {},
   "source": [
    "### Algorithm Workbench Question 6\n",
    "In this exercise I am asked to determine if ruby is in a name list. I first start by getting the names for the list and assign it to 'names'. I then need to get user input to search for a name. I create an input statement and assign it to name_search. I then need to determine if the name entered by the user is in the list. I create an if statement and use the in operator. Inside the if statement I put 2 print statements. If the in variable comes back true then it will output the first print statement telling the user the name is in the list. If it comes back false the program will tell the user the name is not in the list. "
   ]
  },
  {
   "cell_type": "code",
   "execution_count": 2,
   "id": "3d8cc537",
   "metadata": {},
   "outputs": [
    {
     "name": "stdout",
     "output_type": "stream",
     "text": [
      "Enter a name to search: Ruby\n",
      "Ruby is in the list.\n"
     ]
    }
   ],
   "source": [
    "def main():\n",
    "    # create a name list\n",
    "    names=['Travis','Mia','Josh','Ruby','Emily']\n",
    "    \n",
    "    # search for a name\n",
    "    name_search=input('Enter a name to search: ')\n",
    "    \n",
    "       # determine if the name is in the list\n",
    "    if name_search in names:\n",
    "        print(f'{name_search} is in the list.')\n",
    "    else:\n",
    "        print(f'{name_search} is not in the list')   \n",
    "        \n",
    "main()"
   ]
  },
  {
   "cell_type": "markdown",
   "id": "a65647ca",
   "metadata": {},
   "source": [
    "### Programming Exercise Question 1\n",
    "In this exercise I am asked to get the sales for each day from the user and then create a loop to add the total sales. I first create a hold amount to determine how many times the loop itterates. I then create the main function and then create a list to hold sales. I then create a print statement to tell the user to enter the sales for each day. I then create a for loop and use the len funtion to return the length of the sequence. I then need to add the total sales together. I asked chatgpt on how to add input from lists together. It showed me to use the sum() funtion to add them all together. I then needed to show the total sales from the 7 days. I create a print statement to show total sales. I also asked chatgpt how to format a floating point number inside a print statement so it only shows 2 decimal places. It told me to use the f-string inside brackets. "
   ]
  },
  {
   "cell_type": "code",
   "execution_count": 3,
   "id": "f6abcaf6",
   "metadata": {},
   "outputs": [
    {
     "name": "stdout",
     "output_type": "stream",
     "text": [
      "Enter the total sales for each day.\n",
      "Day #1: 456.56\n",
      "Day #2: 421.89\n",
      "Day #3: 745.65\n",
      "Day #4: 235.45\n",
      "Day #5: 897.14\n",
      "Day #6: 256.41\n",
      "Day #7: 452.32\n",
      "Total sales: 3465.42\n"
     ]
    }
   ],
   "source": [
    "# days creates a hold for amount of days of total sales\n",
    "days=7\n",
    "\n",
    "# create main function\n",
    "def main():\n",
    "    # create a list to hold the sales\n",
    "    sales=[0]*days\n",
    "    \n",
    "    # tell user to enter sales\n",
    "    print('Enter the total sales for each day.')\n",
    "    \n",
    "    # get sales for each day\n",
    "    for index in range(len(sales)):\n",
    "        sales[index]=float(input(f'Day #{index+1}: '))\n",
    "        \n",
    "    # get total sales\n",
    "    total_sales=sum(sales)\n",
    "        \n",
    "    # show total sales\n",
    "    print('Total sales: {:.2f}'.format(total_sales))\n",
    "        \n",
    "# call main \n",
    "main()\n",
    "         \n",
    "    "
   ]
  },
  {
   "cell_type": "markdown",
   "id": "f5bf1e97",
   "metadata": {},
   "source": [
    "### Programming Exercise Question 4"
   ]
  },
  {
   "cell_type": "code",
   "execution_count": 8,
   "id": "320b053c",
   "metadata": {},
   "outputs": [
    {
     "name": "stdout",
     "output_type": "stream",
     "text": [
      "Enter a number: 2\n",
      "Enter a number: 4\n",
      "Enter a number: 8\n",
      "Enter a number: 7\n",
      "Enter a number: 9\n",
      "Enter a number: 1\n",
      "Enter a number: 16\n",
      "Enter a number: 45\n",
      "Enter a number: 87\n",
      "Enter a number: 25\n",
      "Enter a number: 62\n",
      "Enter a number: 41\n",
      "Enter a number: 28\n",
      "Enter a number: 59\n",
      "Enter a number: 47\n",
      "Enter a number: 14\n",
      "Enter a number: 23\n",
      "Enter a number: 65\n",
      "Enter a number: 47\n",
      "Enter a number: 85\n",
      "The lowest number is: 1\n",
      "The highest number is: 87\n",
      "The total amount of numbers is: 675\n"
     ]
    }
   ],
   "source": [
    "\n",
    "def main():\n",
    "    # create an empty list\n",
    "    num_list=[]\n",
    "    # create a for loop to get the user to enter 20 numbers\n",
    "    for num in range(20):\n",
    "        user_value=int(input('Enter a number: '))\n",
    "        num_list.append(user_value)\n",
    "    \n",
    "    # Get the lowest number \n",
    "    lowest=min(num_list)\n",
    "    # show the user the lowest number\n",
    "    print(f'The lowest number is: {lowest}')\n",
    "          \n",
    "    # get the highest number\n",
    "    highest=max(num_list)\n",
    "    # show the \n",
    "    print(f'The highest number is: {highest}')\n",
    "    \n",
    "    # get the total numbers\n",
    "    total=sum(num_list)\n",
    "    print(f'The total amount of numbers is: {total}')\n",
    "    \n",
    "    # get the average \n",
    "    \n",
    "main()\n",
    "    "
   ]
  },
  {
   "cell_type": "markdown",
   "id": "11132982",
   "metadata": {},
   "source": [
    "### Programming Exercise Question 14"
   ]
  },
  {
   "cell_type": "code",
   "execution_count": null,
   "id": "2f725371",
   "metadata": {},
   "outputs": [],
   "source": [
    "5"
   ]
  }
 ],
 "metadata": {
  "kernelspec": {
   "display_name": "Python 3 (ipykernel)",
   "language": "python",
   "name": "python3"
  },
  "language_info": {
   "codemirror_mode": {
    "name": "ipython",
    "version": 3
   },
   "file_extension": ".py",
   "mimetype": "text/x-python",
   "name": "python",
   "nbconvert_exporter": "python",
   "pygments_lexer": "ipython3",
   "version": "3.11.4"
  }
 },
 "nbformat": 4,
 "nbformat_minor": 5
}
