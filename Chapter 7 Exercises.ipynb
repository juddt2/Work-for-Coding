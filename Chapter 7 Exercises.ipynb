{
 "cells": [
  {
   "cell_type": "markdown",
   "id": "6ca972b0",
   "metadata": {},
   "source": [
    "# Chapter 7 Exercises"
   ]
  },
  {
   "cell_type": "markdown",
   "id": "a951e849",
   "metadata": {},
   "source": [
    "### Algorithm Workbench Question 3"
   ]
  },
  {
   "cell_type": "code",
   "execution_count": 9,
   "id": "56a0c4e8",
   "metadata": {},
   "outputs": [
    {
     "name": "stdout",
     "output_type": "stream",
     "text": [
      "333\n",
      "84\n",
      "173\n",
      "321\n",
      "314\n",
      "46\n",
      "171\n",
      "82\n",
      "49\n",
      "302\n",
      "318\n",
      "311\n",
      "120\n",
      "139\n",
      "197\n",
      "76\n",
      "134\n",
      "49\n",
      "300\n",
      "7\n",
      "197\n",
      "172\n",
      "76\n",
      "347\n",
      "66\n",
      "313\n",
      "299\n",
      "119\n",
      "173\n",
      "294\n",
      "90\n",
      "189\n",
      "314\n",
      "281\n",
      "76\n",
      "237\n",
      "110\n",
      "177\n",
      "101\n",
      "263\n",
      "275\n",
      "160\n",
      "106\n",
      "126\n",
      "183\n",
      "207\n",
      "135\n",
      "206\n",
      "26\n",
      "207\n",
      "109\n",
      "275\n",
      "167\n",
      "77\n",
      "309\n",
      "53\n",
      "142\n",
      "237\n",
      "289\n",
      "94\n",
      "30\n",
      "113\n",
      "129\n",
      "161\n",
      "180\n",
      "136\n",
      "88\n",
      "76\n",
      "146\n",
      "39\n",
      "101\n",
      "156\n",
      "190\n",
      "8\n",
      "249\n",
      "344\n",
      "116\n",
      "170\n",
      "324\n",
      "40\n",
      "142\n",
      "144\n",
      "135\n",
      "204\n",
      "255\n",
      "145\n",
      "280\n",
      "344\n",
      "333\n",
      "223\n",
      "77\n",
      "85\n",
      "209\n",
      "165\n",
      "321\n",
      "191\n",
      "158\n",
      "179\n",
      "278\n",
      "212\n"
     ]
    }
   ],
   "source": [
    "import random\n",
    "# create a loop to generate 100 numbers\n",
    "for num in range(100):\n",
    "    list1=random.randint(1,350)\n",
    "    print(list1)"
   ]
  },
  {
   "cell_type": "markdown",
   "id": "d4b8cbae",
   "metadata": {},
   "source": [
    "### Programming Exercise Question 1\n",
    "In this exercise I am asked to get the sales for each day from the user and then create a loop to add the total sales. I first create a hold amount to determine how many times the loop itterates. I then create the main function and then create a list to hold sales. I then create a print statement to tell the user to enter the sales for each day. I then create a for loop and use the len funtion to return the length of the sequence. I then need to add the total sales together. I asked chatgpt on how to add input from lists together. It showed me to use the sum() funtion to add them all together. I then needed to show the total sales from the 7 days. I create a print statement to show total sales. I also asked chatgpt how to format a floating point number inside a print statement so it only shows 2 decimal places. It told me to use the f-string inside brackets. "
   ]
  },
  {
   "cell_type": "code",
   "execution_count": 6,
   "id": "9d00b24d",
   "metadata": {},
   "outputs": [
    {
     "name": "stdout",
     "output_type": "stream",
     "text": [
      "Enter the total sales for each day.\n",
      "Day #1: 456.89\n",
      "Day #2: 145.74\n",
      "Day #3: 234.56\n",
      "Day #4: 756.45\n",
      "Day #5: 633.56\n",
      "Day #6: 1438.74\n",
      "Day #7: 1356.24\n",
      "Total sales: 5022.18\n"
     ]
    }
   ],
   "source": [
    "# days creates a hold for amount of days of total sales\n",
    "days=7\n",
    "\n",
    "# create main function\n",
    "def main():\n",
    "    # create a list to hold the sales\n",
    "    sales=[0]*days\n",
    "    \n",
    "    # tell user to enter sales\n",
    "    print('Enter the total sales for each day.')\n",
    "    \n",
    "    # get sales for each day\n",
    "    for index in range(len(sales)):\n",
    "        sales[index]=float(input(f'Day #{index+1}: '))\n",
    "        \n",
    "    # get total sales\n",
    "    total_sales=sum(sales)\n",
    "        \n",
    "    # show total sales\n",
    "    print('Total sales: {:.2f}'.format(total_sales))\n",
    "        \n",
    "# call main \n",
    "main()\n",
    "         \n",
    "    "
   ]
  },
  {
   "cell_type": "code",
   "execution_count": null,
   "id": "fd2088ee",
   "metadata": {},
   "outputs": [],
   "source": []
  }
 ],
 "metadata": {
  "kernelspec": {
   "display_name": "Python 3 (ipykernel)",
   "language": "python",
   "name": "python3"
  },
  "language_info": {
   "codemirror_mode": {
    "name": "ipython",
    "version": 3
   },
   "file_extension": ".py",
   "mimetype": "text/x-python",
   "name": "python",
   "nbconvert_exporter": "python",
   "pygments_lexer": "ipython3",
   "version": "3.11.4"
  }
 },
 "nbformat": 4,
 "nbformat_minor": 5
}
