{
 "cells": [
  {
   "cell_type": "markdown",
   "id": "53bf0913",
   "metadata": {},
   "source": [
    "# Chapter 7 Exercises"
   ]
  },
  {
   "cell_type": "markdown",
   "id": "4188af06",
   "metadata": {},
   "source": [
    "### Programming Exercise Question 1"
   ]
  },
  {
   "cell_type": "code",
   "execution_count": 2,
   "id": "d2144e53",
   "metadata": {},
   "outputs": [
    {
     "ename": "SyntaxError",
     "evalue": "invalid decimal literal (131251393.py, line 20)",
     "output_type": "error",
     "traceback": [
      "\u001b[1;36m  Cell \u001b[1;32mIn[2], line 20\u001b[1;36m\u001b[0m\n\u001b[1;33m    print(f'Total sales:'.2f, total_sales)\u001b[0m\n\u001b[1;37m                          ^\u001b[0m\n\u001b[1;31mSyntaxError\u001b[0m\u001b[1;31m:\u001b[0m invalid decimal literal\n"
     ]
    }
   ],
   "source": [
    "# days creates a hold for amount of days of total sales\n",
    "days=7\n",
    "\n",
    "# create main function\n",
    "def main():\n",
    "    # create a list to hold the sales\n",
    "    sales=[0]*days\n",
    "    \n",
    "    # tell user to enter sales\n",
    "    print('Enter the total sales for each day.')\n",
    "    \n",
    "    # get sales for each day\n",
    "    for index in range(len(sales)):\n",
    "        sales[index]=float(input(f'Day #{index+1}: '))\n",
    "        \n",
    "    # get total sales\n",
    "    total_sales=sum(sales)\n",
    "        \n",
    "    # show total sales\n",
    "    print(f'Total sales:'.2f, total_sales)\n",
    "        \n",
    "# call main \n",
    "main()\n",
    "         \n",
    "    "
   ]
  },
  {
   "cell_type": "code",
   "execution_count": null,
   "id": "a311a64b",
   "metadata": {},
   "outputs": [],
   "source": []
  }
 ],
 "metadata": {
  "kernelspec": {
   "display_name": "Python 3 (ipykernel)",
   "language": "python",
   "name": "python3"
  },
  "language_info": {
   "codemirror_mode": {
    "name": "ipython",
    "version": 3
   },
   "file_extension": ".py",
   "mimetype": "text/x-python",
   "name": "python",
   "nbconvert_exporter": "python",
   "pygments_lexer": "ipython3",
   "version": "3.11.4"
  }
 },
 "nbformat": 4,
 "nbformat_minor": 5
}
