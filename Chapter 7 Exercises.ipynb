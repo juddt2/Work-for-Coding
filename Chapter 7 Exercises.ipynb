{
 "cells": [
  {
   "cell_type": "markdown",
   "id": "8538688c",
   "metadata": {},
   "source": [
    "# Chapter 7 Exercises"
   ]
  },
  {
   "cell_type": "markdown",
   "id": "f3c3311d",
   "metadata": {},
   "source": [
    "### Programming Exercise Question 1"
   ]
  },
  {
   "cell_type": "code",
   "execution_count": null,
   "id": "9891e277",
   "metadata": {},
   "outputs": [
    {
     "name": "stdout",
     "output_type": "stream",
     "text": [
      "Enter the total sales for each day.\n",
      "Day #1: 145.25\n",
      "Day #2: 149.56\n"
     ]
    }
   ],
   "source": [
    "# days creates a hold for amount of days of total sales\n",
    "days=7\n",
    "\n",
    "# create main function\n",
    "def main():\n",
    "    # create a list to hold the sales\n",
    "    sales=[0]*days\n",
    "    \n",
    "    # tell user to enter sales\n",
    "    print('Enter the total sales for each day.')\n",
    "    \n",
    "    # get sales for each day\n",
    "    for index in range(len(sales)):\n",
    "        sales[index]=float(input(f'Day #{index+1}: '))\n",
    "        \n",
    "    # get total sales\n",
    "    total_sales=sum(sales)\n",
    "        \n",
    "    # show total sales\n",
    "    print('Total sales: {:.2f}',format(total_sales))\n",
    "        \n",
    "# call main \n",
    "main()\n",
    "         \n",
    "    "
   ]
  },
  {
   "cell_type": "code",
   "execution_count": null,
   "id": "d35d5c32",
   "metadata": {},
   "outputs": [],
   "source": []
  }
 ],
 "metadata": {
  "kernelspec": {
   "display_name": "Python 3 (ipykernel)",
   "language": "python",
   "name": "python3"
  },
  "language_info": {
   "codemirror_mode": {
    "name": "ipython",
    "version": 3
   },
   "file_extension": ".py",
   "mimetype": "text/x-python",
   "name": "python",
   "nbconvert_exporter": "python",
   "pygments_lexer": "ipython3",
   "version": "3.11.4"
  }
 },
 "nbformat": 4,
 "nbformat_minor": 5
}
