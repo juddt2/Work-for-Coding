{
 "cells": [
  {
   "cell_type": "markdown",
   "id": "2b90d4ae",
   "metadata": {},
   "source": [
    "# Chapter 7 Exercises"
   ]
  },
  {
   "cell_type": "markdown",
   "id": "cb2db084",
   "metadata": {},
   "source": [
    "### Programming Exercise Question 1"
   ]
  },
  {
   "cell_type": "code",
   "execution_count": null,
   "id": "a80bfb23",
   "metadata": {},
   "outputs": [],
   "source": [
    "# days creates a hold for amount of days of total sales\n",
    "days=7\n",
    "\n",
    "# create main function\n",
    "def main()\n",
    "    # tell user to enter sales\n",
    "    print('Enter the total sales for each day.')\n",
    "    day1=float(input('Day #1: '))\n",
    "    day2=float(input('Day #2: '))          \n",
    "    day3=float(input('Day #3: '))\n",
    "    day4=float(input('Day #4: '))\n",
    "    day5=float(input('Day #5: '))\n",
    "    day6=float(input('Day #6: '))\n",
    "    day7=float(input('Day #7: '))"
   ]
  }
 ],
 "metadata": {
  "kernelspec": {
   "display_name": "Python 3 (ipykernel)",
   "language": "python",
   "name": "python3"
  },
  "language_info": {
   "codemirror_mode": {
    "name": "ipython",
    "version": 3
   },
   "file_extension": ".py",
   "mimetype": "text/x-python",
   "name": "python",
   "nbconvert_exporter": "python",
   "pygments_lexer": "ipython3",
   "version": "3.11.4"
  }
 },
 "nbformat": 4,
 "nbformat_minor": 5
}
