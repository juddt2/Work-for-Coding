{
 "cells": [
  {
   "cell_type": "markdown",
   "id": "912472a5",
   "metadata": {},
   "source": [
    "# Chapter 7 Exercises"
   ]
  },
  {
   "cell_type": "markdown",
   "id": "57c2235f",
   "metadata": {},
   "source": [
    "### Algorithm Workbench Question 3"
   ]
  },
  {
   "cell_type": "code",
   "execution_count": 23,
   "id": "12f774b6",
   "metadata": {},
   "outputs": [
    {
     "name": "stdout",
     "output_type": "stream",
     "text": [
      "[0, 122, 73, 219, 40, 301, 96, 176, 110, 61, 278, 332, 35, 308, 17, 117, 259, 211, 203, 94, 132, 148, 275, 181, 119, 2, 167, 306, 331, 54, 111, 288, 2, 137, 142, 84, 194, 106, 225, 323, 224, 74, 48, 23, 345, 343, 141, 47, 230, 108, 91, 345, 231, 264, 294, 301, 259, 166, 117, 230, 178, 243, 132, 333, 187, 256, 83, 210, 14, 187, 181, 293, 339, 313, 175, 337, 38, 310, 320, 242, 14, 201, 173, 264, 100, 312, 336, 166, 226, 321, 24, 39, 19, 155, 54, 287, 296, 143, 258, 238, 185]\n"
     ]
    }
   ],
   "source": [
    "import random\n",
    "\n",
    "def main():\n",
    "    \n",
    "    # create a list with 100 elements\n",
    "    numbers1=[0]*100\n",
    "    \n",
    "    # randomize the numbers\n",
    "    for index in range(len(numbers1)):\n",
    "        numbers1[index]=random.randint(1,350)\n",
    "    numbers2=[0]\n",
    "    numbers2+=numbers1\n",
    "    print(numbers2)\n",
    "    \n",
    "main()\n",
    "    "
   ]
  },
  {
   "cell_type": "markdown",
   "id": "bc548a3a",
   "metadata": {},
   "source": [
    "### Programming Exercise Question 1\n",
    "In this exercise I am asked to get the sales for each day from the user and then create a loop to add the total sales. I first create a hold amount to determine how many times the loop itterates. I then create the main function and then create a list to hold sales. I then create a print statement to tell the user to enter the sales for each day. I then create a for loop and use the len funtion to return the length of the sequence. I then need to add the total sales together. I asked chatgpt on how to add input from lists together. It showed me to use the sum() funtion to add them all together. I then needed to show the total sales from the 7 days. I create a print statement to show total sales. I also asked chatgpt how to format a floating point number inside a print statement so it only shows 2 decimal places. It told me to use the f-string inside brackets. "
   ]
  },
  {
   "cell_type": "code",
   "execution_count": 6,
   "id": "9d1ee390",
   "metadata": {},
   "outputs": [
    {
     "name": "stdout",
     "output_type": "stream",
     "text": [
      "Enter the total sales for each day.\n",
      "Day #1: 456.89\n",
      "Day #2: 145.74\n",
      "Day #3: 234.56\n",
      "Day #4: 756.45\n",
      "Day #5: 633.56\n",
      "Day #6: 1438.74\n",
      "Day #7: 1356.24\n",
      "Total sales: 5022.18\n"
     ]
    }
   ],
   "source": [
    "# days creates a hold for amount of days of total sales\n",
    "days=7\n",
    "\n",
    "# create main function\n",
    "def main():\n",
    "    # create a list to hold the sales\n",
    "    sales=[0]*days\n",
    "    \n",
    "    # tell user to enter sales\n",
    "    print('Enter the total sales for each day.')\n",
    "    \n",
    "    # get sales for each day\n",
    "    for index in range(len(sales)):\n",
    "        sales[index]=float(input(f'Day #{index+1}: '))\n",
    "        \n",
    "    # get total sales\n",
    "    total_sales=sum(sales)\n",
    "        \n",
    "    # show total sales\n",
    "    print('Total sales: {:.2f}'.format(total_sales))\n",
    "        \n",
    "# call main \n",
    "main()\n",
    "         \n",
    "    "
   ]
  },
  {
   "cell_type": "code",
   "execution_count": null,
   "id": "78ae9a98",
   "metadata": {},
   "outputs": [],
   "source": []
  }
 ],
 "metadata": {
  "kernelspec": {
   "display_name": "Python 3 (ipykernel)",
   "language": "python",
   "name": "python3"
  },
  "language_info": {
   "codemirror_mode": {
    "name": "ipython",
    "version": 3
   },
   "file_extension": ".py",
   "mimetype": "text/x-python",
   "name": "python",
   "nbconvert_exporter": "python",
   "pygments_lexer": "ipython3",
   "version": "3.11.4"
  }
 },
 "nbformat": 4,
 "nbformat_minor": 5
}
