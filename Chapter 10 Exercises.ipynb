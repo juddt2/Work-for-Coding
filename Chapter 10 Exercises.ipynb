{
 "cells": [
  {
   "cell_type": "markdown",
   "id": "cff0ad9d",
   "metadata": {},
   "source": [
    "# Chapter 10 Exercises"
   ]
  },
  {
   "cell_type": "markdown",
   "id": "2c8e36ea",
   "metadata": {},
   "source": [
    "### Programming Exercise #3\n",
    "In this exercise I am asked to create a class that holds personal information. I first start by creating a class called 'PersonalInfo'. I then create the __init__ method to be automatically called when I create an instance of a class. I then need to get accessor and mutator methods. The accessors when called will return the current value of one of the personal info. The mutators will set the personal info to the provided value. I then create an emptpy list to store the instances. I then create a print statement to tell the user whos information to enter first. I then created a for loop that loops 3 times to get the info of all 3 of the people. I then append all of the data to the list that I created. I lastly create another loop to show the datat that the user entered.   "
   ]
  },
  {
   "cell_type": "code",
   "execution_count": 11,
   "id": "3c669c08",
   "metadata": {},
   "outputs": [
    {
     "name": "stdout",
     "output_type": "stream",
     "text": [
      "First round of information is your own, the other 2 are your friends information\n",
      "\n",
      "Enter name: Travis Judd\n",
      "Enter address: 1234 Main St\n",
      "Enter age: 18\n",
      "Enter phone number: 517-852-7435\n",
      "\n",
      "Enter name: Lebron James\n",
      "Enter address: 1234 Brush St\n",
      "Enter age: 38\n",
      "Enter phone number: 313-742-8963\n",
      "\n",
      "Enter name: Michael Jordan\n",
      "Enter address: 4587 Madison Ave\n",
      "Enter age: 52\n",
      "Enter phone number: 989-742-8652\n",
      "\n",
      "Here is the data you entered:\n",
      "Travis Judd\n",
      "1234 Main St\n",
      "18\n",
      "517-852-7435\n",
      "\n",
      "Lebron James\n",
      "1234 Brush St\n",
      "38\n",
      "313-742-8963\n",
      "\n",
      "Michael Jordan\n",
      "4587 Madison Ave\n",
      "52\n",
      "989-742-8652\n",
      "\n"
     ]
    }
   ],
   "source": [
    "class PersonalInfo:\n",
    "    def __init__(self,name,address,age,phone_number):\n",
    "        self.name=name\n",
    "        self.address=address\n",
    "        self.age=age\n",
    "        self.phone_number=phone_number\n",
    "    \n",
    "    # get accessor and mutator methods\n",
    "    def get_name(self):\n",
    "        return self.name\n",
    "    \n",
    "    def set_name(self,name):\n",
    "        self.name=name\n",
    "        \n",
    "    def get_address(self):\n",
    "        return self.address\n",
    "    \n",
    "    def set_address(self,address):\n",
    "        self.address=address\n",
    "        \n",
    "    def get_age(self):\n",
    "        return self.age\n",
    "    \n",
    "    def set_age(self,age):\n",
    "        self.age=age\n",
    "        \n",
    "    def get_phone_number(self):\n",
    "        return self.phone_number\n",
    "    \n",
    "    def set_phone_number(self,phone_number):\n",
    "        self.phone_number=phone_number\n",
    "        \n",
    "def main():\n",
    "        \n",
    "\n",
    "    # create an empty list to store the instances\n",
    "    people=[]\n",
    "\n",
    "    # tell user the order of adding the info\n",
    "    print('First round of information is your own, the other 2 are your friends information')\n",
    "    print()\n",
    "\n",
    "    # create loop to get info\n",
    "    for info in range(3):\n",
    "        name=input('Enter name: ')\n",
    "        address=input('Enter address: ')\n",
    "        age=input('Enter age: ')\n",
    "        phone_number=input('Enter phone number: ')\n",
    "        print()\n",
    "    \n",
    "        # now add the info to the list\n",
    "        person=PersonalInfo(name,address,age,phone_number)\n",
    "        people.append(person)\n",
    "        \n",
    "    # now show what the user entered as the information\n",
    "\n",
    "    print('Here is the data you entered:')\n",
    "\n",
    "    # use a for loop to access and print the data for all the instances\n",
    "    for person in people:\n",
    "        print(person.name)\n",
    "        print(person.address)\n",
    "        print(person.age)\n",
    "        print(person.phone_number)\n",
    "        print()\n",
    "main()\n",
    "    "
   ]
  },
  {
   "cell_type": "markdown",
   "id": "5018aff4",
   "metadata": {},
   "source": [
    "### Programming Exercise #5\n",
    "In this exercise I am asked to write a class called RetailItem and hold information about a store. I first create the RetailItem class then I use the __init__ method to be automatically called when creating an instance of a class. I then create display_info method to show the information of the clothing and have it run every time the method is called. I then create 3 item instances of the RetailItem class to store data for the 3 items. I then need to show the information so I call the display.info method after print statements showing which item it is.  "
   ]
  },
  {
   "cell_type": "code",
   "execution_count": 10,
   "id": "510fb2c7",
   "metadata": {},
   "outputs": [
    {
     "name": "stdout",
     "output_type": "stream",
     "text": [
      "Item #1\n",
      "Description: Jacket\n",
      "Units in Inventory: 12\n",
      "Price: 59.95\n",
      "\n",
      "Item #2\n",
      "Description: Designer Jeans\n",
      "Units in Inventory: 40\n",
      "Price: 34.95\n",
      "\n",
      "Item #3\n",
      "Description: Shirt\n",
      "Units in Inventory: 20\n",
      "Price: 24.95\n",
      "\n"
     ]
    }
   ],
   "source": [
    "class RetailItem:\n",
    "    def __init__(self,description,units_in_inventory,price):\n",
    "        self.description=description\n",
    "        self.units_in_inventory=units_in_inventory\n",
    "        self.price=price\n",
    "        \n",
    "    # create a funtion to show the info for each item\n",
    "    def display_info(self):\n",
    "        print(f'Description: {self.description}')\n",
    "        print(f'Units in Inventory: {self.units_in_inventory}')\n",
    "        print(f'Price: {self.price}')\n",
    "        \n",
    "def main():\n",
    "        \n",
    "    # create 3 item instances\n",
    "    item1=RetailItem('Jacket',12,59.95)\n",
    "    item2=RetailItem('Designer Jeans',40,34.95)\n",
    "    item3=RetailItem('Shirt',20,24.95)\n",
    "\n",
    "    # show the information for each item\n",
    "    print('Item #1')\n",
    "    item1.display_info()\n",
    "    print()\n",
    "\n",
    "    print('Item #2')\n",
    "    item2.display_info()\n",
    "    print()\n",
    "\n",
    "    print('Item #3')\n",
    "    item3.display_info()\n",
    "    print()\n",
    "main()\n",
    "        "
   ]
  },
  {
   "cell_type": "code",
   "execution_count": null,
   "id": "4d0521b8",
   "metadata": {},
   "outputs": [],
   "source": []
  }
 ],
 "metadata": {
  "kernelspec": {
   "display_name": "Python 3 (ipykernel)",
   "language": "python",
   "name": "python3"
  },
  "language_info": {
   "codemirror_mode": {
    "name": "ipython",
    "version": 3
   },
   "file_extension": ".py",
   "mimetype": "text/x-python",
   "name": "python",
   "nbconvert_exporter": "python",
   "pygments_lexer": "ipython3",
   "version": "3.11.4"
  }
 },
 "nbformat": 4,
 "nbformat_minor": 5
}
