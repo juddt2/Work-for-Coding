{
 "cells": [
  {
   "cell_type": "markdown",
   "id": "cff0ad9d",
   "metadata": {},
   "source": [
    "# Chapter 10 Exercises"
   ]
  },
  {
   "cell_type": "markdown",
   "id": "2c8e36ea",
   "metadata": {},
   "source": [
    "### Programming Exercise #3"
   ]
  },
  {
   "cell_type": "code",
   "execution_count": 6,
   "id": "3c669c08",
   "metadata": {},
   "outputs": [
    {
     "name": "stdout",
     "output_type": "stream",
     "text": [
      "First round of information is your own, the other 2 are your friends information\n",
      "\n",
      "Enter name: Travis Judd\n",
      "Enter address: 1234 Main St\n",
      "Enter age: 18\n",
      "Enter phone number: 517-856-7452\n",
      "\n",
      "Enter name: Lebron James\n",
      "Enter address: 1456 Brush St\n",
      "Enter age: 38\n",
      "Enter phone number: 313-746-8541\n",
      "\n",
      "Enter name: Michael Jordan\n",
      "Enter address: 4785 Madison Ave\n",
      "Enter age: 52\n",
      "Enter phone number: 989-742-5843\n",
      "\n",
      "Here is the data you entered:\n",
      "Travis Judd\n",
      "1234 Main St\n",
      "18\n",
      "517-856-7452\n",
      "\n",
      "Lebron James\n",
      "1456 Brush St\n",
      "38\n",
      "313-746-8541\n",
      "\n",
      "Michael Jordan\n",
      "4785 Madison Ave\n",
      "52\n",
      "989-742-5843\n",
      "\n"
     ]
    }
   ],
   "source": [
    "class PersonalInfo:\n",
    "    def __init__(self,name,address,age,phone_number):\n",
    "        self.name=name\n",
    "        self.address=address\n",
    "        self.age=age\n",
    "        self.phone_number=phone_number\n",
    "    \n",
    "    # get accessor and mutator methods\n",
    "    def get_name(self):\n",
    "        return self.name\n",
    "    \n",
    "    def set_name(self,name):\n",
    "        self.name=name\n",
    "        \n",
    "    def get_address(self):\n",
    "        return address\n",
    "    \n",
    "    def set_address(self,address):\n",
    "        self.address=address\n",
    "        \n",
    "    def get_age(self):\n",
    "        return self.age\n",
    "    \n",
    "    def set_age(self,age):\n",
    "        self.age=age\n",
    "        \n",
    "    def get_phone_number(self):\n",
    "        return self.phone_number\n",
    "    \n",
    "    def set_phone_number(self,phone_number):\n",
    "        self.phone_number=phone_number\n",
    "        \n",
    "# create an empty list to store the instances\n",
    "people=[]\n",
    "\n",
    "# tell user the order of adding the info\n",
    "print('First round of information is your own, the other 2 are your friends information')\n",
    "print()\n",
    "\n",
    "# create loop to get info\n",
    "for info in range(3):\n",
    "    name=input('Enter name: ')\n",
    "    address=input('Enter address: ')\n",
    "    age=input('Enter age: ')\n",
    "    phone_number=input('Enter phone number: ')\n",
    "    print()\n",
    "    \n",
    "    # now add the info to the list\n",
    "    person=PersonalInfo(name,address,age,phone_number)\n",
    "    people.append(person)\n",
    "    \n",
    "# now show what the user entered as the information\n",
    "\n",
    "print('Here is the data you entered:')\n",
    "\n",
    "# use a for loop to access and print the data for all the instances\n",
    "for person in people:\n",
    "    print(person.name)\n",
    "    print(person.address)\n",
    "    print(person.age)\n",
    "    print(person.phone_number)\n",
    "    print()\n",
    "    "
   ]
  },
  {
   "cell_type": "markdown",
   "id": "5018aff4",
   "metadata": {},
   "source": [
    "### Programming Exercise #5"
   ]
  },
  {
   "cell_type": "code",
   "execution_count": null,
   "id": "510fb2c7",
   "metadata": {},
   "outputs": [],
   "source": []
  },
  {
   "cell_type": "code",
   "execution_count": null,
   "id": "f6b256a8",
   "metadata": {},
   "outputs": [],
   "source": []
  }
 ],
 "metadata": {
  "kernelspec": {
   "display_name": "Python 3 (ipykernel)",
   "language": "python",
   "name": "python3"
  },
  "language_info": {
   "codemirror_mode": {
    "name": "ipython",
    "version": 3
   },
   "file_extension": ".py",
   "mimetype": "text/x-python",
   "name": "python",
   "nbconvert_exporter": "python",
   "pygments_lexer": "ipython3",
   "version": "3.11.4"
  }
 },
 "nbformat": 4,
 "nbformat_minor": 5
}
