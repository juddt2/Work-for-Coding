{
 "cells": [
  {
   "cell_type": "markdown",
   "id": "cff0ad9d",
   "metadata": {},
   "source": [
    "# Chapter 10 Exercises"
   ]
  },
  {
   "cell_type": "markdown",
   "id": "2c8e36ea",
   "metadata": {},
   "source": [
    "### Programming Exercise #3"
   ]
  },
  {
   "cell_type": "code",
   "execution_count": null,
   "id": "3c669c08",
   "metadata": {},
   "outputs": [],
   "source": [
    "class PersonalInfo"
   ]
  },
  {
   "cell_type": "markdown",
   "id": "5018aff4",
   "metadata": {},
   "source": [
    "### Programming Exercise #5"
   ]
  },
  {
   "cell_type": "code",
   "execution_count": null,
   "id": "510fb2c7",
   "metadata": {},
   "outputs": [],
   "source": []
  },
  {
   "cell_type": "code",
   "execution_count": null,
   "id": "f6b256a8",
   "metadata": {},
   "outputs": [],
   "source": []
  }
 ],
 "metadata": {
  "kernelspec": {
   "display_name": "Python 3 (ipykernel)",
   "language": "python",
   "name": "python3"
  },
  "language_info": {
   "codemirror_mode": {
    "name": "ipython",
    "version": 3
   },
   "file_extension": ".py",
   "mimetype": "text/x-python",
   "name": "python",
   "nbconvert_exporter": "python",
   "pygments_lexer": "ipython3",
   "version": "3.11.4"
  }
 },
 "nbformat": 4,
 "nbformat_minor": 5
}
