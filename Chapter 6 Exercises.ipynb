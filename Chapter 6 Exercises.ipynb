{
 "cells": [
  {
   "cell_type": "markdown",
   "id": "cc841890",
   "metadata": {},
   "source": [
    "# Chapter 6 Exercises"
   ]
  },
  {
   "cell_type": "markdown",
   "id": "7eda8bad",
   "metadata": {},
   "source": [
    "### Algorithm Workbench Question 3"
   ]
  },
  {
   "cell_type": "code",
   "execution_count": 1,
   "id": "f6b535a8",
   "metadata": {},
   "outputs": [
    {
     "ename": "SyntaxError",
     "evalue": "unterminated string literal (detected at line 2) (2778444755.py, line 2)",
     "output_type": "error",
     "traceback": [
      "\u001b[1;36m  Cell \u001b[1;32mIn[1], line 2\u001b[1;36m\u001b[0m\n\u001b[1;33m    number_list=open('number_list.txt, 'w')\u001b[0m\n\u001b[1;37m                                         ^\u001b[0m\n\u001b[1;31mSyntaxError\u001b[0m\u001b[1;31m:\u001b[0m unterminated string literal (detected at line 2)\n"
     ]
    }
   ],
   "source": [
    "# open output file\n",
    "number_list=open('number_list.txt, 'w')\n",
    "  \n",
    "# get the lists of numbers\n",
    "for num in range(1,101):\n",
    "    file.write(str(num)+'n\\') \n",
    "#close the file\n",
    "number_list.close()               \n",
    "# let user know the numbers are in the file\n",
    "print('The numbers 1-100 have been stored in',number.list)"
   ]
  },
  {
   "cell_type": "code",
   "execution_count": null,
   "id": "f929a0f2",
   "metadata": {},
   "outputs": [],
   "source": []
  }
 ],
 "metadata": {
  "kernelspec": {
   "display_name": "Python 3 (ipykernel)",
   "language": "python",
   "name": "python3"
  },
  "language_info": {
   "codemirror_mode": {
    "name": "ipython",
    "version": 3
   },
   "file_extension": ".py",
   "mimetype": "text/x-python",
   "name": "python",
   "nbconvert_exporter": "python",
   "pygments_lexer": "ipython3",
   "version": "3.11.4"
  }
 },
 "nbformat": 4,
 "nbformat_minor": 5
}
