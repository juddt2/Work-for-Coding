{
 "cells": [
  {
   "cell_type": "markdown",
   "id": "dba32b59",
   "metadata": {},
   "source": [
    "# Chapter 6 Exercises"
   ]
  },
  {
   "cell_type": "markdown",
   "id": "5bb671d6",
   "metadata": {},
   "source": [
    "### Algorithm Workbench Question 3\n",
    "In this exercise I am asked to open a file,create a loop, and close the file. I first start with opening the file. I open number_list.txt with the write file mode and assign it to number_list. I then create the loop at which the program will list 1-100. I create a for loop and then convert it into a string. I then close the file. I then want to let the user know where it is stored so I create a print statement to show where it is stored. "
   ]
  },
  {
   "cell_type": "code",
   "execution_count": 7,
   "id": "c3cdc9bc",
   "metadata": {},
   "outputs": [
    {
     "name": "stdout",
     "output_type": "stream",
     "text": [
      "The numbers 1-100 have been stored in number_list.txt\n"
     ]
    }
   ],
   "source": [
    "# open output file\n",
    "number_list=open('number_list.txt', 'w')\n",
    "  \n",
    "# get the lists of numbers\n",
    "for num in range(1,101):\n",
    "    number_list.write(str(num)+'\\n') \n",
    "#close the file\n",
    "number_list.close()               \n",
    "# let user know the numbers are in the file\n",
    "print('The numbers 1-100 have been stored in number_list.txt')"
   ]
  },
  {
   "cell_type": "markdown",
   "id": "452a92f6",
   "metadata": {},
   "source": [
    "### Algorithm Workbench Question 4\n",
    "In this exercise I am asked to open the file I created in question 3 and read it then show the file's contents. I first open number_list.txt with the read file mode and assign it to infile. It then needs to read the file so I use the read method and assign it to file_list. I then need to close the file so I use the close method. I then need to show the files data. So I create a print statement listing all the numbers. "
   ]
  },
  {
   "cell_type": "code",
   "execution_count": 8,
   "id": "030c3e29",
   "metadata": {},
   "outputs": [
    {
     "name": "stdout",
     "output_type": "stream",
     "text": [
      "1\n",
      "2\n",
      "3\n",
      "4\n",
      "5\n",
      "6\n",
      "7\n",
      "8\n",
      "9\n",
      "10\n",
      "11\n",
      "12\n",
      "13\n",
      "14\n",
      "15\n",
      "16\n",
      "17\n",
      "18\n",
      "19\n",
      "20\n",
      "21\n",
      "22\n",
      "23\n",
      "24\n",
      "25\n",
      "26\n",
      "27\n",
      "28\n",
      "29\n",
      "30\n",
      "31\n",
      "32\n",
      "33\n",
      "34\n",
      "35\n",
      "36\n",
      "37\n",
      "38\n",
      "39\n",
      "40\n",
      "41\n",
      "42\n",
      "43\n",
      "44\n",
      "45\n",
      "46\n",
      "47\n",
      "48\n",
      "49\n",
      "50\n",
      "51\n",
      "52\n",
      "53\n",
      "54\n",
      "55\n",
      "56\n",
      "57\n",
      "58\n",
      "59\n",
      "60\n",
      "61\n",
      "62\n",
      "63\n",
      "64\n",
      "65\n",
      "66\n",
      "67\n",
      "68\n",
      "69\n",
      "70\n",
      "71\n",
      "72\n",
      "73\n",
      "74\n",
      "75\n",
      "76\n",
      "77\n",
      "78\n",
      "79\n",
      "80\n",
      "81\n",
      "82\n",
      "83\n",
      "84\n",
      "85\n",
      "86\n",
      "87\n",
      "88\n",
      "89\n",
      "90\n",
      "91\n",
      "92\n",
      "93\n",
      "94\n",
      "95\n",
      "96\n",
      "97\n",
      "98\n",
      "99\n",
      "100\n",
      "\n"
     ]
    }
   ],
   "source": [
    "# open a file\n",
    "infile=open('number_list.txt','r')\n",
    "\n",
    "# read the file\n",
    "file_list=infile.read()\n",
    "\n",
    "# close file\n",
    "infile.close()\n",
    "\n",
    "# print the data that was read\n",
    "print(file_list)"
   ]
  },
  {
   "cell_type": "markdown",
   "id": "2b3d995f",
   "metadata": {},
   "source": [
    "### Programming Exercises Question 1"
   ]
  },
  {
   "cell_type": "code",
   "execution_count": 10,
   "id": "cde98931",
   "metadata": {},
   "outputs": [
    {
     "name": "stdout",
     "output_type": "stream",
     "text": [
      "Enter the first number: 22\n",
      "Enter the second number: 56\n",
      "Enter the third number: 88\n"
     ]
    },
    {
     "ename": "FileNotFoundError",
     "evalue": "[Errno 2] No such file or directory: 'numbers.txt'",
     "output_type": "error",
     "traceback": [
      "\u001b[1;31m---------------------------------------------------------------------------\u001b[0m",
      "\u001b[1;31mFileNotFoundError\u001b[0m                         Traceback (most recent call last)",
      "Cell \u001b[1;32mIn[10], line 7\u001b[0m\n\u001b[0;32m      4\u001b[0m num3\u001b[38;5;241m=\u001b[39m\u001b[38;5;28mint\u001b[39m(\u001b[38;5;28minput\u001b[39m(\u001b[38;5;124m'\u001b[39m\u001b[38;5;124mEnter the third number: \u001b[39m\u001b[38;5;124m'\u001b[39m))\n\u001b[0;32m      6\u001b[0m \u001b[38;5;66;03m# open the file\u001b[39;00m\n\u001b[1;32m----> 7\u001b[0m file\u001b[38;5;241m=\u001b[39m\u001b[38;5;28mopen\u001b[39m(\u001b[38;5;124m'\u001b[39m\u001b[38;5;124mnumbers.txt\u001b[39m\u001b[38;5;124m'\u001b[39m,\u001b[38;5;124m'\u001b[39m\u001b[38;5;124mr\u001b[39m\u001b[38;5;124m'\u001b[39m)\n\u001b[0;32m      9\u001b[0m \u001b[38;5;66;03m# write the numbers to the file\u001b[39;00m\n\u001b[0;32m     10\u001b[0m file\u001b[38;5;241m.\u001b[39mwrite(\u001b[38;5;124mf\u001b[39m\u001b[38;5;124m'\u001b[39m\u001b[38;5;132;01m{\u001b[39;00mnum1\u001b[38;5;132;01m}\u001b[39;00m\u001b[38;5;130;01m\\n\u001b[39;00m\u001b[38;5;124m'\u001b[39m)\n",
      "File \u001b[1;32m~\\anaconda3\\Lib\\site-packages\\IPython\\core\\interactiveshell.py:284\u001b[0m, in \u001b[0;36m_modified_open\u001b[1;34m(file, *args, **kwargs)\u001b[0m\n\u001b[0;32m    277\u001b[0m \u001b[38;5;28;01mif\u001b[39;00m file \u001b[38;5;129;01min\u001b[39;00m {\u001b[38;5;241m0\u001b[39m, \u001b[38;5;241m1\u001b[39m, \u001b[38;5;241m2\u001b[39m}:\n\u001b[0;32m    278\u001b[0m     \u001b[38;5;28;01mraise\u001b[39;00m \u001b[38;5;167;01mValueError\u001b[39;00m(\n\u001b[0;32m    279\u001b[0m         \u001b[38;5;124mf\u001b[39m\u001b[38;5;124m\"\u001b[39m\u001b[38;5;124mIPython won\u001b[39m\u001b[38;5;124m'\u001b[39m\u001b[38;5;124mt let you open fd=\u001b[39m\u001b[38;5;132;01m{\u001b[39;00mfile\u001b[38;5;132;01m}\u001b[39;00m\u001b[38;5;124m by default \u001b[39m\u001b[38;5;124m\"\u001b[39m\n\u001b[0;32m    280\u001b[0m         \u001b[38;5;124m\"\u001b[39m\u001b[38;5;124mas it is likely to crash IPython. If you know what you are doing, \u001b[39m\u001b[38;5;124m\"\u001b[39m\n\u001b[0;32m    281\u001b[0m         \u001b[38;5;124m\"\u001b[39m\u001b[38;5;124myou can use builtins\u001b[39m\u001b[38;5;124m'\u001b[39m\u001b[38;5;124m open.\u001b[39m\u001b[38;5;124m\"\u001b[39m\n\u001b[0;32m    282\u001b[0m     )\n\u001b[1;32m--> 284\u001b[0m \u001b[38;5;28;01mreturn\u001b[39;00m io_open(file, \u001b[38;5;241m*\u001b[39margs, \u001b[38;5;241m*\u001b[39m\u001b[38;5;241m*\u001b[39mkwargs)\n",
      "\u001b[1;31mFileNotFoundError\u001b[0m: [Errno 2] No such file or directory: 'numbers.txt'"
     ]
    }
   ],
   "source": [
    "# get 3 integers\n",
    "num1=int(input('Enter the first number: '))\n",
    "num2=int(input('Enter the second number: '))\n",
    "num3=int(input('Enter the third number: '))\n",
    "\n",
    "# open the file\n",
    "file=open('numbers.txt','r')\n",
    "         \n",
    "# write the numbers to the file\n",
    "file.write(f'{num1}\\n')\n",
    "file.write(f'{num2}\\n')\n",
    "file.write(f'{num3}\\n')\n",
    "\n",
    "# read the file         \n",
    "read_list=file.read()\n",
    "         \n",
    "# close the file\n",
    "read_list.close() \n",
    "         \n",
    "# display data\n",
    "print(list)         \n"
   ]
  },
  {
   "cell_type": "code",
   "execution_count": null,
   "id": "7526b4ea",
   "metadata": {},
   "outputs": [],
   "source": []
  }
 ],
 "metadata": {
  "kernelspec": {
   "display_name": "Python 3 (ipykernel)",
   "language": "python",
   "name": "python3"
  },
  "language_info": {
   "codemirror_mode": {
    "name": "ipython",
    "version": 3
   },
   "file_extension": ".py",
   "mimetype": "text/x-python",
   "name": "python",
   "nbconvert_exporter": "python",
   "pygments_lexer": "ipython3",
   "version": "3.11.4"
  }
 },
 "nbformat": 4,
 "nbformat_minor": 5
}
