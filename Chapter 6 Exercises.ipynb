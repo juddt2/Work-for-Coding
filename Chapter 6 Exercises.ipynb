{
 "cells": [
  {
   "cell_type": "markdown",
   "id": "06d59e0c",
   "metadata": {},
   "source": [
    "# Chapter 6 Exercises"
   ]
  },
  {
   "cell_type": "markdown",
   "id": "56c048a0",
   "metadata": {},
   "source": [
    "### Algorithm Workbench Question 3"
   ]
  },
  {
   "cell_type": "code",
   "execution_count": 5,
   "id": "2d1a40be",
   "metadata": {},
   "outputs": [
    {
     "name": "stdout",
     "output_type": "stream",
     "text": [
      "The numbers 1-100 have been stored in <_io.TextIOWrapper name='number_list.txt' mode='w' encoding='cp1252'>\n"
     ]
    }
   ],
   "source": [
    "# open output file\n",
    "number_list=open('number_list.txt', 'w')\n",
    "  \n",
    "# get the lists of numbers\n",
    "for num in range(1,101):\n",
    "    number_list.write(str(num)+'\\n') \n",
    "#close the file\n",
    "number_list.close()               \n",
    "# let user know the numbers are in the file\n",
    "print('The numbers 1-100 have been stored in', number_list)"
   ]
  },
  {
   "cell_type": "code",
   "execution_count": 6,
   "id": "2e381497",
   "metadata": {},
   "outputs": [
    {
     "name": "stdout",
     "output_type": "stream",
     "text": [
      "Numbers 1 to 100 have been written to number_list.txt\n"
     ]
    }
   ],
   "source": [
    "filename = \"number_list.txt\"\n",
    "\n",
    "# Open the output file in write mode\n",
    "with open(filename, \"w\") as file:\n",
    "    # Write numbers 1 through 100 to the file\n",
    "    for number in range(1, 101):\n",
    "        file.write(str(number) + '\\n')\n",
    "\n",
    "print(\"Numbers 1 to 100 have been written to\", filename)"
   ]
  },
  {
   "cell_type": "code",
   "execution_count": null,
   "id": "73d44458",
   "metadata": {},
   "outputs": [],
   "source": []
  }
 ],
 "metadata": {
  "kernelspec": {
   "display_name": "Python 3 (ipykernel)",
   "language": "python",
   "name": "python3"
  },
  "language_info": {
   "codemirror_mode": {
    "name": "ipython",
    "version": 3
   },
   "file_extension": ".py",
   "mimetype": "text/x-python",
   "name": "python",
   "nbconvert_exporter": "python",
   "pygments_lexer": "ipython3",
   "version": "3.11.4"
  }
 },
 "nbformat": 4,
 "nbformat_minor": 5
}
