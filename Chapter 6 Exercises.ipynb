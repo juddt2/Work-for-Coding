{
 "cells": [
  {
   "cell_type": "markdown",
   "id": "132588c1",
   "metadata": {},
   "source": [
    "# Chapter 6 Exercises"
   ]
  },
  {
   "cell_type": "markdown",
   "id": "8b80c42c",
   "metadata": {},
   "source": [
    "### Algorithm Workbench Question 3\n",
    "In this exercise I am asked to open a file,create a loop, and close the file. I first start with opening the file. I open number_list.txt with the write file mode and assign it to number_list. I then create the loop at which the program will list 1-100. I create a for loop and then convert it into a string. I then close the file. I then want to let the user know where it is stored so I create a print statement to show where it is stored. "
   ]
  },
  {
   "cell_type": "code",
   "execution_count": 7,
   "id": "bb45fd15",
   "metadata": {},
   "outputs": [
    {
     "name": "stdout",
     "output_type": "stream",
     "text": [
      "The numbers 1-100 have been stored in number_list.txt\n"
     ]
    }
   ],
   "source": [
    "# open output file\n",
    "number_list=open('number_list.txt', 'w')\n",
    "  \n",
    "# get the lists of numbers\n",
    "for num in range(1,101):\n",
    "    number_list.write(str(num)+'\\n') \n",
    "#close the file\n",
    "number_list.close()               \n",
    "# let user know the numbers are in the file\n",
    "print('The numbers 1-100 have been stored in number_list.txt')"
   ]
  },
  {
   "cell_type": "markdown",
   "id": "11bb5467",
   "metadata": {},
   "source": [
    "### Algorithm Workbench Question 4\n",
    "In this exercise I am asked to open the file I created in question 3 and read it then show the file's contents. I first open number_list.txt with the read file mode and assign it to infile. It then needs to read the file so I use the read method and assign it to file_list. I then need to close the file so I use the close method. I then need to show the files data. So I create a print statement listing all the numbers. "
   ]
  },
  {
   "cell_type": "code",
   "execution_count": 8,
   "id": "88a0051f",
   "metadata": {},
   "outputs": [
    {
     "name": "stdout",
     "output_type": "stream",
     "text": [
      "1\n",
      "2\n",
      "3\n",
      "4\n",
      "5\n",
      "6\n",
      "7\n",
      "8\n",
      "9\n",
      "10\n",
      "11\n",
      "12\n",
      "13\n",
      "14\n",
      "15\n",
      "16\n",
      "17\n",
      "18\n",
      "19\n",
      "20\n",
      "21\n",
      "22\n",
      "23\n",
      "24\n",
      "25\n",
      "26\n",
      "27\n",
      "28\n",
      "29\n",
      "30\n",
      "31\n",
      "32\n",
      "33\n",
      "34\n",
      "35\n",
      "36\n",
      "37\n",
      "38\n",
      "39\n",
      "40\n",
      "41\n",
      "42\n",
      "43\n",
      "44\n",
      "45\n",
      "46\n",
      "47\n",
      "48\n",
      "49\n",
      "50\n",
      "51\n",
      "52\n",
      "53\n",
      "54\n",
      "55\n",
      "56\n",
      "57\n",
      "58\n",
      "59\n",
      "60\n",
      "61\n",
      "62\n",
      "63\n",
      "64\n",
      "65\n",
      "66\n",
      "67\n",
      "68\n",
      "69\n",
      "70\n",
      "71\n",
      "72\n",
      "73\n",
      "74\n",
      "75\n",
      "76\n",
      "77\n",
      "78\n",
      "79\n",
      "80\n",
      "81\n",
      "82\n",
      "83\n",
      "84\n",
      "85\n",
      "86\n",
      "87\n",
      "88\n",
      "89\n",
      "90\n",
      "91\n",
      "92\n",
      "93\n",
      "94\n",
      "95\n",
      "96\n",
      "97\n",
      "98\n",
      "99\n",
      "100\n",
      "\n"
     ]
    }
   ],
   "source": [
    "# open a file\n",
    "infile=open('number_list.txt','r')\n",
    "\n",
    "# read the file\n",
    "file_list=infile.read()\n",
    "\n",
    "# close file\n",
    "infile.close()\n",
    "\n",
    "# print the data that was read\n",
    "print(file_list)"
   ]
  },
  {
   "cell_type": "markdown",
   "id": "cd6c68c9",
   "metadata": {},
   "source": [
    "### Programming Exercises Question 1\n",
    "In this exercise I am asked to display all the numbers stored in a file. I first want get some numbers in a file so I just randomize 3 numbers. I then open numbers.txt with the write method and assign it to file. I then need to put those 3 randomized numbers into the numbers.txt file. I use the write method to enter them into the file. I then close the file. I then re open the file as a read file. I then have the program read the file and assign it to data. I then use the close method to close the file. Lastly, I print out the 3 randomized numbers. "
   ]
  },
  {
   "cell_type": "code",
   "execution_count": 20,
   "id": "7e381e76",
   "metadata": {},
   "outputs": [
    {
     "name": "stdout",
     "output_type": "stream",
     "text": [
      "4\n",
      "63\n",
      "27\n",
      "\n"
     ]
    }
   ],
   "source": [
    "import random\n",
    "# get 3 integers\n",
    "num1=random.randint(1,100)\n",
    "num2=random.randint(1,100)\n",
    "num3=random.randint(1,100)\n",
    "\n",
    "# open the file\n",
    "file=open('numbers.txt','w')\n",
    "         \n",
    "# write the numbers to the file\n",
    "file.write(f'{num1}\\n')\n",
    "file.write(f'{num2}\\n')\n",
    "file.write(f'{num3}\\n')\n",
    "\n",
    "# close file\n",
    "file.close()\n",
    "\n",
    "# open file in read mode\n",
    "number=open('numbers.txt','r')\n",
    "\n",
    "# read the file         \n",
    "data=number.read()\n",
    "         \n",
    "# close the file\n",
    "number.close() \n",
    "         \n",
    "# display data\n",
    "print(data)         \n"
   ]
  },
  {
   "cell_type": "markdown",
   "id": "eab32e57",
   "metadata": {},
   "source": [
    "### Programming Exercise Question 6\n",
    "In this exercise I am asked to calculate the average of numbers in a file. First I get the program to randomize 4 numbers. I then open the numbers.txt file in write mode to write all of the numbers to the file. I then close and re open in read mode. I create 2 variables as place holders to do the math correctly. I then create a for loop to add all of the numbers together. I then calculate the average and assign it to \"average\". I then need to show what the average is so I create a print statement. "
   ]
  },
  {
   "cell_type": "code",
   "execution_count": 35,
   "id": "80a02f0f",
   "metadata": {},
   "outputs": [
    {
     "name": "stdout",
     "output_type": "stream",
     "text": [
      "The average is: 50.0\n"
     ]
    }
   ],
   "source": [
    "import random\n",
    "# get 4 numbers\n",
    "num1=random.randint(1,100)\n",
    "num2=random.randint(1,100)\n",
    "num3=random.randint(1,100)\n",
    "num4=random.randint(1,100)\n",
    "\n",
    "# open the file\n",
    "file=open('numbers.txt','w')\n",
    "\n",
    "# write these numbers to the file\n",
    "file.write(f'{num1}\\n')\n",
    "file.write(f'{num2}\\n')\n",
    "file.write(f'{num3}\\n')\n",
    "file.write(f'{num4}\\n')\n",
    "\n",
    "# close the file\n",
    "file.close()\n",
    "\n",
    "# now open in read mode\n",
    "file=open('numbers.txt','r')\n",
    "total=0\n",
    "count=0\n",
    "# create for loop\n",
    "for line in file:\n",
    "    number=float(line)\n",
    "    # add all 4 numbers\n",
    "    total+=number\n",
    "    count+=1\n",
    "# calculate the average\n",
    "number=total/count\n",
    "    \n",
    "# print result\n",
    "print(f'The average is: {number}')\n",
    "    \n",
    "# close file\n",
    "file.close()\n",
    "\n"
   ]
  },
  {
   "cell_type": "markdown",
   "id": "657761a1",
   "metadata": {},
   "source": [
    "### Programming Exercise Question 9\n",
    "In this exercise I am asked to take what I coded from question 6 and add exceptions to it. First I need to insert a try suite. I add \"try:\" and then properly indent all of the code inside the try suite. After all of the code I need to go to the end of the code to insert a couple of exceptions. First I use the IOError exception in case there is an exception raised when reading the file. I then use the ValueError in case there is an exception when the numbers are read from the file and converted to integers. I then insert print statements under the Except clauses to let the user know that an error occured. "
   ]
  },
  {
   "cell_type": "code",
   "execution_count": 41,
   "id": "e3380531",
   "metadata": {},
   "outputs": [
    {
     "name": "stdout",
     "output_type": "stream",
     "text": [
      "The average is: 76.25\n"
     ]
    }
   ],
   "source": [
    "import random\n",
    "# get 4 numbers\n",
    "num1=random.randint(1,100)\n",
    "num2=random.randint(1,100)\n",
    "num3=random.randint(1,100)\n",
    "num4=random.randint(1,100)\n",
    "    \n",
    "try:\n",
    "        # open the file\n",
    "        file=open('numbers.txt','w')\n",
    "\n",
    "        # write these numbers to the file\n",
    "        file.write(f'{num1}\\n')\n",
    "        file.write(f'{num2}\\n')\n",
    "        file.write(f'{num3}\\n')\n",
    "        file.write(f'{num4}\\n')\n",
    "\n",
    "        # close the file\n",
    "        file.close()\n",
    "\n",
    "        # now open in read mode\n",
    "        file=open('numbers.txt','r')\n",
    "        total=0\n",
    "        count=0\n",
    "        # create for loop\n",
    "        for line in file:\n",
    "            number=float(line)\n",
    "            # add all 4 numbers\n",
    "            total+=number\n",
    "            count+=1\n",
    "            # calculate the average\n",
    "            number=total/count\n",
    "    \n",
    "        # print result\n",
    "        print(f'The average is: {number}')\n",
    "    \n",
    "        # close file\n",
    "        file.close()\n",
    "\n",
    "    # create exceptions\n",
    "except IOError:\n",
    "    print('An error has occured trying to read the file')\n",
    "except ValueError:\n",
    "    print('An error has occured trying to calculate the file')"
   ]
  },
  {
   "cell_type": "markdown",
   "id": "4f5c5b6c",
   "metadata": {},
   "source": [
    "### Programming Exercise Question 10"
   ]
  },
  {
   "cell_type": "code",
   "execution_count": null,
   "id": "568a14c6",
   "metadata": {},
   "outputs": [],
   "source": [
    "# create variable to control the loop\n",
    "another='y'\n",
    "\n",
    "golf_file=open('golf.txt','a')\n",
    "\n",
    "# add records to the file\n",
    "while another=='y' or == 'Y'\n",
    "# get the golf data\n",
    "    print('Enter the following data:')\n",
    "    name=input('Enter your name: ')\n",
    "    score=input('Enter your score: ')\n",
    "\n",
    "    # ammend the data to the file\n",
    "    golf_file.write(name + '\\n')\n",
    "    golf_file.write(score + '\\n')\n",
    "    \n",
    "    # ask user to add another record to the file\n",
    "    print\n",
    "\n",
    "\n",
    "\n"
   ]
  },
  {
   "cell_type": "code",
   "execution_count": null,
   "id": "9514d2a3",
   "metadata": {},
   "outputs": [],
   "source": []
  }
 ],
 "metadata": {
  "kernelspec": {
   "display_name": "Python 3 (ipykernel)",
   "language": "python",
   "name": "python3"
  },
  "language_info": {
   "codemirror_mode": {
    "name": "ipython",
    "version": 3
   },
   "file_extension": ".py",
   "mimetype": "text/x-python",
   "name": "python",
   "nbconvert_exporter": "python",
   "pygments_lexer": "ipython3",
   "version": "3.11.4"
  }
 },
 "nbformat": 4,
 "nbformat_minor": 5
}
