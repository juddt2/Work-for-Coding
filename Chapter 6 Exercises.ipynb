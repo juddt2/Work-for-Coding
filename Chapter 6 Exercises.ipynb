{
 "cells": [
  {
   "cell_type": "markdown",
   "id": "029a4595",
   "metadata": {},
   "source": [
    "# Chapter 6 Exercises"
   ]
  },
  {
   "cell_type": "markdown",
   "id": "3ba1f66d",
   "metadata": {},
   "source": [
    "### Algorithm Workbench Question 3\n",
    "In this exercise I am asked to open a file,create a loop, and close the file. I first start with opening the file. I open number_list.txt with the write file mode and assign it to number_list. I then create the loop at which the program will list 1-100. I create a for loop and then convert it into a string. I then close the file. I then want to let the user know where it is stored so I create a print statement to show where it is stored. "
   ]
  },
  {
   "cell_type": "code",
   "execution_count": 7,
   "id": "37199c9a",
   "metadata": {},
   "outputs": [
    {
     "name": "stdout",
     "output_type": "stream",
     "text": [
      "The numbers 1-100 have been stored in number_list.txt\n"
     ]
    }
   ],
   "source": [
    "# open output file\n",
    "number_list=open('number_list.txt', 'w')\n",
    "  \n",
    "# get the lists of numbers\n",
    "for num in range(1,101):\n",
    "    number_list.write(str(num)+'\\n') \n",
    "#close the file\n",
    "number_list.close()               \n",
    "# let user know the numbers are in the file\n",
    "print('The numbers 1-100 have been stored in number_list.txt')"
   ]
  },
  {
   "cell_type": "markdown",
   "id": "cf987e0e",
   "metadata": {},
   "source": [
    "### Algorithm Workbench Question 4\n",
    "In this exercise I am asked to open the file I created in question 3 and read it then show the file's contents. I first open number_list.txt with the read file mode and assign it to infile. It then needs to read the file so I use the read method and assign it to file_list. I then need to close the file so I use the close method. I then need to show the files data. So I create a print statement listing all the numbers. "
   ]
  },
  {
   "cell_type": "code",
   "execution_count": 8,
   "id": "243ec45f",
   "metadata": {},
   "outputs": [
    {
     "name": "stdout",
     "output_type": "stream",
     "text": [
      "1\n",
      "2\n",
      "3\n",
      "4\n",
      "5\n",
      "6\n",
      "7\n",
      "8\n",
      "9\n",
      "10\n",
      "11\n",
      "12\n",
      "13\n",
      "14\n",
      "15\n",
      "16\n",
      "17\n",
      "18\n",
      "19\n",
      "20\n",
      "21\n",
      "22\n",
      "23\n",
      "24\n",
      "25\n",
      "26\n",
      "27\n",
      "28\n",
      "29\n",
      "30\n",
      "31\n",
      "32\n",
      "33\n",
      "34\n",
      "35\n",
      "36\n",
      "37\n",
      "38\n",
      "39\n",
      "40\n",
      "41\n",
      "42\n",
      "43\n",
      "44\n",
      "45\n",
      "46\n",
      "47\n",
      "48\n",
      "49\n",
      "50\n",
      "51\n",
      "52\n",
      "53\n",
      "54\n",
      "55\n",
      "56\n",
      "57\n",
      "58\n",
      "59\n",
      "60\n",
      "61\n",
      "62\n",
      "63\n",
      "64\n",
      "65\n",
      "66\n",
      "67\n",
      "68\n",
      "69\n",
      "70\n",
      "71\n",
      "72\n",
      "73\n",
      "74\n",
      "75\n",
      "76\n",
      "77\n",
      "78\n",
      "79\n",
      "80\n",
      "81\n",
      "82\n",
      "83\n",
      "84\n",
      "85\n",
      "86\n",
      "87\n",
      "88\n",
      "89\n",
      "90\n",
      "91\n",
      "92\n",
      "93\n",
      "94\n",
      "95\n",
      "96\n",
      "97\n",
      "98\n",
      "99\n",
      "100\n",
      "\n"
     ]
    }
   ],
   "source": [
    "# open a file\n",
    "infile=open('number_list.txt','r')\n",
    "\n",
    "# read the file\n",
    "file_list=infile.read()\n",
    "\n",
    "# close file\n",
    "infile.close()\n",
    "\n",
    "# print the data that was read\n",
    "print(file_list)"
   ]
  },
  {
   "cell_type": "markdown",
   "id": "3256d8b1",
   "metadata": {},
   "source": [
    "### Programming Exercises Question 1\n",
    "In this exercise I am asked to display all the numbers stored in a file"
   ]
  },
  {
   "cell_type": "code",
   "execution_count": 18,
   "id": "5e851c99",
   "metadata": {},
   "outputs": [
    {
     "name": "stdout",
     "output_type": "stream",
     "text": [
      "Enter the first number: 22\n",
      "Enter the second number: 44\n",
      "Enter the third number: 88\n",
      "22\n",
      "44\n",
      "88\n",
      "\n"
     ]
    }
   ],
   "source": [
    "import random\n",
    "# get 3 integers\n",
    "num1=random.ra\n",
    "num2=int(input('Enter the second number: '))\n",
    "num3=int(input('Enter the third number: '))\n",
    "\n",
    "# open the file\n",
    "file=open('numbers.txt','w')\n",
    "         \n",
    "# write the numbers to the file\n",
    "file.write(f'{num1}\\n')\n",
    "file.write(f'{num2}\\n')\n",
    "file.write(f'{num3}\\n')\n",
    "\n",
    "# close file\n",
    "file.close()\n",
    "\n",
    "# open file in read mode\n",
    "number=open('numbers.txt','r')\n",
    "\n",
    "# read the file         \n",
    "data=number.read()\n",
    "         \n",
    "# close the file\n",
    "number.close() \n",
    "         \n",
    "# display data\n",
    "print(data)         \n"
   ]
  },
  {
   "cell_type": "code",
   "execution_count": null,
   "id": "a4c9e0f9",
   "metadata": {},
   "outputs": [],
   "source": []
  }
 ],
 "metadata": {
  "kernelspec": {
   "display_name": "Python 3 (ipykernel)",
   "language": "python",
   "name": "python3"
  },
  "language_info": {
   "codemirror_mode": {
    "name": "ipython",
    "version": 3
   },
   "file_extension": ".py",
   "mimetype": "text/x-python",
   "name": "python",
   "nbconvert_exporter": "python",
   "pygments_lexer": "ipython3",
   "version": "3.11.4"
  }
 },
 "nbformat": 4,
 "nbformat_minor": 5
}
