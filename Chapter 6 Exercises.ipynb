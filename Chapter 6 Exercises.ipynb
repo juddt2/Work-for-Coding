{
 "cells": [
  {
   "cell_type": "markdown",
   "id": "b9d531e6",
   "metadata": {},
   "source": [
    "# Chapter 6 Exercises"
   ]
  },
  {
   "cell_type": "markdown",
   "id": "62a2bf3f",
   "metadata": {},
   "source": [
    "### Algorithm Workbench Question 3\n",
    "In this exercise I am asked to open a file,create a loop, and close the file. I first start with opening the file. I open number_list.txt with the write file mode and assign it to number_list. I then create the loop at which the program will list 1-100. I create a for loop and then convert it into a string. I then close the file. I then want to let the user know where it is stored so I create a print statement to show where it is stored. "
   ]
  },
  {
   "cell_type": "code",
   "execution_count": 7,
   "id": "b5d84e0e",
   "metadata": {},
   "outputs": [
    {
     "name": "stdout",
     "output_type": "stream",
     "text": [
      "The numbers 1-100 have been stored in number_list.txt\n"
     ]
    }
   ],
   "source": [
    "# open output file\n",
    "number_list=open('number_list.txt', 'w')\n",
    "  \n",
    "# get the lists of numbers\n",
    "for num in range(1,101):\n",
    "    number_list.write(str(num)+'\\n') \n",
    "#close the file\n",
    "number_list.close()               \n",
    "# let user know the numbers are in the file\n",
    "print('The numbers 1-100 have been stored in number_list.txt')"
   ]
  },
  {
   "cell_type": "markdown",
   "id": "096faaf8",
   "metadata": {},
   "source": [
    "### Algorithm Workbench Question 4"
   ]
  },
  {
   "cell_type": "code",
   "execution_count": null,
   "id": "fef14935",
   "metadata": {},
   "outputs": [],
   "source": [
    "# open a file\n",
    "infile=open('number_list.txt','r')\n",
    "\n",
    "# read the file\n",
    "file_list=infile.read()\n",
    "\n",
    "# close file\n",
    "infile.close()\n"
   ]
  }
 ],
 "metadata": {
  "kernelspec": {
   "display_name": "Python 3 (ipykernel)",
   "language": "python",
   "name": "python3"
  },
  "language_info": {
   "codemirror_mode": {
    "name": "ipython",
    "version": 3
   },
   "file_extension": ".py",
   "mimetype": "text/x-python",
   "name": "python",
   "nbconvert_exporter": "python",
   "pygments_lexer": "ipython3",
   "version": "3.11.4"
  }
 },
 "nbformat": 4,
 "nbformat_minor": 5
}
