{
 "cells": [
  {
   "cell_type": "markdown",
   "id": "71a8d45b",
   "metadata": {},
   "source": [
    "# Chapter 12 Exercises"
   ]
  },
  {
   "cell_type": "markdown",
   "id": "b2c55ce9",
   "metadata": {},
   "source": [
    "### Programming Exercises Question 5\n",
    "In this exercise I am asked to use recursive sum to calcualte the sum of numbers in a list. First I create the recursive_sum funtion. I use \"if not\" to check if the list is empty. If the list is not empty it will go to else and get the first number in the list and add that to recursive_sum(numbers[1:]) which is a recursive call to the recursive_sum funtion. The return funtion will return the value of the sum to the recursive_sum funtion. I then create the main function. I start by creating the list that the recursive_sum funtion will add together. I then call the recursive_sum function and assign it to result. Finnaly, I create a print statement to show the result to the user.  "
   ]
  },
  {
   "cell_type": "code",
   "execution_count": 9,
   "id": "1b2697bf",
   "metadata": {},
   "outputs": [
    {
     "name": "stdout",
     "output_type": "stream",
     "text": [
      "The sum is 69\n"
     ]
    }
   ],
   "source": [
    "def recursive_sum(numbers):\n",
    "    # if the list is empty return 0\n",
    "    if not numbers:\n",
    "        return 0\n",
    "    else:\n",
    "        # get the first element and make the recursive call\n",
    "        return numbers[0]+recursive_sum(numbers[1:])\n",
    "\n",
    "def main():\n",
    "    # get the list of numbers to add\n",
    "    num_list=[3,15,46,5]\n",
    "    # call the recursive_sum function and assign it to result\n",
    "    result=recursive_sum(num_list)\n",
    "    # show the sum to user\n",
    "    print(f'The sum is {result}')\n",
    "    \n",
    "# call main\n",
    "if __name__=='__main__':\n",
    "    main()"
   ]
  },
  {
   "cell_type": "code",
   "execution_count": null,
   "id": "7497396a",
   "metadata": {},
   "outputs": [],
   "source": []
  }
 ],
 "metadata": {
  "kernelspec": {
   "display_name": "Python 3 (ipykernel)",
   "language": "python",
   "name": "python3"
  },
  "language_info": {
   "codemirror_mode": {
    "name": "ipython",
    "version": 3
   },
   "file_extension": ".py",
   "mimetype": "text/x-python",
   "name": "python",
   "nbconvert_exporter": "python",
   "pygments_lexer": "ipython3",
   "version": "3.11.4"
  }
 },
 "nbformat": 4,
 "nbformat_minor": 5
}
