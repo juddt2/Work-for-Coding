{
 "cells": [
  {
   "cell_type": "markdown",
   "id": "2ac892de",
   "metadata": {},
   "source": [
    "# Chapter 14 Exercises"
   ]
  },
  {
   "cell_type": "markdown",
   "id": "644af42a",
   "metadata": {},
   "source": [
    "### Programming Exercise Question 2\n",
    "In this exercise I am asked to create a phonebook database that has a table and columns of users names and phone numbers. First I start by importing the phonebook_module. I then create the main funtion to be able to perfrom each of the funtions in the phonebook_module. I call the create.database() funtion from phonebook_module. I then use the add_entry funtion to add 2 entries into the table and I already had the original phone numbers printed in the phonebook_module. I then need to look up an entry so I create 2 print statements to show user the phone number for each entry and call the lookup_name funtion to find the phone number for each user. I then use the update_entry funtion to update the phone number of one of the users. I then create a print statement to show the new updated number. I then delete a entry by calling the delete_entry funtion and deleting 'Jared Goff'. I then try to find Jared Goff entry with a print statement and calling lookup_name but it has deleted.  "
   ]
  },
  {
   "cell_type": "code",
   "execution_count": 2,
   "id": "063981f4",
   "metadata": {},
   "outputs": [
    {
     "name": "stdout",
     "output_type": "stream",
     "text": [
      "Entry added: Name: Travis Judd Phone Number: 517-458-6528\n",
      "Entry added: Name: Jared Goff Phone Number: 313-745-7256\n",
      "\n",
      "Updated phone number for Travis Judd: 989-715-8523\n",
      "\n",
      "Phone number for Jared Goff: Entry not found\n"
     ]
    }
   ],
   "source": [
    "import phonebook_module\n",
    "\n",
    "# create main funtion\n",
    "def main():\n",
    "    # call the create_database funtion\n",
    "    phonebook_module.create_database()\n",
    "    \n",
    "    # add entries\n",
    "    phonebook_module.add_entry('Travis Judd','517-458-6528')\n",
    "    phonebook_module.add_entry('Jared Goff','313-745-7256')\n",
    "    \n",
    "    \n",
    "    \n",
    "    # update an entry\n",
    "    phonebook_module.update_entry('Travis Judd','989-715-8523')\n",
    "    \n",
    "    print()\n",
    "    print('Updated phone number for Travis Judd:', phonebook_module.lookup_name('Travis Judd'))\n",
    "    print()\n",
    "    \n",
    "    # delete an entry\n",
    "    phonebook_module.delete_entry('Jared Goff')\n",
    "    \n",
    "    # look up the phone number of the deleted entry\n",
    "    print('Phone number for Jared Goff:',phonebook_module.lookup_name('Jared Goff'))\n",
    "    \n",
    "# call main funtion\n",
    "if __name__=='__main__':\n",
    "    main()"
   ]
  },
  {
   "cell_type": "code",
   "execution_count": null,
   "id": "c0515787",
   "metadata": {},
   "outputs": [],
   "source": []
  }
 ],
 "metadata": {
  "kernelspec": {
   "display_name": "Python 3 (ipykernel)",
   "language": "python",
   "name": "python3"
  },
  "language_info": {
   "codemirror_mode": {
    "name": "ipython",
    "version": 3
   },
   "file_extension": ".py",
   "mimetype": "text/x-python",
   "name": "python",
   "nbconvert_exporter": "python",
   "pygments_lexer": "ipython3",
   "version": "3.11.4"
  }
 },
 "nbformat": 4,
 "nbformat_minor": 5
}
