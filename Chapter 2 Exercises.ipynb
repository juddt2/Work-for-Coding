{
 "cells": [
  {
   "cell_type": "markdown",
   "id": "a5fea8e6",
   "metadata": {},
   "source": [
    "# Chapter 2 Exercises"
   ]
  },
  {
   "cell_type": "markdown",
   "id": "c6c7d246",
   "metadata": {},
   "source": [
    "### Algorithm Workbench Question 6\n",
    "\n",
    "I am asked to subtract 2 variables and then assign the result to due. I chose 800 as the down payment and assigned it to the down_payment variable. I chose 10000 as the total and assign it to the total variable. I then decide to run 2 print statements to show the results.  "
   ]
  },
  {
   "cell_type": "code",
   "execution_count": 1,
   "id": "98e679f7",
   "metadata": {},
   "outputs": [],
   "source": [
    "down_payment=800"
   ]
  },
  {
   "cell_type": "code",
   "execution_count": 2,
   "id": "380ede39",
   "metadata": {},
   "outputs": [],
   "source": [
    "total=10000"
   ]
  },
  {
   "cell_type": "code",
   "execution_count": 3,
   "id": "9d6ce85a",
   "metadata": {},
   "outputs": [],
   "source": [
    "due= total - down_payment"
   ]
  },
  {
   "cell_type": "code",
   "execution_count": 5,
   "id": "d3002a5f",
   "metadata": {},
   "outputs": [
    {
     "name": "stdout",
     "output_type": "stream",
     "text": [
      "My car costs 10000 I already payed 800\n"
     ]
    }
   ],
   "source": [
    "print('My car costs', total, 'I already payed', down_payment)"
   ]
  },
  {
   "cell_type": "code",
   "execution_count": 6,
   "id": "1e3a3874",
   "metadata": {},
   "outputs": [
    {
     "name": "stdout",
     "output_type": "stream",
     "text": [
      "I now owe 9200\n"
     ]
    }
   ],
   "source": [
    "print('I now owe',due)"
   ]
  },
  {
   "cell_type": "markdown",
   "id": "9416bb9a",
   "metadata": {},
   "source": [
    "### Programming Exercises Question 7"
   ]
  },
  {
   "cell_type": "code",
   "execution_count": 7,
   "id": "7ea9fcde",
   "metadata": {},
   "outputs": [],
   "source": [
    "# Get the users miles driven and gallons of gas used"
   ]
  },
  {
   "cell_type": "code",
   "execution_count": 8,
   "id": "2f528e64",
   "metadata": {},
   "outputs": [
    {
     "name": "stdout",
     "output_type": "stream",
     "text": [
      "Miles Driven: 25\n"
     ]
    }
   ],
   "source": [
    "miles_driven=input('Miles Driven: ')"
   ]
  },
  {
   "cell_type": "code",
   "execution_count": 9,
   "id": "d0984c67",
   "metadata": {},
   "outputs": [
    {
     "name": "stdout",
     "output_type": "stream",
     "text": [
      "Gallons of gas used: 7\n"
     ]
    }
   ],
   "source": [
    "gallons=input('Gallons of gas used: ')"
   ]
  },
  {
   "cell_type": "code",
   "execution_count": 10,
   "id": "a09464f6",
   "metadata": {},
   "outputs": [],
   "source": [
    "# Calculate Miles per Gallon"
   ]
  },
  {
   "cell_type": "code",
   "execution_count": null,
   "id": "18e4544c",
   "metadata": {},
   "outputs": [],
   "source": [
    "MPG=miles_driven"
   ]
  }
 ],
 "metadata": {
  "kernelspec": {
   "display_name": "Python 3 (ipykernel)",
   "language": "python",
   "name": "python3"
  },
  "language_info": {
   "codemirror_mode": {
    "name": "ipython",
    "version": 3
   },
   "file_extension": ".py",
   "mimetype": "text/x-python",
   "name": "python",
   "nbconvert_exporter": "python",
   "pygments_lexer": "ipython3",
   "version": "3.11.4"
  }
 },
 "nbformat": 4,
 "nbformat_minor": 5
}
