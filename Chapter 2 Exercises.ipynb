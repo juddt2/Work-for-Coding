{
 "cells": [
  {
   "cell_type": "markdown",
   "id": "b7737e19",
   "metadata": {},
   "source": [
    "# Chapter 2 Exercises"
   ]
  },
  {
   "cell_type": "markdown",
   "id": "9d2a9566",
   "metadata": {},
   "source": [
    "### Algorithm Workbench Question 6"
   ]
  },
  {
   "cell_type": "code",
   "execution_count": 1,
   "id": "af39240a",
   "metadata": {},
   "outputs": [],
   "source": [
    "down_payment=800"
   ]
  },
  {
   "cell_type": "code",
   "execution_count": 2,
   "id": "894a21f4",
   "metadata": {},
   "outputs": [],
   "source": [
    "total=10000"
   ]
  },
  {
   "cell_type": "code",
   "execution_count": 3,
   "id": "cb7d6f8d",
   "metadata": {},
   "outputs": [],
   "source": [
    "due= total - down_payment"
   ]
  },
  {
   "cell_type": "code",
   "execution_count": null,
   "id": "4d7ce605",
   "metadata": {},
   "outputs": [],
   "source": [
    "print('My car costs', total 'I already payed', down_payment)"
   ]
  },
  {
   "cell_type": "code",
   "execution_count": null,
   "id": "66177d84",
   "metadata": {},
   "outputs": [],
   "source": [
    "print('I now owe',due)"
   ]
  },
  {
   "cell_type": "code",
   "execution_count": null,
   "id": "5485ebe7",
   "metadata": {},
   "outputs": [],
   "source": []
  },
  {
   "cell_type": "code",
   "execution_count": null,
   "id": "3eabc233",
   "metadata": {},
   "outputs": [],
   "source": []
  }
 ],
 "metadata": {
  "kernelspec": {
   "display_name": "Python 3 (ipykernel)",
   "language": "python",
   "name": "python3"
  },
  "language_info": {
   "codemirror_mode": {
    "name": "ipython",
    "version": 3
   },
   "file_extension": ".py",
   "mimetype": "text/x-python",
   "name": "python",
   "nbconvert_exporter": "python",
   "pygments_lexer": "ipython3",
   "version": "3.11.4"
  }
 },
 "nbformat": 4,
 "nbformat_minor": 5
}
