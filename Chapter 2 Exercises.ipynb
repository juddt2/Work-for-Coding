{
 "cells": [
  {
   "cell_type": "markdown",
   "id": "990bf7f5",
   "metadata": {},
   "source": [
    "# Chapter 2 Exercises"
   ]
  },
  {
   "cell_type": "markdown",
   "id": "3d485233",
   "metadata": {},
   "source": [
    "### Algorithm Workbench Question 6\n",
    "\n",
    "I am asked to subtract 2 variables and then assign the result to due. I chose 800 as the down payment and assigned it to the down_payment variable. I chose 10000 as the total and assign it to the total variable. I then decide to run 2 print statements to show the results.  "
   ]
  },
  {
   "cell_type": "code",
   "execution_count": 1,
   "id": "b48ddcc2",
   "metadata": {},
   "outputs": [],
   "source": [
    "down_payment=800"
   ]
  },
  {
   "cell_type": "code",
   "execution_count": 2,
   "id": "1186084b",
   "metadata": {},
   "outputs": [],
   "source": [
    "total=10000"
   ]
  },
  {
   "cell_type": "code",
   "execution_count": 3,
   "id": "4132c14d",
   "metadata": {},
   "outputs": [],
   "source": [
    "due= total - down_payment"
   ]
  },
  {
   "cell_type": "code",
   "execution_count": 4,
   "id": "0c7135a8",
   "metadata": {},
   "outputs": [
    {
     "name": "stdout",
     "output_type": "stream",
     "text": [
      "My car costs 10000 I already payed 800\n"
     ]
    }
   ],
   "source": [
    "print('My car costs', total, 'I already payed', down_payment)"
   ]
  },
  {
   "cell_type": "code",
   "execution_count": 5,
   "id": "d12ae272",
   "metadata": {},
   "outputs": [
    {
     "name": "stdout",
     "output_type": "stream",
     "text": [
      "I now owe 9200\n"
     ]
    }
   ],
   "source": [
    "print('I now owe',due)"
   ]
  },
  {
   "cell_type": "markdown",
   "id": "1c2ff967",
   "metadata": {},
   "source": [
    "### Programming Exercises Question 7\n",
    "\n",
    "I ran into a TypeError when trying to calculate the miles per gallon. I tried float funtion but that did not work. I then figured out that I need to convert 25 and 7 to numbers. So I used the int function. Once I ran it I no longer got a TypeError. I then printed out the final miles-per-gallon solution.   "
   ]
  },
  {
   "cell_type": "code",
   "execution_count": 6,
   "id": "6204bfbd",
   "metadata": {},
   "outputs": [],
   "source": [
    "# Get the users miles driven and gallons of gas used"
   ]
  },
  {
   "cell_type": "code",
   "execution_count": 20,
   "id": "b41f0536",
   "metadata": {},
   "outputs": [
    {
     "name": "stdout",
     "output_type": "stream",
     "text": [
      "Miles Driven: 25\n"
     ]
    }
   ],
   "source": [
    "miles_driven=int(input('Miles Driven: '))"
   ]
  },
  {
   "cell_type": "code",
   "execution_count": 21,
   "id": "f4e5911f",
   "metadata": {},
   "outputs": [
    {
     "name": "stdout",
     "output_type": "stream",
     "text": [
      "Gallons of gas used: 7\n"
     ]
    }
   ],
   "source": [
    "gallons=int(input('Gallons of gas used: '))"
   ]
  },
  {
   "cell_type": "code",
   "execution_count": 9,
   "id": "a7739ad4",
   "metadata": {},
   "outputs": [],
   "source": [
    "# Calculate Miles per Gallon"
   ]
  },
  {
   "cell_type": "code",
   "execution_count": 26,
   "id": "c2ba1ffb",
   "metadata": {},
   "outputs": [],
   "source": [
    "mpg = miles_driven / gallons"
   ]
  },
  {
   "cell_type": "code",
   "execution_count": 27,
   "id": "e487b419",
   "metadata": {},
   "outputs": [
    {
     "name": "stdout",
     "output_type": "stream",
     "text": [
      "My miles-per-gallon is: 3.5714285714285716\n"
     ]
    }
   ],
   "source": [
    "print('My miles-per-gallon is:',mpg)"
   ]
  },
  {
   "cell_type": "markdown",
   "id": "a1804b80",
   "metadata": {},
   "source": [
    "### Programming Exercises: Planting Grapevines"
   ]
  },
  {
   "cell_type": "code",
   "execution_count": 28,
   "id": "e20cc3df",
   "metadata": {},
   "outputs": [],
   "source": [
    "# Get the Length of Row "
   ]
  },
  {
   "cell_type": "code",
   "execution_count": 29,
   "id": "94dae219",
   "metadata": {},
   "outputs": [
    {
     "name": "stdout",
     "output_type": "stream",
     "text": [
      "Length of the row: 20\n"
     ]
    }
   ],
   "source": [
    "length_row=int(input('Length of the row: '))"
   ]
  },
  {
   "cell_type": "code",
   "execution_count": 30,
   "id": "034dd49c",
   "metadata": {},
   "outputs": [],
   "source": [
    "# Get the space used by end-post assemblies"
   ]
  },
  {
   "cell_type": "code",
   "execution_count": 33,
   "id": "3a383436",
   "metadata": {},
   "outputs": [
    {
     "name": "stdout",
     "output_type": "stream",
     "text": [
      "Space used by end post assemblies: 2\n"
     ]
    }
   ],
   "source": [
    "end_post=int(input('Space used by end post assemblies: '))"
   ]
  },
  {
   "cell_type": "code",
   "execution_count": 34,
   "id": "d0d00c51",
   "metadata": {},
   "outputs": [],
   "source": [
    "# Get the amount of space between vines"
   ]
  },
  {
   "cell_type": "code",
   "execution_count": 37,
   "id": "f78c1378",
   "metadata": {},
   "outputs": [
    {
     "name": "stdout",
     "output_type": "stream",
     "text": [
      "Space between the vines: 1.5\n"
     ]
    }
   ],
   "source": [
    "vines=float(input('Space between the vines: '))"
   ]
  },
  {
   "cell_type": "code",
   "execution_count": 38,
   "id": "5158332e",
   "metadata": {},
   "outputs": [],
   "source": [
    "# Calculate the number of grapevines in each row"
   ]
  },
  {
   "cell_type": "code",
   "execution_count": 39,
   "id": "5b319ae3",
   "metadata": {},
   "outputs": [],
   "source": [
    "grapevines=length_row-2*end_post/vines"
   ]
  },
  {
   "cell_type": "code",
   "execution_count": null,
   "id": "13e88f17",
   "metadata": {},
   "outputs": [],
   "source": []
  }
 ],
 "metadata": {
  "kernelspec": {
   "display_name": "Python 3 (ipykernel)",
   "language": "python",
   "name": "python3"
  },
  "language_info": {
   "codemirror_mode": {
    "name": "ipython",
    "version": 3
   },
   "file_extension": ".py",
   "mimetype": "text/x-python",
   "name": "python",
   "nbconvert_exporter": "python",
   "pygments_lexer": "ipython3",
   "version": "3.11.4"
  }
 },
 "nbformat": 4,
 "nbformat_minor": 5
}
