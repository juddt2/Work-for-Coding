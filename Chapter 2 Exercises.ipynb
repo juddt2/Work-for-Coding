{
 "cells": [
  {
   "cell_type": "markdown",
   "id": "7de01cad",
   "metadata": {},
   "source": [
    "# Chapter 2 Exercises"
   ]
  },
  {
   "cell_type": "markdown",
   "id": "181af981",
   "metadata": {},
   "source": [
    "### Algorithm Workbench Question 6\n",
    "\n",
    "I am asked to subtract 2 variables and then assign the result to due. First the program needs input. I assign down_payment and total variables. Once that input is given the program now needs to process the input. I assign the due variable to subtract the down_payment from total variable. I then write 2 print statements to give the program a way to output what it processed. First the program shows how much the total is and how much the down payment was. Now I have to show how much is still due. I write a second print statement to show how much is still owed. "
   ]
  },
  {
   "cell_type": "code",
   "execution_count": 1,
   "id": "11c4f4e7",
   "metadata": {},
   "outputs": [],
   "source": [
    "down_payment=800"
   ]
  },
  {
   "cell_type": "code",
   "execution_count": 2,
   "id": "f8ec019e",
   "metadata": {},
   "outputs": [],
   "source": [
    "total=10000"
   ]
  },
  {
   "cell_type": "code",
   "execution_count": 3,
   "id": "a5610e32",
   "metadata": {},
   "outputs": [],
   "source": [
    "due= total - down_payment"
   ]
  },
  {
   "cell_type": "code",
   "execution_count": 4,
   "id": "72510eab",
   "metadata": {},
   "outputs": [
    {
     "name": "stdout",
     "output_type": "stream",
     "text": [
      "My car costs 10000 I already payed 800\n"
     ]
    }
   ],
   "source": [
    "print('My car costs', total, 'I already payed', down_payment)"
   ]
  },
  {
   "cell_type": "code",
   "execution_count": 5,
   "id": "c9cb7850",
   "metadata": {},
   "outputs": [
    {
     "name": "stdout",
     "output_type": "stream",
     "text": [
      "I now owe 9200\n"
     ]
    }
   ],
   "source": [
    "print('I now owe',due)"
   ]
  },
  {
   "cell_type": "markdown",
   "id": "c8140e5a",
   "metadata": {},
   "source": [
    "### Programming Exercises Question 7\n",
    "\n",
    "This exercise asks me to figure out miles-per-gallon. First, the program needs input from the user. I give it a input statement to gather miles driven and gallons used. The program now needs to process this input data. The program needs to divide miles driven and gallons. I assign it to the mpg variable. I ran into a TypeError when trying to assign the mpg variable. I tried the float funtion but that did not work. I then figured out that I need to convert 25 and 7 to numbers. So I used the int function. Once I ran it I no longer got a TypeError. Now the program needs a way to output what it processed. I give the program a print statement to run. It then outputs the miles per gallon. "
   ]
  },
  {
   "cell_type": "code",
   "execution_count": 6,
   "id": "40db761d",
   "metadata": {},
   "outputs": [],
   "source": [
    "# Get the users miles driven and gallons of gas used"
   ]
  },
  {
   "cell_type": "code",
   "execution_count": 20,
   "id": "9a9ed78c",
   "metadata": {},
   "outputs": [
    {
     "name": "stdout",
     "output_type": "stream",
     "text": [
      "Miles Driven: 25\n"
     ]
    }
   ],
   "source": [
    "miles_driven=int(input('Miles Driven: '))"
   ]
  },
  {
   "cell_type": "code",
   "execution_count": 21,
   "id": "d299b007",
   "metadata": {},
   "outputs": [
    {
     "name": "stdout",
     "output_type": "stream",
     "text": [
      "Gallons of gas used: 7\n"
     ]
    }
   ],
   "source": [
    "gallons=int(input('Gallons of gas used: '))"
   ]
  },
  {
   "cell_type": "code",
   "execution_count": 9,
   "id": "b9c0eb9d",
   "metadata": {},
   "outputs": [],
   "source": [
    "# Calculate Miles per Gallon"
   ]
  },
  {
   "cell_type": "code",
   "execution_count": 26,
   "id": "790c8b93",
   "metadata": {},
   "outputs": [],
   "source": [
    "mpg = miles_driven / gallons"
   ]
  },
  {
   "cell_type": "code",
   "execution_count": 27,
   "id": "93c5ff85",
   "metadata": {},
   "outputs": [
    {
     "name": "stdout",
     "output_type": "stream",
     "text": [
      "My miles-per-gallon is: 3.5714285714285716\n"
     ]
    }
   ],
   "source": [
    "print('My miles-per-gallon is:',mpg)"
   ]
  },
  {
   "cell_type": "markdown",
   "id": "2f5bfeff",
   "metadata": {},
   "source": [
    "### Programming Exercises: Planting Grapevines\n",
    "\n",
    "In this exercise I am asked to calculate the number of grapevines in each row. I first need 3 inputs from the user. I get those 3 inputs from the user. Now I need to give the program a way to process that input. I figure out the formula to convert to a programming statement. I give the program a statement to run. I then need to give it a way to output the data. I put together a print statement to deliver the output. The program then prints how many grapevines can fit. This exercise made me feel a little more confident as I seemed to run into no errors or problems. "
   ]
  },
  {
   "cell_type": "code",
   "execution_count": 28,
   "id": "318d7bd3",
   "metadata": {},
   "outputs": [],
   "source": [
    "# Get the Length of Row "
   ]
  },
  {
   "cell_type": "code",
   "execution_count": 29,
   "id": "b7ce7f0c",
   "metadata": {},
   "outputs": [
    {
     "name": "stdout",
     "output_type": "stream",
     "text": [
      "Length of the row: 20\n"
     ]
    }
   ],
   "source": [
    "length_row=int(input('Length of the row: '))"
   ]
  },
  {
   "cell_type": "code",
   "execution_count": 30,
   "id": "f576df32",
   "metadata": {},
   "outputs": [],
   "source": [
    "# Get the space used by end-post assemblies"
   ]
  },
  {
   "cell_type": "code",
   "execution_count": 44,
   "id": "38e81d00",
   "metadata": {},
   "outputs": [
    {
     "name": "stdout",
     "output_type": "stream",
     "text": [
      "Space used by end post assemblies: 2\n"
     ]
    }
   ],
   "source": [
    "end_post=int(input('Space used by end post assemblies: '))"
   ]
  },
  {
   "cell_type": "code",
   "execution_count": 34,
   "id": "e965e056",
   "metadata": {},
   "outputs": [],
   "source": [
    "# Get the amount of space between vines"
   ]
  },
  {
   "cell_type": "code",
   "execution_count": 43,
   "id": "ccc03949",
   "metadata": {},
   "outputs": [
    {
     "name": "stdout",
     "output_type": "stream",
     "text": [
      "Space between the vines: 1.5\n"
     ]
    }
   ],
   "source": [
    "vines=float(input('Space between the vines: '))"
   ]
  },
  {
   "cell_type": "code",
   "execution_count": 38,
   "id": "afd5ba3e",
   "metadata": {},
   "outputs": [],
   "source": [
    "# Calculate the number of grapevines in each row"
   ]
  },
  {
   "cell_type": "code",
   "execution_count": 39,
   "id": "28d4e00a",
   "metadata": {},
   "outputs": [],
   "source": [
    "grapevines=length_row-2*end_post/vines"
   ]
  },
  {
   "cell_type": "code",
   "execution_count": 40,
   "id": "f47f6ee5",
   "metadata": {},
   "outputs": [],
   "source": [
    "# Display the number of grapevines in each row "
   ]
  },
  {
   "cell_type": "code",
   "execution_count": 41,
   "id": "f793e906",
   "metadata": {},
   "outputs": [
    {
     "name": "stdout",
     "output_type": "stream",
     "text": [
      "There will be 17.333333333333332 in each row\n"
     ]
    }
   ],
   "source": [
    "print('There will be',grapevines,'in each row')"
   ]
  },
  {
   "cell_type": "code",
   "execution_count": null,
   "id": "ff136410",
   "metadata": {},
   "outputs": [],
   "source": []
  }
 ],
 "metadata": {
  "kernelspec": {
   "display_name": "Python 3 (ipykernel)",
   "language": "python",
   "name": "python3"
  },
  "language_info": {
   "codemirror_mode": {
    "name": "ipython",
    "version": 3
   },
   "file_extension": ".py",
   "mimetype": "text/x-python",
   "name": "python",
   "nbconvert_exporter": "python",
   "pygments_lexer": "ipython3",
   "version": "3.11.4"
  }
 },
 "nbformat": 4,
 "nbformat_minor": 5
}
