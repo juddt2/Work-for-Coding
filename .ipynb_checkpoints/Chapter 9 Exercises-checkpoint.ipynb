{
 "cells": [
  {
   "cell_type": "markdown",
   "id": "c5d0d244",
   "metadata": {},
   "source": [
    "# Chapter 9 Exercises"
   ]
  },
  {
   "cell_type": "markdown",
   "id": "33e3aacd",
   "metadata": {},
   "source": [
    "### Programming Exercise Question 2\n",
    "In this exercise I am asked to quiz a user on the capitals of the 50 states. I first need to create a dictionary of all of the states and capitals. I get all of the states and capitals(I did not show me creating the dictionary in the video as I thought it was unessesary to watch me get all 50 capitals). I then need to track correct and incorrect answers so I get 2 strings and assign them to as a placeholder. I then need to generate a state and quiz the user. I start by making a while True loop. I make a while True loop. I assin states to randomize the state selected and turn the choices dictionary into a list. I then assign capital to choices[state] to access the value asociated with the state key. I then need to ask the user to enter the capital to I create a print statement asking what the capital of the randomly selected state. I then create a input statement so the user can enter the answer and assign it to user_input. I then need to check to see if the user entered 'quit'. If so, I create a if statement and use the .lower() funtion to ensure that it is not case sensitive. If user_input=='quit' then I create a break statement to end the loop because at the start I made a while True loop. I then make another if statement to print a statement depending on whether the user got it right or wrong. I also keep track of correct and incorrect answers after each print statement. When the program exists the loop it will print out teh final score for the user. "
   ]
  },
  {
   "cell_type": "code",
   "execution_count": 1,
   "id": "fad1c1ba",
   "metadata": {},
   "outputs": [],
   "source": [
    "import random"
   ]
  },
  {
   "cell_type": "code",
   "execution_count": 3,
   "id": "516cbbf8",
   "metadata": {},
   "outputs": [
    {
     "name": "stdout",
     "output_type": "stream",
     "text": [
      "What is the capital of Nevada? (Enter \"quit\" to exit)\n",
      "Your answer: Carson City\n",
      "Correct\n",
      "\n",
      "What is the capital of Georgia? (Enter \"quit\" to exit)\n",
      "Your answer: Augusta\n",
      "Incorrect, the capital of Georgia is Atlanta\n",
      "\n",
      "What is the capital of Kentucky? (Enter \"quit\" to exit)\n",
      "Your answer: quit\n",
      "You answered 1 capitals correctly\n",
      "You answered 1 capitals incorrectly\n"
     ]
    }
   ],
   "source": [
    "def main():\n",
    "    # get the state and capital\n",
    "    choices = {\n",
    "        'Alabama': 'Montgomery', 'Alaska': 'Juneau', 'Arizona': 'Phoenix',\n",
    "        'Arkansas': 'Little Rock', 'California': 'Sacramento', 'Colorado': 'Denver',\n",
    "        'Connecticut': 'Hartford', 'Delaware': 'Dover', 'Florida': 'Tallahassee',\n",
    "        'Georgia': 'Atlanta', 'Hawaii': 'Honolulu', 'Idaho': 'Boise',\n",
    "        'Illinois': 'Springfield', 'Indiana': 'Indianapolis', 'Iowa': 'Des Moines',\n",
    "        'Kansas': 'Topeka', 'Kentucky': 'Frankfort', 'Louisiana': 'Baton Rouge',\n",
    "        'Maine': 'Augusta', 'Maryland': 'Annapolis', 'Massachusetts': 'Boston',\n",
    "        'Michigan': 'Lansing', 'Minnesota': 'St. Paul', 'Mississippi': 'Jackson',\n",
    "        'Missouri': 'Jefferson City', 'Montana': 'Helena', 'Nebraska': 'Lincoln',\n",
    "        'Nevada': 'Carson City', 'New Hampshire': 'Concord', 'New Jersey': 'Trenton',\n",
    "        'New Mexico': 'Santa Fe', 'New York': 'Albany', 'North Carolina': 'Raleigh',\n",
    "        'North Dakota': 'Bismarck', 'Ohio': 'Columbus', 'Oklahoma': 'Oklahoma City',\n",
    "        'Oregon': 'Salem', 'Pennsylvania': 'Harrisburg', 'Rhode Island': 'Providence',\n",
    "        'South Carolina': 'Columbia', 'South Dakota': 'Pierre', 'Tennessee': 'Nashville',\n",
    "        'Texas': 'Austin', 'Utah': 'Salt Lake City', 'Vermont': 'Montpelier',\n",
    "        'Virginia': 'Richmond', 'Washington': 'Olympia', 'West Virginia': 'Charleston',\n",
    "        'Wisconsin': 'Madison', 'Wyoming': 'Cheyenne'\n",
    "    }\n",
    "    \n",
    "   # keep track of right and wrong answers\n",
    "    correct_answer=0\n",
    "    incorrect_answer=0\n",
    "    \n",
    "    while True:\n",
    "        # keep going until the user wants to be done\n",
    "        state=random.choice(list(choices.keys()))\n",
    "        capital=choices[state]\n",
    "        \n",
    "        # ask user the question\n",
    "        print(f'What is the capital of {state}? (Enter \"quit\" to exit)')\n",
    "        user_input=input('Your answer: ')\n",
    "        \n",
    "        \n",
    "        # check to see if user wants to be done\n",
    "        # if yes, exit right away\n",
    "        if user_input.lower()=='quit':\n",
    "            break\n",
    "            \n",
    "        # tell user if they got it right or wrong\n",
    "        # also add correct or incorrect answer+1\n",
    "        if user_input==capital:\n",
    "            print('Correct\\n')\n",
    "            correct_answer+=1\n",
    "        else: \n",
    "            print(f'Incorrect, the capital of {state} is {capital}\\n')\n",
    "            incorrect_answer+=1\n",
    "    print(f'You answered {correct_answer} capitals correctly')\n",
    "    print(f'You answered {incorrect_answer} capitals incorrectly')\n",
    "main()\n",
    "            \n",
    "            "
   ]
  },
  {
   "cell_type": "code",
   "execution_count": null,
   "id": "4d74e108",
   "metadata": {},
   "outputs": [],
   "source": []
  }
 ],
 "metadata": {
  "kernelspec": {
   "display_name": "Python 3 (ipykernel)",
   "language": "python",
   "name": "python3"
  },
  "language_info": {
   "codemirror_mode": {
    "name": "ipython",
    "version": 3
   },
   "file_extension": ".py",
   "mimetype": "text/x-python",
   "name": "python",
   "nbconvert_exporter": "python",
   "pygments_lexer": "ipython3",
   "version": "3.11.4"
  }
 },
 "nbformat": 4,
 "nbformat_minor": 5
}
