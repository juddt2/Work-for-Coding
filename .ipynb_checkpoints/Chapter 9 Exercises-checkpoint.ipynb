{
 "cells": [
  {
   "cell_type": "markdown",
   "id": "e9cf81aa",
   "metadata": {},
   "source": [
    "# Chapter 9 Exercises"
   ]
  },
  {
   "cell_type": "markdown",
   "id": "880f9261",
   "metadata": {},
   "source": [
    "### Programming Exercise Question 3"
   ]
  },
  {
   "cell_type": "markdown",
   "id": "b3fdbf0e",
   "metadata": {},
   "source": [
    "#### Program 1"
   ]
  },
  {
   "cell_type": "code",
   "execution_count": 32,
   "id": "2b3d31af",
   "metadata": {},
   "outputs": [
    {
     "name": "stdout",
     "output_type": "stream",
     "text": [
      "Loaded codes: {'A': '%', 'a': '9', 'B': '@', 'b': '#', 'C': '&', 'c': '*', 'D': '+', 'd': '-', 'E': '=', 'e': '/', 'F': '?', 'f': '<', 'G': '>', 'g': '^', 'H': '~', 'h': '`', 'I': '|', 'i': '[', 'J': ']', 'j': '{', 'K': '}', 'k': ':', 'L': ';', 'l': ',', 'M': '.', 'm': '\"', 'N': \"'\", 'n': '_', 'O': '\\\\', 'o': '$', 'P': ')', 'p': '(', 'Q': '!', 'q': '.', 'R': ',', 'r': ';', 'S': ':', 's': '{', 'T': '}', 't': '[', 'U': '(', 'u': '[', 'V': '!', 'v': '?', 'W': '<', 'w': '=', 'X': '-', 'x': '&', 'Y': '*', 'y': '@', 'Z': '/', 'z': '%'}\n"
     ]
    }
   ],
   "source": [
    "def main():\n",
    "    import pickle \n",
    "    # create a dictipnary of codes to encrypt\n",
    "    codes = {'A': '%', 'a': '9', 'B': '@', \n",
    "             'b': '#', 'C': '&', 'c': '*', 'D': '+', \n",
    "             'd': '-', 'E': '=', 'e': '/', 'F': '?', \n",
    "             'f': '<', 'G': '>', 'g': '^', 'H': '~', \n",
    "             'h': '`', 'I': '|', 'i': '[', 'J': ']', \n",
    "             'j': '{', 'K': '}', 'k': ':', 'L': ';', \n",
    "             'l': ',', 'M': '.', 'm': '\"', 'N': \"'\", \n",
    "             'n': '_', 'O': '\\\\', 'o': '$', 'P': ')', \n",
    "             'p': '(', 'Q': '!', 'q': '.', 'R': ',', \n",
    "             'r': ';', 'S': ':', 's': '{', 'T': '}',\n",
    "             't':'[','U':'(','u':'[','V':'!','v':'?',\n",
    "             'W':'<','w':'=','X':'-','x':'&','Y':'*',\n",
    "             'y':'@','Z':'/','z':'%'\n",
    "            }\n",
    "        \n",
    "    with open('codes.pkl','wb') as output_file:\n",
    "        pickle.dump(codes, output_file)\n",
    "    \n",
    "    \n",
    "    try:\n",
    "        with open('codes.pkl','rb') as input_file:\n",
    "            loaded_codes=pickle.load(input_file)\n",
    "        print('Loaded codes:', loaded_codes)\n",
    "    except FileNotFoundError:\n",
    "        print('File not found')\n",
    "    \n",
    "main()"
   ]
  },
  {
   "cell_type": "code",
   "execution_count": null,
   "id": "dd946288",
   "metadata": {},
   "outputs": [],
   "source": []
  }
 ],
 "metadata": {
  "kernelspec": {
   "display_name": "Python 3 (ipykernel)",
   "language": "python",
   "name": "python3"
  },
  "language_info": {
   "codemirror_mode": {
    "name": "ipython",
    "version": 3
   },
   "file_extension": ".py",
   "mimetype": "text/x-python",
   "name": "python",
   "nbconvert_exporter": "python",
   "pygments_lexer": "ipython3",
   "version": "3.11.4"
  }
 },
 "nbformat": 4,
 "nbformat_minor": 5
}
