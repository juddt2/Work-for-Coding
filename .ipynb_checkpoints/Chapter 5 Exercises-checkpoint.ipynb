{
 "cells": [
  {
   "cell_type": "markdown",
   "id": "d343edca",
   "metadata": {},
   "source": [
    "# Chapter 5 Exercises"
   ]
  },
  {
   "cell_type": "markdown",
   "id": "96d019b2",
   "metadata": {},
   "source": [
    "### Algorithm Workbench Question 2\n",
    "In this exercise I am asked to write a statement that calls 12 as a function. I first need to create the main function. 12 needs to be the function so I assign 12 to value. I then pass value as an argument to the show_value function. I then create the show_value funtion. I put quantity in the header as that will now be assigned to the value variable. I then need to show that 12 was passed as the argument so I create a print statement to show the output. "
   ]
  },
  {
   "cell_type": "code",
   "execution_count": 3,
   "id": "08a7a049",
   "metadata": {},
   "outputs": [
    {
     "name": "stdout",
     "output_type": "stream",
     "text": [
      "12\n"
     ]
    }
   ],
   "source": [
    "# create main function\n",
    "def main():\n",
    "    value=12\n",
    "    show_value(value)\n",
    "# create the show_double function    \n",
    "def show_value(quantity):\n",
    "    print(quantity)\n",
    "\n",
    "# call main function\n",
    "main()"
   ]
  },
  {
   "cell_type": "markdown",
   "id": "dffbf6f5",
   "metadata": {},
   "source": [
    "### Alorithm Workbench Question 6\n",
    "In this exercise I am asked to "
   ]
  },
  {
   "cell_type": "code",
   "execution_count": 13,
   "id": "06c11595",
   "metadata": {},
   "outputs": [
    {
     "name": "stdout",
     "output_type": "stream",
     "text": [
      "The number is 37.\n"
     ]
    }
   ],
   "source": [
    "# get number\n",
    "rand=random.randint(1,100)\n",
    "# print number\n",
    "print(f'The number is {rand}.')"
   ]
  },
  {
   "cell_type": "markdown",
   "id": "6c1315d8",
   "metadata": {},
   "source": [
    "### Programming Exercise Question 1\n",
    "In this exercise I am asked to ask the user for a distance then convert it to miles. I first assign .6214 to the rate variable. I then create the main funtion. First the program asks for the user to enter a distance in kilometers. I then assign kilometers to the show_distance function. In the show_distance funtion I create the formula to convert kilometers to miles. I then create a print statement with a f-string to show the conversion. I then call the main funtion. "
   ]
  },
  {
   "cell_type": "code",
   "execution_count": 29,
   "id": "eff46380",
   "metadata": {},
   "outputs": [
    {
     "name": "stdout",
     "output_type": "stream",
     "text": [
      "Enter the distance in kilometers: 36\n",
      "The distance in miles is: 22.37\n"
     ]
    }
   ],
   "source": [
    "# assign rate variable\n",
    "rate=.6214\n",
    "\n",
    "\n",
    "# get distance\n",
    "def main():\n",
    "    kilometers=int(input('Enter the distance in kilometers: '))\n",
    "    show_distance(kilometers)\n",
    "\n",
    "# convert and show output\n",
    "def show_distance(miles):\n",
    "    miles=kilometers*rate\n",
    "    print(f'The distance in miles is: {miles:,.2f}')\n",
    "main()"
   ]
  },
  {
   "cell_type": "markdown",
   "id": "23654ae5",
   "metadata": {},
   "source": [
    "### Programming Exercise number 17\n",
    "In this exercise I am asked to get a number from the user and determine if the number is a prime number. I first need to create the prime funtion. I assign number to is_prime. I then create a range funtion. I start at 2 because all numbers are divisible by 1 so that is pointless. I go all the way up to the number variable. I then create an if statement to determine if it is false or true. If numbermoduloprme is equal to 0 then it will return it as False. If it is not equal to 0 it will return it as True. I then need to get a number from the user to I create a input statement. I then create a if-else statement to determine what to output.    "
   ]
  },
  {
   "cell_type": "code",
   "execution_count": 62,
   "id": "8c6056ca",
   "metadata": {},
   "outputs": [
    {
     "name": "stdout",
     "output_type": "stream",
     "text": [
      "Enter a number: 7\n",
      "The number is a prime number\n"
     ]
    }
   ],
   "source": [
    "# get is_prime function\n",
    "def is_prime(number):\n",
    "# determine prime number\n",
    "    for prme in range(2, number):\n",
    "        if number % prme ==0:\n",
    "            return False\n",
    "    return True\n",
    "# get number\n",
    "number=int(input('Enter a number: '))\n",
    "if is_prime(number):\n",
    "    print('The number is a prime number')\n",
    "else:\n",
    "    print('The number is not a prime number')"
   ]
  },
  {
   "cell_type": "code",
   "execution_count": null,
   "id": "8191f773",
   "metadata": {},
   "outputs": [],
   "source": []
  }
 ],
 "metadata": {
  "kernelspec": {
   "display_name": "Python 3 (ipykernel)",
   "language": "python",
   "name": "python3"
  },
  "language_info": {
   "codemirror_mode": {
    "name": "ipython",
    "version": 3
   },
   "file_extension": ".py",
   "mimetype": "text/x-python",
   "name": "python",
   "nbconvert_exporter": "python",
   "pygments_lexer": "ipython3",
   "version": "3.11.4"
  }
 },
 "nbformat": 4,
 "nbformat_minor": 5
}
