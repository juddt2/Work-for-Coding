{
 "cells": [
  {
   "cell_type": "markdown",
   "id": "7aaa00c8",
   "metadata": {},
   "source": [
    "# Chapter 13 Exercises"
   ]
  },
  {
   "cell_type": "markdown",
   "id": "9abd120f",
   "metadata": {},
   "source": [
    "### Programming Exercises Question 4\n",
    "In this exercise I am asked to create a GUI that asks the user to enter a celsus temperature and convert it to fahrenheit. First I start by importing tkinter to get the GUI imported. I then create the convert_temperature funtion and use a try and except statement to ask the user to enter a number and convert it. I use the .get() funtion to get a number from the user. I then use the formula to convert celsius to fahrenheit. I use the text attribute to label the GUI. If it is not a number the except statment will run. I then start the root main and get the title of the converter by creating a tkinker window. I then need to label when asked to enter the celsius temp. I use the pack method to organize the labels and spacing correctly. Finnaly, I create the button widget that will start the conversion. I set the text to be displayed as 'Convert' and then call the convert_temperature funtion. "
   ]
  },
  {
   "cell_type": "code",
   "execution_count": 5,
   "id": "12573c8d",
   "metadata": {},
   "outputs": [],
   "source": [
    "import tkinter as tk"
   ]
  },
  {
   "cell_type": "code",
   "execution_count": null,
   "id": "e5a46f4c",
   "metadata": {},
   "outputs": [],
   "source": [
    "def convert_temperature():\n",
    "    try:\n",
    "        # calculate the conversion with a try and except statement\n",
    "        celsius_value=float(celsius_entry.get())\n",
    "        # convert to fareinheit\n",
    "        fahrenheit_value=(celsius_value*9/5)+32\n",
    "        result_label.config(text=f'Fahrenheit: {fahrenheit_value:.2f}')\n",
    "    except ValueError:\n",
    "        # tell user that the input is invalid\n",
    "        result_label.config(text='Invalid input. Please enter a number')\n",
    "        \n",
    "# get the title\n",
    "root=tk.Tk()\n",
    "root.title=('Celsius to Fahrenheit Converter')\n",
    "\n",
    "# create labels\n",
    "celsius_label=tk.Label(root,text='Enter celsius temperature')\n",
    "celsius_label.pack(pady=10)\n",
    "\n",
    "celsius_entry=tk.Entry(root)\n",
    "celsius_entry.pack(pady=10)\n",
    "\n",
    "result_label=tk.Label(root,text='')\n",
    "result_label.pack(pady=10)\n",
    "\n",
    "# create a button to show conversion\n",
    "convert_button=tk.Button(root,text='Convert',command=convert_temperature)\n",
    "convert_button.pack(pady=10)\n",
    "\n",
    "# call root main\n",
    "root.mainloop()"
   ]
  },
  {
   "cell_type": "code",
   "execution_count": null,
   "id": "90c63e01",
   "metadata": {},
   "outputs": [],
   "source": []
  }
 ],
 "metadata": {
  "kernelspec": {
   "display_name": "Python 3 (ipykernel)",
   "language": "python",
   "name": "python3"
  },
  "language_info": {
   "codemirror_mode": {
    "name": "ipython",
    "version": 3
   },
   "file_extension": ".py",
   "mimetype": "text/x-python",
   "name": "python",
   "nbconvert_exporter": "python",
   "pygments_lexer": "ipython3",
   "version": "3.11.4"
  }
 },
 "nbformat": 4,
 "nbformat_minor": 5
}
