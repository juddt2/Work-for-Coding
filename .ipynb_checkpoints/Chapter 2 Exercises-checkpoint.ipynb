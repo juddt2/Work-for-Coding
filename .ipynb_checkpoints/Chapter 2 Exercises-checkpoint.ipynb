{
 "cells": [
  {
   "cell_type": "markdown",
   "id": "b3a30172",
   "metadata": {},
   "source": [
    "# Chapter 2 Exercises"
   ]
  },
  {
   "cell_type": "markdown",
   "id": "0d0009d5",
   "metadata": {},
   "source": [
    "### Algorithm Workbench Question 6\n",
    "\n",
    "I am asked to subtract 2 variables and then assign the result to due. I chose 800 as the down payment and assigned it to the down_payment variable. I chose 10000 as the total and assign it to the total variable. I then decide to run 2 print statements to show the results.  "
   ]
  },
  {
   "cell_type": "code",
   "execution_count": 1,
   "id": "0773bb40",
   "metadata": {},
   "outputs": [],
   "source": [
    "down_payment=800"
   ]
  },
  {
   "cell_type": "code",
   "execution_count": 2,
   "id": "9c69ce58",
   "metadata": {},
   "outputs": [],
   "source": [
    "total=10000"
   ]
  },
  {
   "cell_type": "code",
   "execution_count": 3,
   "id": "6fb07b74",
   "metadata": {},
   "outputs": [],
   "source": [
    "due= total - down_payment"
   ]
  },
  {
   "cell_type": "code",
   "execution_count": 4,
   "id": "dd4a8aa5",
   "metadata": {},
   "outputs": [
    {
     "name": "stdout",
     "output_type": "stream",
     "text": [
      "My car costs 10000 I already payed 800\n"
     ]
    }
   ],
   "source": [
    "print('My car costs', total, 'I already payed', down_payment)"
   ]
  },
  {
   "cell_type": "code",
   "execution_count": 5,
   "id": "41cf7991",
   "metadata": {},
   "outputs": [
    {
     "name": "stdout",
     "output_type": "stream",
     "text": [
      "I now owe 9200\n"
     ]
    }
   ],
   "source": [
    "print('I now owe',due)"
   ]
  },
  {
   "cell_type": "markdown",
   "id": "faa841b3",
   "metadata": {},
   "source": [
    "### Programming Exercises Question 7\n",
    "\n",
    "I ran into a TypeError when trying to calculate the miles per gallon. I tried float funtion but that did not work. I then figured out that I need to convert 25 and 7 to numbers. So I used the int function. Once I ran it I no longer got a TypeError. I then printed out the final miles-per-gallon solution.   "
   ]
  },
  {
   "cell_type": "code",
   "execution_count": 6,
   "id": "ca73dddd",
   "metadata": {},
   "outputs": [],
   "source": [
    "# Get the users miles driven and gallons of gas used"
   ]
  },
  {
   "cell_type": "code",
   "execution_count": 20,
   "id": "b8574a7c",
   "metadata": {},
   "outputs": [
    {
     "name": "stdout",
     "output_type": "stream",
     "text": [
      "Miles Driven: 25\n"
     ]
    }
   ],
   "source": [
    "miles_driven=int(input('Miles Driven: '))"
   ]
  },
  {
   "cell_type": "code",
   "execution_count": 21,
   "id": "e9a78c31",
   "metadata": {},
   "outputs": [
    {
     "name": "stdout",
     "output_type": "stream",
     "text": [
      "Gallons of gas used: 7\n"
     ]
    }
   ],
   "source": [
    "gallons=int(input('Gallons of gas used: '))"
   ]
  },
  {
   "cell_type": "code",
   "execution_count": 9,
   "id": "632b87cc",
   "metadata": {},
   "outputs": [],
   "source": [
    "# Calculate Miles per Gallon"
   ]
  },
  {
   "cell_type": "code",
   "execution_count": 26,
   "id": "aad04152",
   "metadata": {},
   "outputs": [],
   "source": [
    "mpg = miles_driven / gallons"
   ]
  },
  {
   "cell_type": "code",
   "execution_count": 27,
   "id": "036d1a22",
   "metadata": {},
   "outputs": [
    {
     "name": "stdout",
     "output_type": "stream",
     "text": [
      "My miles-per-gallon is: 3.5714285714285716\n"
     ]
    }
   ],
   "source": [
    "print('My miles-per-gallon is:',mpg)"
   ]
  },
  {
   "cell_type": "code",
   "execution_count": null,
   "id": "d20bef82",
   "metadata": {},
   "outputs": [],
   "source": []
  }
 ],
 "metadata": {
  "kernelspec": {
   "display_name": "Python 3 (ipykernel)",
   "language": "python",
   "name": "python3"
  },
  "language_info": {
   "codemirror_mode": {
    "name": "ipython",
    "version": 3
   },
   "file_extension": ".py",
   "mimetype": "text/x-python",
   "name": "python",
   "nbconvert_exporter": "python",
   "pygments_lexer": "ipython3",
   "version": "3.11.4"
  }
 },
 "nbformat": 4,
 "nbformat_minor": 5
}
