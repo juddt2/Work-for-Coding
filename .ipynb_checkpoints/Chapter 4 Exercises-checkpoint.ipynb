{
 "cells": [
  {
   "cell_type": "markdown",
   "id": "4881bdfb",
   "metadata": {},
   "source": [
    "# Chapter 4 Exercises"
   ]
  },
  {
   "cell_type": "markdown",
   "id": "992114ad",
   "metadata": {},
   "source": [
    "### Algorithm Workbench Question 1\n",
    "This exercise asked me to have a user enter a number then calcualate it by 10 and assign it to the product variable. I first started to assign product to 1 so the program initializes it. I then insert the while loop and have the user enter a number. I then assign product to multiply user by 10. The program processes that and as output I made a print statement. If the number was over 100 I wrote another print statement to tell the user that the number is over the max. "
   ]
  },
  {
   "cell_type": "code",
   "execution_count": 1,
   "id": "f7e601d8",
   "metadata": {},
   "outputs": [],
   "source": [
    "# assign product variable"
   ]
  },
  {
   "cell_type": "code",
   "execution_count": 2,
   "id": "cffcca85",
   "metadata": {},
   "outputs": [],
   "source": [
    "product=1"
   ]
  },
  {
   "cell_type": "code",
   "execution_count": 3,
   "id": "02efa514",
   "metadata": {},
   "outputs": [],
   "source": [
    "# insert while loop and calculate product"
   ]
  },
  {
   "cell_type": "code",
   "execution_count": 4,
   "id": "01af4ad1",
   "metadata": {},
   "outputs": [
    {
     "name": "stdout",
     "output_type": "stream",
     "text": [
      "Enter a number: 2\n",
      "The product is: 20\n",
      "Enter a number: 3\n",
      "The product is: 30\n",
      "Enter a number: 6\n",
      "The product is: 60\n",
      "Enter a number: 11\n",
      "The product is: 110\n",
      "You have reached the max.\n"
     ]
    }
   ],
   "source": [
    "while product<100:\n",
    "    number=int(input('Enter a number: '))\n",
    "    product=number*10\n",
    "    print(f'The product is: {product}')\n",
    "print('You have reached the max.')"
   ]
  },
  {
   "cell_type": "markdown",
   "id": "6ce0cb26",
   "metadata": {},
   "source": [
    "### Algorithm Workbench Question 4\n",
    " "
   ]
  },
  {
   "cell_type": "code",
   "execution_count": null,
   "id": "6685dfe4",
   "metadata": {},
   "outputs": [],
   "source": []
  },
  {
   "cell_type": "code",
   "execution_count": 5,
   "id": "65cd5682",
   "metadata": {},
   "outputs": [],
   "source": [
    "# print headings"
   ]
  },
  {
   "cell_type": "code",
   "execution_count": 6,
   "id": "ffc2b608",
   "metadata": {},
   "outputs": [
    {
     "name": "stdout",
     "output_type": "stream",
     "text": [
      " Number: 2\n",
      " Total: 2\n",
      " --------\n",
      " Number: 5\n",
      " Total: 7\n",
      " --------\n",
      " Number: 9\n",
      " Total: 16\n",
      " --------\n",
      " Number: 17\n",
      " Total: 33\n",
      " --------\n",
      " Number: 55\n",
      " Total: 88\n",
      " --------\n",
      " Number: 26\n",
      " Total: 114\n",
      " --------\n",
      " Number: 34\n",
      " Total: 148\n",
      " --------\n",
      " Number: 89\n",
      " Total: 237\n",
      " --------\n",
      " Number: 24\n",
      " Total: 261\n",
      " --------\n",
      " Number: 33\n",
      " Total: 294\n",
      " --------\n"
     ]
    }
   ],
   "source": [
    "total=0\n",
    "week=0\n",
    "\n",
    "for num in range(1, 11, 1):\n",
    "    int(input('Week')\n",
    "    number=int(input(' Passing Yards: ')) \n",
    "    total+=number\n",
    "    print(f' Total : {total}')\n",
    "    print(' --------')\n",
    "    \n",
    "    "
   ]
  },
  {
   "cell_type": "code",
   "execution_count": null,
   "id": "5578f48f",
   "metadata": {},
   "outputs": [],
   "source": []
  }
 ],
 "metadata": {
  "kernelspec": {
   "display_name": "Python 3 (ipykernel)",
   "language": "python",
   "name": "python3"
  },
  "language_info": {
   "codemirror_mode": {
    "name": "ipython",
    "version": 3
   },
   "file_extension": ".py",
   "mimetype": "text/x-python",
   "name": "python",
   "nbconvert_exporter": "python",
   "pygments_lexer": "ipython3",
   "version": "3.11.4"
  }
 },
 "nbformat": 4,
 "nbformat_minor": 5
}
