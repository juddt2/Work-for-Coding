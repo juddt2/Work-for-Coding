{
 "cells": [
  {
   "cell_type": "markdown",
   "id": "cc244a17",
   "metadata": {},
   "source": [
    "# Chapter 8 Exercises"
   ]
  },
  {
   "cell_type": "markdown",
   "id": "e861ecca",
   "metadata": {},
   "source": [
    "### Algorithm Workbench Question 6\n",
    "In this exercise I am asked to convert all of the lowercase letters in a string into uppercase letters. First I need to get a string. I assign lions to 'go lions'. I then need to show the output so I create a print statement. I use the .upper() method to convert all of the letters to uppercase. "
   ]
  },
  {
   "cell_type": "code",
   "execution_count": 26,
   "id": "b3504a5f",
   "metadata": {},
   "outputs": [
    {
     "name": "stdout",
     "output_type": "stream",
     "text": [
      "GO LIONS\n"
     ]
    }
   ],
   "source": [
    "def main():\n",
    "    # get the string\n",
    "    lions='go lions'\n",
    "    \n",
    "    # show the uppercase letters\n",
    "    print(lions.upper())\n",
    "    \n",
    "# call main\n",
    "main()\n",
    "    "
   ]
  },
  {
   "cell_type": "markdown",
   "id": "975afac5",
   "metadata": {},
   "source": [
    "### Algorithm Workbench Question 8\n",
    "In this exercise I am asked to use a slicing expression to get the first 3 characters of a string. I first need to have 'mystring' reference a string. I get a string of words and use the slicing expression after the words to get the characters 0-3. I then need to show the output so I get a print statement to show the first 3 characters. "
   ]
  },
  {
   "cell_type": "code",
   "execution_count": 23,
   "id": "f957d270",
   "metadata": {},
   "outputs": [
    {
     "name": "stdout",
     "output_type": "stream",
     "text": [
      "The first 3 characters are I'm\n"
     ]
    }
   ],
   "source": [
    "def main():\n",
    "    # get a string and get the first 3 characters\n",
    "    mystring=\"I'm hoping this works\"[0:3]\n",
    "    \n",
    "    # show the first 3 characters\n",
    "    print(f'The first 3 characters are {mystring}')\n",
    "    \n",
    "main()"
   ]
  },
  {
   "cell_type": "markdown",
   "id": "baee50a6",
   "metadata": {},
   "source": [
    "### Programming Exercise Question 1\n",
    "In this exercise I am asked to write a string that gets the users name then show their initials. First I got 3 names from the user and assigned them to 3 strings. I then need to show the initials so I create a print statement. I use an f-string to get periods between the strings. I use string indexes to get the copy of the character at index 0 which would be the first character of the names. "
   ]
  },
  {
   "cell_type": "code",
   "execution_count": 10,
   "id": "7f1c3d11",
   "metadata": {},
   "outputs": [
    {
     "name": "stdout",
     "output_type": "stream",
     "text": [
      "Enter your first name: Travis\n",
      "Enter your middle name: Michael\n",
      "Enter your last name: Judd\n",
      "T.M.J\n"
     ]
    }
   ],
   "source": [
    "def main():\n",
    "    # get names\n",
    "    first_name=input('Enter your first name: ')\n",
    "    middle_name=input('Enter your middle name: ')\n",
    "    last_name=input('Enter your last name: ')\n",
    "    \n",
    "    # print initials\n",
    "    print(f'{first_name[0]}.{middle_name[0]}.{last_name[0]}')\n",
    "    \n",
    "# call main\n",
    "main()"
   ]
  },
  {
   "cell_type": "markdown",
   "id": "503cb0ee",
   "metadata": {},
   "source": [
    "### Programming Exercise Question 3\n",
    "In this exercise I am asked to get a date from the user and then display it as March 12,2018. First I need to get a date from the user. I use a input statement and assign it to date_string. I then need to split the string into a list so I use the split method. I assign the split method to date_list. I then need to display the date so I use a print statement with a f-string to get the date_list string with the correct character placement. "
   ]
  },
  {
   "cell_type": "code",
   "execution_count": 4,
   "id": "61d7b1db",
   "metadata": {},
   "outputs": [
    {
     "name": "stdout",
     "output_type": "stream",
     "text": [
      "Enter a date: 03/12/2018\n",
      "March 12,2018\n"
     ]
    }
   ],
   "source": [
    "def main():\n",
    "    # get date from user\n",
    "    date_string=input('Enter a date: ')\n",
    "    \n",
    "    # split the string\n",
    "    date_list=date_string.split('/')\n",
    "    \n",
    "    # display the date\n",
    "    print(f'March {date_list[1]},{date_list[2]}')\n",
    "# call main\n",
    "main()\n",
    "    "
   ]
  },
  {
   "cell_type": "markdown",
   "id": "fa123286",
   "metadata": {},
   "source": [
    "### Programming Exercise Question 5"
   ]
  },
  {
   "cell_type": "code",
   "execution_count": 21,
   "id": "268847d1",
   "metadata": {},
   "outputs": [
    {
     "name": "stdout",
     "output_type": "stream",
     "text": [
      "Enter a phone number: 456-456-4566\n"
     ]
    },
    {
     "ename": "NameError",
     "evalue": "name 'translate_to_numeric' is not defined",
     "output_type": "error",
     "traceback": [
      "\u001b[1;31m---------------------------------------------------------------------------\u001b[0m",
      "\u001b[1;31mNameError\u001b[0m                                 Traceback (most recent call last)",
      "Cell \u001b[1;32mIn[21], line 33\u001b[0m\n\u001b[0;32m     30\u001b[0m     new_number\u001b[38;5;241m=\u001b[39mtranslate_to_numeric(number)\n\u001b[0;32m     31\u001b[0m     \u001b[38;5;28mprint\u001b[39m(new_number)\n\u001b[1;32m---> 33\u001b[0m main()\n",
      "Cell \u001b[1;32mIn[21], line 30\u001b[0m, in \u001b[0;36mmain\u001b[1;34m()\u001b[0m\n\u001b[0;32m     27\u001b[0m         new_number\u001b[38;5;241m+\u001b[39m\u001b[38;5;241m=\u001b[39mchar\n\u001b[0;32m     29\u001b[0m \u001b[38;5;66;03m# translate the alphabetic characters to numerical\u001b[39;00m\n\u001b[1;32m---> 30\u001b[0m new_number\u001b[38;5;241m=\u001b[39mtranslate_to_numeric(number)\n\u001b[0;32m     31\u001b[0m \u001b[38;5;28mprint\u001b[39m(new_number)\n",
      "\u001b[1;31mNameError\u001b[0m: name 'translate_to_numeric' is not defined"
     ]
    }
   ],
   "source": [
    "def main():\n",
    "    # get a phone number from the user \n",
    "    number=input('Enter a phone number: ')\n",
    "    \n",
    "    # get the character match\n",
    "    characters={\n",
    "        'A':'2','B':'2','C':'2',\n",
    "        'D':'3','E':'3','F':'3',\n",
    "        'G':'4','H':'4','I':'4',\n",
    "        'J':'5','K':'5','L':'5',\n",
    "        'M':'6','N':'6','O':'6',\n",
    "        'P':'7','Q':'7','R':'7',\n",
    "        'S':'8','T':'8','U':'8',\n",
    "        'V':'9','W':'9','Y':'9','Z':'9'\n",
    "    }\n",
    "    \n",
    "    # create a space for the placeholder\n",
    "    new_number=''\n",
    "    \n",
    "    # start to translate every character\n",
    "    for char in characters:\n",
    "        # make sure it is only letters\n",
    "        if char.isalpha():\n",
    "            # translate to numeric equivilent\n",
    "            new_number+=characters[char.upper()]\n",
    "        else:\n",
    "            new_number+=char\n",
    "    \n",
    "    # translate the alphabetic characters to numerical\n",
    "    new_number=translate_to_numeric(number)\n",
    "    print(new_number)\n",
    "            \n",
    "main()"
   ]
  },
  {
   "cell_type": "markdown",
   "id": "4ce56181",
   "metadata": {},
   "source": [
    "### Programming Exercise Question 11\n",
    "In this exercise I am asked to get a input statement and assign it to a string and sperate the words. First I need to get a sentence from the user so I use a input statement. I then need to make sure the seperation starts with the first letter so I use an assignment statement to get result assigned to the first character of the sentence string. I then need to seperate the words. I create a for loop to loop through all of the characters. I start at 1 so it skips the first character because it is aready capitalized. I then create an if loop to when the program reads every uppercase it will put a space between it. I then use else to have all of the lowercase letters to remain the same. "
   ]
  },
  {
   "cell_type": "code",
   "execution_count": 15,
   "id": "51ea6e8d",
   "metadata": {},
   "outputs": [
    {
     "name": "stdout",
     "output_type": "stream",
     "text": [
      "Enter a sentence with the first letter of each word capitalized: LetsGoLions\n",
      "Lets Go Lions\n"
     ]
    }
   ],
   "source": [
    "def main():\n",
    "    # get a sentence\n",
    "    sentence=input('Enter a sentence with the first letter of each word capitalized: ')\n",
    "    # start with the first character\n",
    "    result=sentence[0]\n",
    "    # seperate the words using for loop\n",
    "    for char in sentence[1:]:\n",
    "        # check to see if character is uppercase\n",
    "        if char.isupper():\n",
    "            # add a space \n",
    "            result+=' '+char\n",
    "        else: \n",
    "            # keep lowercase together\n",
    "            result+=char\n",
    "    # print result\n",
    "    print(result)\n",
    "main()"
   ]
  },
  {
   "cell_type": "code",
   "execution_count": null,
   "id": "02ab5392",
   "metadata": {},
   "outputs": [],
   "source": []
  }
 ],
 "metadata": {
  "kernelspec": {
   "display_name": "Python 3 (ipykernel)",
   "language": "python",
   "name": "python3"
  },
  "language_info": {
   "codemirror_mode": {
    "name": "ipython",
    "version": 3
   },
   "file_extension": ".py",
   "mimetype": "text/x-python",
   "name": "python",
   "nbconvert_exporter": "python",
   "pygments_lexer": "ipython3",
   "version": "3.11.4"
  }
 },
 "nbformat": 4,
 "nbformat_minor": 5
}
