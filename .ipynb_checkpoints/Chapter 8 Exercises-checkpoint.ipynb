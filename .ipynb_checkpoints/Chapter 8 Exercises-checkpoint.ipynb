{
 "cells": [
  {
   "cell_type": "markdown",
   "id": "ecb82c0e",
   "metadata": {},
   "source": [
    "# Chapter 8 Exercises"
   ]
  },
  {
   "cell_type": "markdown",
   "id": "49dcc75d",
   "metadata": {},
   "source": [
    "### Algorithm Workbench Question 6\n",
    "In this exercise I am asked to convert all of the lowercase letters in a string into uppercase letters. First I need to get a string. I assign lions to 'go lions'. I then need to show the output so I create a print statement. I use the .upper() method to convert all of the letters to uppercase. "
   ]
  },
  {
   "cell_type": "code",
   "execution_count": 26,
   "id": "cdf54969",
   "metadata": {},
   "outputs": [
    {
     "name": "stdout",
     "output_type": "stream",
     "text": [
      "GO LIONS\n"
     ]
    }
   ],
   "source": [
    "def main():\n",
    "    # get the string\n",
    "    lions='go lions'\n",
    "    \n",
    "    # show the uppercase letters\n",
    "    print(lions.upper())\n",
    "    \n",
    "# call main\n",
    "main()\n",
    "    "
   ]
  },
  {
   "cell_type": "markdown",
   "id": "0d17230f",
   "metadata": {},
   "source": [
    "### Algorithm Workbench Question 8\n",
    "In this exercise I am asked to use a slicing expression to get the first 3 characters of a string. I first need to have 'mystring' reference a string. I get a string of words and use the slicing expression after the words to get the characters 0-3. I then need to show the output so I get a print statement to show the first 3 characters. "
   ]
  },
  {
   "cell_type": "code",
   "execution_count": 23,
   "id": "bf584164",
   "metadata": {},
   "outputs": [
    {
     "name": "stdout",
     "output_type": "stream",
     "text": [
      "The first 3 characters are I'm\n"
     ]
    }
   ],
   "source": [
    "def main():\n",
    "    # get a string and get the first 3 characters\n",
    "    mystring=\"I'm hoping this works\"[0:3]\n",
    "    \n",
    "    # show the first 3 characters\n",
    "    print(f'The first 3 characters are {mystring}')\n",
    "    \n",
    "main()"
   ]
  },
  {
   "cell_type": "markdown",
   "id": "2bd79b97",
   "metadata": {},
   "source": [
    "### Programming Exercise Question 1\n",
    "In this exercise I am asked to write a string that gets the users name then show their initials. First I got 3 names from the user and assigned them to 3 strings. I then need to show the initials so I create a print statement. I use an f-string to get periods between the strings. I use string indexes to get the copy of the character at index 0 which would be the first character of the names. "
   ]
  },
  {
   "cell_type": "code",
   "execution_count": 10,
   "id": "0964d289",
   "metadata": {},
   "outputs": [
    {
     "name": "stdout",
     "output_type": "stream",
     "text": [
      "Enter your first name: Travis\n",
      "Enter your middle name: Michael\n",
      "Enter your last name: Judd\n",
      "T.M.J\n"
     ]
    }
   ],
   "source": [
    "def main():\n",
    "    # get names\n",
    "    first_name=input('Enter your first name: ')\n",
    "    middle_name=input('Enter your middle name: ')\n",
    "    last_name=input('Enter your last name: ')\n",
    "    \n",
    "    # print initials\n",
    "    print(f'{first_name[0]}.{middle_name[0]}.{last_name[0]}')\n",
    "    \n",
    "# call main\n",
    "main()"
   ]
  },
  {
   "cell_type": "markdown",
   "id": "a1001980",
   "metadata": {},
   "source": [
    "### Programming Exercise Question 3\n",
    "In this exercise I am asked to get a date from the user and then display it as March 12,2018. First I need to get a date from the user. I use a input statement and assign it to date_string. I then need to split the string into a list so I use the split method. I assign the split method to date_list. I then need to display the date so I use a print statement with a f-string to get the date_list string with the correct character placement. "
   ]
  },
  {
   "cell_type": "code",
   "execution_count": 4,
   "id": "7e243920",
   "metadata": {},
   "outputs": [
    {
     "name": "stdout",
     "output_type": "stream",
     "text": [
      "Enter a date: 03/12/2018\n",
      "March 12,2018\n"
     ]
    }
   ],
   "source": [
    "def main():\n",
    "    # get date from user\n",
    "    date_string=input('Enter a date: ')\n",
    "    \n",
    "    # split the string\n",
    "    date_list=date_string.split('/')\n",
    "    \n",
    "    # display the date\n",
    "    print(f'March {date_list[1]},{date_list[2]}')\n",
    "# call main\n",
    "main()\n",
    "    "
   ]
  },
  {
   "cell_type": "markdown",
   "id": "7a12251c",
   "metadata": {},
   "source": [
    "### Programming Exercise Question 11"
   ]
  },
  {
   "cell_type": "code",
   "execution_count": 5,
   "id": "cbe65458",
   "metadata": {},
   "outputs": [
    {
     "name": "stdout",
     "output_type": "stream",
     "text": [
      "Enter a sentence with the first letter of each word capitalized: LetsGoLions\n",
      "LetsGoLions\n"
     ]
    }
   ],
   "source": [
    "def main():\n",
    "    # get a sentence\n",
    "    sentence=input('Enter a sentence with the first letter of each word capitalized: ')\n",
    "    \n",
    "    # seperate the words\n",
    "    for char in sentence:\n",
    "        if sentence.isupper():\n",
    "            sentence+=' '+char\n",
    "    else: \n",
    "        sentence.islower()\n",
    "    print(sentence)\n",
    "        \n",
    "            \n",
    "            \n",
    "main()"
   ]
  },
  {
   "cell_type": "code",
   "execution_count": null,
   "id": "74eb5ae0",
   "metadata": {},
   "outputs": [],
   "source": []
  }
 ],
 "metadata": {
  "kernelspec": {
   "display_name": "Python 3 (ipykernel)",
   "language": "python",
   "name": "python3"
  },
  "language_info": {
   "codemirror_mode": {
    "name": "ipython",
    "version": 3
   },
   "file_extension": ".py",
   "mimetype": "text/x-python",
   "name": "python",
   "nbconvert_exporter": "python",
   "pygments_lexer": "ipython3",
   "version": "3.11.4"
  }
 },
 "nbformat": 4,
 "nbformat_minor": 5
}
