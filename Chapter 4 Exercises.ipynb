{
 "cells": [
  {
   "cell_type": "markdown",
   "id": "4881bdfb",
   "metadata": {},
   "source": [
    "# Chapter 4 Exercises"
   ]
  },
  {
   "cell_type": "markdown",
   "id": "992114ad",
   "metadata": {},
   "source": [
    "### Algorithm Workbench Question 1"
   ]
  },
  {
   "cell_type": "code",
   "execution_count": 1,
   "id": "f7e601d8",
   "metadata": {},
   "outputs": [],
   "source": [
    "# assign product variable"
   ]
  },
  {
   "cell_type": "code",
   "execution_count": 3,
   "id": "cffcca85",
   "metadata": {},
   "outputs": [],
   "source": [
    "product=0"
   ]
  },
  {
   "cell_type": "code",
   "execution_count": 5,
   "id": "02efa514",
   "metadata": {},
   "outputs": [],
   "source": [
    "# insert while loop and calculate product"
   ]
  },
  {
   "cell_type": "code",
   "execution_count": 4,
   "id": "01af4ad1",
   "metadata": {},
   "outputs": [
    {
     "name": "stdout",
     "output_type": "stream",
     "text": [
      "Enter a number: 2\n",
      "The product is: 20\n",
      "Enter a number: 5\n",
      "The product is: 50\n",
      "Enter a number: 11\n",
      "The product is: 110\n",
      "You have reached the max.\n"
     ]
    }
   ],
   "source": [
    "while product<100:\n",
    "    number=int(input('Enter a number: '))\n",
    "    product=number*10\n",
    "    print(f'The product is: {product}')\n",
    "print('You have reached the max.')"
   ]
  }
 ],
 "metadata": {
  "kernelspec": {
   "display_name": "Python 3 (ipykernel)",
   "language": "python",
   "name": "python3"
  },
  "language_info": {
   "codemirror_mode": {
    "name": "ipython",
    "version": 3
   },
   "file_extension": ".py",
   "mimetype": "text/x-python",
   "name": "python",
   "nbconvert_exporter": "python",
   "pygments_lexer": "ipython3",
   "version": "3.11.4"
  }
 },
 "nbformat": 4,
 "nbformat_minor": 5
}
