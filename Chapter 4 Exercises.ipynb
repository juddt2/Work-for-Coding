{
 "cells": [
  {
   "cell_type": "markdown",
   "id": "4881bdfb",
   "metadata": {},
   "source": [
    "# Chapter 4 Exercises"
   ]
  },
  {
   "cell_type": "markdown",
   "id": "992114ad",
   "metadata": {},
   "source": [
    "### Algorithm Workbench Question 1\n",
    "This exercise asked me to have a user enter a number then calcualate it by 10 and assign it to the product variable. I first started to assign product to 1 so the program initializes it. I then insert the while loop and have the user enter a number. I then assign product to multiply user by 10. The program processes that and as output I made a print statement. If the number was over 100 I wrote another print statement to tell the user that the number is over the max. "
   ]
  },
  {
   "cell_type": "code",
   "execution_count": 1,
   "id": "f7e601d8",
   "metadata": {},
   "outputs": [],
   "source": [
    "# assign product variable"
   ]
  },
  {
   "cell_type": "code",
   "execution_count": 6,
   "id": "cffcca85",
   "metadata": {},
   "outputs": [],
   "source": [
    "product=1"
   ]
  },
  {
   "cell_type": "code",
   "execution_count": 7,
   "id": "02efa514",
   "metadata": {},
   "outputs": [],
   "source": [
    "# insert while loop and calculate product"
   ]
  },
  {
   "cell_type": "code",
   "execution_count": 8,
   "id": "01af4ad1",
   "metadata": {},
   "outputs": [
    {
     "name": "stdout",
     "output_type": "stream",
     "text": [
      "Enter a number: 2\n",
      "The product is: 20\n",
      "Enter a number: 4\n",
      "The product is: 40\n",
      "Enter a number: 5\n",
      "The product is: 50\n",
      "Enter a number: 11\n",
      "The product is: 110\n",
      "You have reached the max.\n"
     ]
    }
   ],
   "source": [
    "while product<100:\n",
    "    number=int(input('Enter a number: '))\n",
    "    product=number*10\n",
    "    print(f'The product is: {product}')\n",
    "print('You have reached the max.')"
   ]
  },
  {
   "cell_type": "markdown",
   "id": "fccb0f0a",
   "metadata": {},
   "source": [
    "### Algorithm Workbench Question 7\n",
    "This exercise asked me to create a set of nested loops. I first assign size to 10. I then create the for nested loop. I start with size so that everytime the outer loop runs the inner loop will add 1 to every row. (0+1,1+1,2+1,3+1...etc.) I then need to assign something to output the nested loop. I create a print statement to show the loop. I then add end='' so that there wont be any spaces on each line so the # wont be spaces between each row. "
   ]
  },
  {
   "cell_type": "code",
   "execution_count": 9,
   "id": "20ece8a8",
   "metadata": {},
   "outputs": [],
   "source": [
    "# Get expression range"
   ]
  },
  {
   "cell_type": "code",
   "execution_count": 12,
   "id": "96ab403f",
   "metadata": {},
   "outputs": [],
   "source": [
    "size=10"
   ]
  },
  {
   "cell_type": "code",
   "execution_count": 34,
   "id": "8777554c",
   "metadata": {},
   "outputs": [
    {
     "name": "stdout",
     "output_type": "stream",
     "text": [
      "#\n",
      "##\n",
      "###\n",
      "####\n",
      "#####\n",
      "######\n",
      "#######\n",
      "########\n",
      "#########\n",
      "##########\n"
     ]
    }
   ],
   "source": [
    "for r in range(size):\n",
    "    for c in range(r+1):\n",
    "        print('#', end=\"\")\n",
    "    print() "
   ]
  },
  {
   "cell_type": "code",
   "execution_count": null,
   "id": "d3bea03f",
   "metadata": {},
   "outputs": [],
   "source": []
  }
 ],
 "metadata": {
  "kernelspec": {
   "display_name": "Python 3 (ipykernel)",
   "language": "python",
   "name": "python3"
  },
  "language_info": {
   "codemirror_mode": {
    "name": "ipython",
    "version": 3
   },
   "file_extension": ".py",
   "mimetype": "text/x-python",
   "name": "python",
   "nbconvert_exporter": "python",
   "pygments_lexer": "ipython3",
   "version": "3.11.4"
  }
 },
 "nbformat": 4,
 "nbformat_minor": 5
}
