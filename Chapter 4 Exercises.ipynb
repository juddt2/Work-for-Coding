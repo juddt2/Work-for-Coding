{
 "cells": [
  {
   "cell_type": "markdown",
   "id": "4881bdfb",
   "metadata": {},
   "source": [
    "# Chapter 4 Exercises"
   ]
  },
  {
   "cell_type": "markdown",
   "id": "992114ad",
   "metadata": {},
   "source": [
    "### Algorithm Workbench Question 1"
   ]
  },
  {
   "cell_type": "code",
   "execution_count": 1,
   "id": "d352906c",
   "metadata": {},
   "outputs": [
    {
     "name": "stdout",
     "output_type": "stream",
     "text": [
      "Enter a number: 4\n"
     ]
    }
   ],
   "source": [
    "user=int(input('Enter a number: '))"
   ]
  },
  {
   "cell_type": "code",
   "execution_count": 2,
   "id": "f7e601d8",
   "metadata": {},
   "outputs": [],
   "source": [
    "# assign product variable"
   ]
  },
  {
   "cell_type": "code",
   "execution_count": 3,
   "id": "cffcca85",
   "metadata": {},
   "outputs": [],
   "source": [
    "product=user*10\n",
    "max=100"
   ]
  },
  {
   "cell_type": "code",
   "execution_count": null,
   "id": "01af4ad1",
   "metadata": {},
   "outputs": [
    {
     "name": "stdout",
     "output_type": "stream",
     "text": [
      "The product is: 40\n",
      "Enter another number: 2\n",
      "The product is: 40\n"
     ]
    }
   ],
   "source": [
    "while product<max:\n",
    "    print(f'The product is: {product}')\n",
    "    user=int(input('Enter another number: '))\n",
    "print('You have reached the max.')"
   ]
  },
  {
   "cell_type": "code",
   "execution_count": null,
   "id": "02efa514",
   "metadata": {},
   "outputs": [],
   "source": [
    "# calculate product"
   ]
  }
 ],
 "metadata": {
  "kernelspec": {
   "display_name": "Python 3 (ipykernel)",
   "language": "python",
   "name": "python3"
  },
  "language_info": {
   "codemirror_mode": {
    "name": "ipython",
    "version": 3
   },
   "file_extension": ".py",
   "mimetype": "text/x-python",
   "name": "python",
   "nbconvert_exporter": "python",
   "pygments_lexer": "ipython3",
   "version": "3.11.4"
  }
 },
 "nbformat": 4,
 "nbformat_minor": 5
}
