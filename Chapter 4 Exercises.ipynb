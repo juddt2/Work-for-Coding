{
 "cells": [
  {
   "cell_type": "markdown",
   "id": "4881bdfb",
   "metadata": {},
   "source": [
    "# Chapter 4 Exercises"
   ]
  },
  {
   "cell_type": "markdown",
   "id": "992114ad",
   "metadata": {},
   "source": [
    "### Algorithm Workbench Question 1\n",
    "This exercise asked me to have a user enter a number then calcualate it by 10 and assign it to the product variable. I first started to assign product to 1 so the program initializes it. I then insert the while loop and have the user enter a number. I then assign product to multiply user by 10. The program processes that and as output I made a print statement. If the number was over 100 I wrote another print statement to tell the user that the number is over the max. "
   ]
  },
  {
   "cell_type": "code",
   "execution_count": 1,
   "id": "f7e601d8",
   "metadata": {},
   "outputs": [],
   "source": [
    "# assign product variable"
   ]
  },
  {
   "cell_type": "code",
   "execution_count": 2,
   "id": "cffcca85",
   "metadata": {},
   "outputs": [],
   "source": [
    "product=1"
   ]
  },
  {
   "cell_type": "code",
   "execution_count": 3,
   "id": "02efa514",
   "metadata": {},
   "outputs": [],
   "source": [
    "# insert while loop and calculate product"
   ]
  },
  {
   "cell_type": "code",
   "execution_count": 4,
   "id": "01af4ad1",
   "metadata": {},
   "outputs": [
    {
     "name": "stdout",
     "output_type": "stream",
     "text": [
      "Enter a number: 2\n",
      "The product is: 20\n",
      "Enter a number: 3\n",
      "The product is: 30\n",
      "Enter a number: 6\n",
      "The product is: 60\n",
      "Enter a number: 11\n",
      "The product is: 110\n",
      "You have reached the max.\n"
     ]
    }
   ],
   "source": [
    "while product<100:\n",
    "    number=int(input('Enter a number: '))\n",
    "    product=number*10\n",
    "    print(f'The product is: {product}')\n",
    "print('You have reached the max.')"
   ]
  },
  {
   "cell_type": "markdown",
   "id": "26bae362",
   "metadata": {},
   "source": [
    "### Algorithm Workbench Question 4\n",
    " This exercise asks to write a loop that asks for a number and keeps track of the running total. I first started with assigning 2 variables. I then added the for loop to run 10 times to track passing yards for 10 games. I first labled every game so I added the game variable to 1. I then made a print statement to output each game. I then had the user enter the passing yards for every game. I then added the total variable to the number variable entered by the user. I then had to output what the user entered. I made a print statement to keep track of the running total. "
   ]
  },
  {
   "cell_type": "code",
   "execution_count": 5,
   "id": "99e26cee",
   "metadata": {},
   "outputs": [
    {
     "name": "stdout",
     "output_type": "stream",
     "text": [
      "Game: 1\n",
      " Passing Yards: 250\n",
      " Total : 250\n",
      " --------\n",
      "Game: 2\n",
      " Passing Yards: 360\n",
      " Total : 610\n",
      " --------\n",
      "Game: 3\n",
      " Passing Yards: 241\n",
      " Total : 851\n",
      " --------\n",
      "Game: 4\n",
      " Passing Yards: 123\n",
      " Total : 974\n",
      " --------\n",
      "Game: 5\n",
      " Passing Yards: 321\n",
      " Total : 1295\n",
      " --------\n",
      "Game: 6\n",
      " Passing Yards: 356\n",
      " Total : 1651\n",
      " --------\n",
      "Game: 7\n",
      " Passing Yards: 145\n",
      " Total : 1796\n",
      " --------\n",
      "Game: 8\n",
      " Passing Yards: 258\n",
      " Total : 2054\n",
      " --------\n",
      "Game: 9\n",
      " Passing Yards: 196\n",
      " Total : 2250\n",
      " --------\n",
      "Game: 10\n",
      " Passing Yards: 254\n",
      " Total : 2504\n",
      " --------\n"
     ]
    }
   ],
   "source": [
    "# get total game variable\n",
    "total=0\n",
    "game=0\n",
    "# calulate \n",
    "for num in range(1, 11, 1):\n",
    "    game+=1\n",
    "    print(f'Game: {game}')\n",
    "    number=int(input(' Passing Yards: ')) \n",
    "    total+=number\n",
    "    print(f' Total : {total}')\n",
    "    print(' --------')\n",
    "    \n",
    "    "
   ]
  },
  {
   "cell_type": "markdown",
   "id": "dc626630",
   "metadata": {},
   "source": [
    "### Programming Exercise Question 1\n",
    "This exercise asks me to keep track of bugs collected and display the total. I first assign the day and total variables. I then create the for loop to track the bugs collected. I first want to display each day. I add day to 1. I then output the day to a print statement to show the day. I then ask the user for the amount of bugs collected for each day. I assign a input function to get the number of bugs. I also need to keep track of bugs collected each day to display at the end. I add the total variable to the bug variable. I then need a way to output the total bugs. So I create a print statement to show the amount of bugs collected. "
   ]
  },
  {
   "cell_type": "code",
   "execution_count": 6,
   "id": "5614faba",
   "metadata": {},
   "outputs": [
    {
     "name": "stdout",
     "output_type": "stream",
     "text": [
      "Day: 1\n",
      "Bugs Collected: 23\n",
      "Day: 2\n",
      "Bugs Collected: 26\n",
      "Day: 3\n",
      "Bugs Collected: 14\n",
      "Day: 4\n",
      "Bugs Collected: 25\n",
      "Day: 5\n",
      "Bugs Collected: 4\n",
      "Total bugs collected: 92\n"
     ]
    }
   ],
   "source": [
    "# get bug and day variable\n",
    "day=0\n",
    "total=0\n",
    "# create loop\n",
    "for bug in range(1, 6, 1):\n",
    "    day+=1\n",
    "    print(f'Day: {day}')\n",
    "    bug=int(input('Bugs Collected: '))\n",
    "    total+=bug\n",
    "# display total\n",
    "print(f'Total bugs collected: {total}')\n",
    "    "
   ]
  },
  {
   "cell_type": "markdown",
   "id": "9e04c2a0",
   "metadata": {},
   "source": [
    "### Programming Exercise Question 4"
   ]
  },
  {
   "cell_type": "code",
   "execution_count": 18,
   "id": "a0f34ae1",
   "metadata": {},
   "outputs": [
    {
     "name": "stdout",
     "output_type": "stream",
     "text": [
      "What is the speed of the vehicle in MPH? 65\n",
      "How many hours has it travled? 4\n"
     ]
    }
   ],
   "source": [
    "# get speed and time\n",
    "speed=int(input('What is the speed of the vehicle in MPH? '))\n",
    "time=int(input('How many hours has it travled? '))\n",
    "start=0"
   ]
  },
  {
   "cell_type": "code",
   "execution_count": 19,
   "id": "a17019f1",
   "metadata": {},
   "outputs": [
    {
     "name": "stdout",
     "output_type": "stream",
     "text": [
      "\n",
      "Hour\t\tDistance Traveled\n",
      "---------------------------------\n",
      "5\t325\n",
      "6\t390\n",
      "7\t455\n",
      "8\t520\n"
     ]
    }
   ],
   "source": [
    "print()\n",
    "print('Hour\\t\\tDistance Traveled')\n",
    "print('---------------------------------')\n",
    "# table headings\n",
    "for dis in range(1, time + 1):\n",
    "    time+=1\n",
    "    distance=speed*time\n",
    "    print(f'{time}\\t{distance}')"
   ]
  },
  {
   "cell_type": "code",
   "execution_count": null,
   "id": "59f7fb58",
   "metadata": {},
   "outputs": [],
   "source": []
  }
 ],
 "metadata": {
  "kernelspec": {
   "display_name": "Python 3 (ipykernel)",
   "language": "python",
   "name": "python3"
  },
  "language_info": {
   "codemirror_mode": {
    "name": "ipython",
    "version": 3
   },
   "file_extension": ".py",
   "mimetype": "text/x-python",
   "name": "python",
   "nbconvert_exporter": "python",
   "pygments_lexer": "ipython3",
   "version": "3.11.4"
  }
 },
 "nbformat": 4,
 "nbformat_minor": 5
}
