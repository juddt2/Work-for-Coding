{
 "cells": [
  {
   "cell_type": "markdown",
   "id": "4881bdfb",
   "metadata": {},
   "source": [
    "# Chapter 4 Exercises"
   ]
  },
  {
   "cell_type": "markdown",
   "id": "992114ad",
   "metadata": {},
   "source": [
    "### Algorithm Workbench Question 1\n",
    "This exercise asked me to have a user enter a number then calcualate it by 10 and assign it to the product variable. I first started to assign product to 1 so the program initializes it. I then insert the while loop and have the user enter a number. I then assign product to multiply user by 10. The program processes that and as output I made a print statement. If the number was over 100 I wrote another print statement to tell the user that the number is over the max. "
   ]
  },
  {
   "cell_type": "code",
   "execution_count": 1,
   "id": "f7e601d8",
   "metadata": {},
   "outputs": [],
   "source": [
    "# assign product variable"
   ]
  },
  {
   "cell_type": "code",
   "execution_count": 2,
   "id": "cffcca85",
   "metadata": {},
   "outputs": [],
   "source": [
    "product=1"
   ]
  },
  {
   "cell_type": "code",
   "execution_count": 3,
   "id": "02efa514",
   "metadata": {},
   "outputs": [],
   "source": [
    "# insert while loop and calculate product"
   ]
  },
  {
   "cell_type": "code",
   "execution_count": 4,
   "id": "01af4ad1",
   "metadata": {},
   "outputs": [
    {
     "name": "stdout",
     "output_type": "stream",
     "text": [
      "Enter a number: 2\n",
      "The product is: 20\n",
      "Enter a number: 3\n",
      "The product is: 30\n",
      "Enter a number: 6\n",
      "The product is: 60\n",
      "Enter a number: 11\n",
      "The product is: 110\n",
      "You have reached the max.\n"
     ]
    }
   ],
   "source": [
    "while product<100:\n",
    "    number=int(input('Enter a number: '))\n",
    "    product=number*10\n",
    "    print(f'The product is: {product}')\n",
    "print('You have reached the max.')"
   ]
  },
  {
   "cell_type": "markdown",
   "id": "2d5be223",
   "metadata": {},
   "source": [
    "### Algorithm Workbench Question 4\n",
    " This exercise asks to write a loop that asks for a number and keeps track of the running total. I first started with assigning 2 variables. I then added the for loop to run 10 times to track passing yards for 10 games. I first labled every game so I added the game variable to 1. I then mad"
   ]
  },
  {
   "cell_type": "code",
   "execution_count": 6,
   "id": "64a604c0",
   "metadata": {},
   "outputs": [
    {
     "name": "stdout",
     "output_type": "stream",
     "text": [
      "Game: 1\n",
      " Passing Yards: 150\n",
      " Total : 150\n",
      " --------\n",
      "Game: 2\n",
      " Passing Yards: 300\n",
      " Total : 450\n",
      " --------\n",
      "Game: 3\n",
      " Passing Yards: 256\n",
      " Total : 706\n",
      " --------\n",
      "Game: 4\n",
      " Passing Yards: 233\n",
      " Total : 939\n",
      " --------\n",
      "Game: 5\n",
      " Passing Yards: 288\n",
      " Total : 1227\n",
      " --------\n",
      "Game: 6\n",
      " Passing Yards: 290\n",
      " Total : 1517\n",
      " --------\n",
      "Game: 7\n",
      " Passing Yards: 256\n",
      " Total : 1773\n",
      " --------\n",
      "Game: 8\n",
      " Passing Yards: 190\n",
      " Total : 1963\n",
      " --------\n",
      "Game: 9\n",
      " Passing Yards: 274\n",
      " Total : 2237\n",
      " --------\n",
      "Game: 10\n",
      " Passing Yards: 302\n",
      " Total : 2539\n",
      " --------\n"
     ]
    }
   ],
   "source": [
    "# get total game variable\n",
    "total=0\n",
    "game=0\n",
    "# calulate \n",
    "for num in range(1, 11, 1):\n",
    "    game+=1\n",
    "    print(f'Game: {game}')\n",
    "    number=int(input(' Passing Yards: ')) \n",
    "    total+=number\n",
    "    print(f' Total : {total}')\n",
    "    print(' --------')\n",
    "    \n",
    "    "
   ]
  },
  {
   "cell_type": "code",
   "execution_count": null,
   "id": "55462f3b",
   "metadata": {},
   "outputs": [],
   "source": []
  }
 ],
 "metadata": {
  "kernelspec": {
   "display_name": "Python 3 (ipykernel)",
   "language": "python",
   "name": "python3"
  },
  "language_info": {
   "codemirror_mode": {
    "name": "ipython",
    "version": 3
   },
   "file_extension": ".py",
   "mimetype": "text/x-python",
   "name": "python",
   "nbconvert_exporter": "python",
   "pygments_lexer": "ipython3",
   "version": "3.11.4"
  }
 },
 "nbformat": 4,
 "nbformat_minor": 5
}
