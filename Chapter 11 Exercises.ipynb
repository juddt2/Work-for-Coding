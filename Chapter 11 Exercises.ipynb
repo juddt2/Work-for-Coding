{
 "cells": [
  {
   "cell_type": "markdown",
   "id": "da0f8cb5",
   "metadata": {},
   "source": [
    "# Chapter 11 Exercises"
   ]
  },
  {
   "cell_type": "markdown",
   "id": "7e270bb2",
   "metadata": {},
   "source": [
    "### Programming Exercise Question 1\n",
    "In this exercise I am asked to create an Employee class and a Production Worker class. I first class by creating the Employee class and use the init funtion. I then need to get acessors and mutator methods to be able to acess the data. I use get and set methods for employee_name and employee_number. I then create the ProductionWorker subclass. I then get the init funtion. I use 'super()' to refernce the parent class and will call the constructor of the superclass ad initialize the attributes. I then get the accesors and mutator methods for shift_number and hourly_pay_rate. I then create the main funtion that will ask the user for info and will diaplay the data using accesor and mutator methods. I ask user for name,employee number,shift number and pay rate. I then create a ProductionWorker object to assign all of the data. I then use the get method to display the data. "
   ]
  },
  {
   "cell_type": "code",
   "execution_count": 1,
   "id": "a96f22b8",
   "metadata": {},
   "outputs": [
    {
     "name": "stdout",
     "output_type": "stream",
     "text": [
      "Enter employee name: Travis Judd\n",
      "Enter employee number: 1245\n",
      "Enter shift number (1 for day,2 for night): 1\n",
      "Enter hourly pay rate: 17.55\n",
      "\n",
      "Employee Information\n",
      "Name: Travis Judd\n",
      "Employee Number: 1245\n",
      "Shift Number: 1\n",
      "Hourly Pay Rate: 17.55\n"
     ]
    }
   ],
   "source": [
    "class Employee:\n",
    "    def __init__(self,employee_name,employee_number):\n",
    "        self.employee_name=employee_name\n",
    "        self.employee_number=employee_number\n",
    "        \n",
    "    # get acessors and mutators\n",
    "    def get_employee_name(self):\n",
    "        return self.employee_name\n",
    "    def set_employee_name(self,employee_name):\n",
    "        self.employee_name=employee_name\n",
    "    \n",
    "    def get_employee_number(self):\n",
    "        return self.employee_number\n",
    "    def set_employee_number(self,employee_number):\n",
    "        self.employee_number=employee_number\n",
    "        \n",
    "        \n",
    "# create subclass\n",
    "class ProductionWorker(Employee):\n",
    "    def __init__(self,employee_name,employee_number,shift_number,hourly_pay_rate):\n",
    "        super().__init__(employee_name,employee_number)\n",
    "        self.shift_number=shift_number\n",
    "        self.hourly_pay_rate=hourly_pay_rate\n",
    "    \n",
    "    # get acessors and mutator methods\n",
    "    def get_shift_number(self):\n",
    "        return self.shift_number\n",
    "    def set_shift_number(self,shift_number):\n",
    "        self.shift_number=shift_number\n",
    "        \n",
    "    def get_hourly_pay_rate(self):\n",
    "        return self.hourly_pay_rate\n",
    "    def set_hourly_pay_rate(self,hourly_pay_rate):\n",
    "        self.hourly_pay_rate=hourly_pay_rate\n",
    "        \n",
    "def main():\n",
    "    \n",
    "    # write a program that creates an object of the ProductionWorker class\n",
    "    name=input('Enter employee name: ')\n",
    "    employee_number=input('Enter employee number: ')\n",
    "    shift_number=int(input('Enter shift number (1 for day,2 for night): '))\n",
    "    pay_rate=float(input('Enter hourly pay rate: '))\n",
    "    \n",
    "    # create productionWorker object\n",
    "    worker=ProductionWorker(name,employee_number,shift_number,pay_rate)\n",
    "    \n",
    "    # display data\n",
    "    print('\\nEmployee Information')\n",
    "    print('Name:',worker.get_employee_name())\n",
    "    print('Employee Number:',worker.get_employee_number())\n",
    "    print('Shift Number:',worker.get_shift_number())\n",
    "    print('Hourly Pay Rate:',worker.get_hourly_pay_rate())\n",
    "    \n",
    "if __name__=='__main__':\n",
    "    main()"
   ]
  },
  {
   "cell_type": "markdown",
   "id": "3d4521b9",
   "metadata": {},
   "source": [
    "### Programming Exercise Question 3\n",
    "In this exercise I am asked to create a Person class and a customer class. I first start by creating the Person class. I use the init funtion and get name,address and phone_number. I then create the display_info funtion to display the info to the user. I then create the Customer subclass and add customer number and if they are on the mailing list. I use 'super()' again to refrence the Person class. I then add the customer number and if they are on the mailimg list. I use a boolean expression inside the print statement. If true then print 'yes' if Not True then print 'no'. I then create the main funtion. I create a customer object to assign all the info from the user. I then call the display_info function to display customer information. "
   ]
  },
  {
   "cell_type": "code",
   "execution_count": 3,
   "id": "f77db8dc",
   "metadata": {},
   "outputs": [
    {
     "name": "stdout",
     "output_type": "stream",
     "text": [
      "Customer Information:\n",
      "Name: Travis Judd\n",
      "Address: 123 Main St\n",
      "Phone Number 517-852-7842\n",
      "Customer Number: 5478\n",
      "On Mailing List: Yes\n"
     ]
    }
   ],
   "source": [
    "class Person:\n",
    "    def __init__(self,name,address,phone_number):\n",
    "        self.name=name\n",
    "        self.address=address\n",
    "        self.phone_number=phone_number\n",
    "    \n",
    "    # use display_info method to show info to user\n",
    "    def display_info(self):\n",
    "        print(f'Name: {self.name}')\n",
    "        print(f'Address: {self.address}')\n",
    "        print(f'Phone Number {self.phone_number}')\n",
    "        \n",
    "# create Customer subclass to get more specific info\n",
    "class Customer(Person):\n",
    "    def __init__(self,name,address,phone_number,customer_number,on_mailing_list):\n",
    "        super().__init__(name,address,phone_number)\n",
    "        self.customer_number=customer_number\n",
    "        self.on_mailing_list=on_mailing_list\n",
    "        \n",
    "    # add data to display_info funtion\n",
    "    def display_info(self):\n",
    "        super().display_info()\n",
    "        print(f'Customer Number: {self.customer_number}')\n",
    "        # use boolean expression in a print statement to determine if customer is on mailing list\n",
    "        print(f'On Mailing List: {\"Yes\" if self.on_mailing_list else \"No\"}')\n",
    "\n",
    "def main():\n",
    "    # create customer object\n",
    "    customer=Customer('Travis Judd','123 Main St','517-852-7842','5478',True)\n",
    "    \n",
    "    # display customer info\n",
    "    print('Customer Information:')\n",
    "    customer.display_info()\n",
    "        \n",
    "# call Main\n",
    "if __name__=='__main__':\n",
    "    main()"
   ]
  },
  {
   "cell_type": "code",
   "execution_count": null,
   "id": "43d2c96b",
   "metadata": {},
   "outputs": [],
   "source": []
  }
 ],
 "metadata": {
  "kernelspec": {
   "display_name": "Python 3 (ipykernel)",
   "language": "python",
   "name": "python3"
  },
  "language_info": {
   "codemirror_mode": {
    "name": "ipython",
    "version": 3
   },
   "file_extension": ".py",
   "mimetype": "text/x-python",
   "name": "python",
   "nbconvert_exporter": "python",
   "pygments_lexer": "ipython3",
   "version": "3.11.4"
  }
 },
 "nbformat": 4,
 "nbformat_minor": 5
}
